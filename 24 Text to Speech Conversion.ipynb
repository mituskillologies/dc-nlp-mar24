{
 "cells": [
  {
   "cell_type": "markdown",
   "id": "4e00caeb-3387-4895-a278-cda1554b425b",
   "metadata": {},
   "source": [
    "##### Install libraries"
   ]
  },
  {
   "cell_type": "code",
   "execution_count": 2,
   "id": "13d740d6-44f6-4fc0-8131-0100c6c0cb59",
   "metadata": {},
   "outputs": [
    {
     "name": "stdout",
     "output_type": "stream",
     "text": [
      "Defaulting to user installation because normal site-packages is not writeable\n",
      "Requirement already satisfied: gtts in /home/mitu/.local/lib/python3.10/site-packages (2.5.1)\n",
      "Requirement already satisfied: playsound in /home/mitu/.local/lib/python3.10/site-packages (1.3.0)\n",
      "Requirement already satisfied: requests<3,>=2.27 in /usr/local/lib/python3.10/dist-packages (from gtts) (2.31.0)\n",
      "Requirement already satisfied: click<8.2,>=7.1 in /usr/lib/python3/dist-packages (from gtts) (8.0.3)\n",
      "Requirement already satisfied: charset-normalizer<4,>=2 in /usr/local/lib/python3.10/dist-packages (from requests<3,>=2.27->gtts) (3.3.2)\n",
      "Requirement already satisfied: idna<4,>=2.5 in /home/mitu/.local/lib/python3.10/site-packages (from requests<3,>=2.27->gtts) (2.10)\n",
      "Requirement already satisfied: urllib3<3,>=1.21.1 in /usr/lib/python3/dist-packages (from requests<3,>=2.27->gtts) (1.26.5)\n",
      "Requirement already satisfied: certifi>=2017.4.17 in /usr/lib/python3/dist-packages (from requests<3,>=2.27->gtts) (2020.6.20)\n",
      "Note: you may need to restart the kernel to use updated packages.\n"
     ]
    }
   ],
   "source": [
    "pip install gtts playsound"
   ]
  },
  {
   "cell_type": "markdown",
   "id": "1b7a72e8-c670-4f4b-8037-bf5e2b5b9a5d",
   "metadata": {},
   "source": [
    "##### Import the libraries"
   ]
  },
  {
   "cell_type": "code",
   "execution_count": 5,
   "id": "52148646-8efa-4948-b0ce-0e4fb8cdb189",
   "metadata": {},
   "outputs": [],
   "source": [
    "from gtts import gTTS                 # class\n",
    "from playsound import playsound       # method"
   ]
  },
  {
   "cell_type": "code",
   "execution_count": 8,
   "id": "e5f84204-cdbd-411e-9412-26a8ffcf13ef",
   "metadata": {},
   "outputs": [],
   "source": [
    "tts = gTTS(text='Hello friends! How are you? Welcome to Python Programming.', lang='en')"
   ]
  },
  {
   "cell_type": "code",
   "execution_count": 11,
   "id": "7ce58795-f2ef-4540-b6fb-565fff340b3c",
   "metadata": {},
   "outputs": [],
   "source": [
    "tts.save('myvoice.mp3')\n",
    "playsound('myvoice.mp3')"
   ]
  },
  {
   "cell_type": "code",
   "execution_count": 12,
   "id": "d6362e6e-7fb0-4140-87e0-865e9764ba60",
   "metadata": {},
   "outputs": [],
   "source": [
    "tts = gTTS(text='The natural language processing and computational linguistics is made easy using Python Programming language.', lang='en')"
   ]
  },
  {
   "cell_type": "code",
   "execution_count": 13,
   "id": "8ae1c59a-3f42-4b98-8431-715a0463e60e",
   "metadata": {},
   "outputs": [],
   "source": [
    "tts.save('myvoice.mp3')\n",
    "playsound('myvoice.mp3')"
   ]
  },
  {
   "cell_type": "code",
   "execution_count": 14,
   "id": "208631f0-81f2-4674-bfd8-c4d8a33a6583",
   "metadata": {},
   "outputs": [],
   "source": [
    "tts = gTTS(text='नमस्कार मित्रांनो, आज आपण पायथॉन शिकुयात!', lang='mr')"
   ]
  },
  {
   "cell_type": "code",
   "execution_count": 15,
   "id": "8806e5b1-35c1-4e61-8b29-30a69cfdade6",
   "metadata": {},
   "outputs": [],
   "source": [
    "tts.save('myvoice.mp3')\n",
    "playsound('myvoice.mp3')"
   ]
  },
  {
   "cell_type": "code",
   "execution_count": null,
   "id": "9c7c0cac-b421-4ba9-9c58-0dc98dce1962",
   "metadata": {},
   "outputs": [],
   "source": []
  }
 ],
 "metadata": {
  "kernelspec": {
   "display_name": "Python 3 (ipykernel)",
   "language": "python",
   "name": "python3"
  },
  "language_info": {
   "codemirror_mode": {
    "name": "ipython",
    "version": 3
   },
   "file_extension": ".py",
   "mimetype": "text/x-python",
   "name": "python",
   "nbconvert_exporter": "python",
   "pygments_lexer": "ipython3",
   "version": "3.10.12"
  }
 },
 "nbformat": 4,
 "nbformat_minor": 5
}
