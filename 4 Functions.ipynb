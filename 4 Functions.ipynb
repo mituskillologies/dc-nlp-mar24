{
 "cells": [
  {
   "cell_type": "markdown",
   "id": "ae4e5b2e-cbdf-4238-8079-842947937257",
   "metadata": {},
   "source": [
    "##### Basic Functions"
   ]
  },
  {
   "cell_type": "code",
   "execution_count": 2,
   "id": "bfe72798-ec6c-4f6d-94d0-5ec0ff4368f9",
   "metadata": {},
   "outputs": [],
   "source": [
    "# Function Definition\n",
    "def show():\n",
    "    print('Hello World')"
   ]
  },
  {
   "cell_type": "code",
   "execution_count": 3,
   "id": "2f04aad2-741d-4c5b-a9b9-ec43852bfcac",
   "metadata": {},
   "outputs": [
    {
     "name": "stdout",
     "output_type": "stream",
     "text": [
      "Hello World\n"
     ]
    }
   ],
   "source": [
    "# Function Call\n",
    "show()"
   ]
  },
  {
   "cell_type": "code",
   "execution_count": 4,
   "id": "f15fb3cc-927f-457e-b5a3-ac667dbc13b3",
   "metadata": {},
   "outputs": [
    {
     "name": "stdout",
     "output_type": "stream",
     "text": [
      "Hello World\n",
      "Hello World\n",
      "Hello World\n"
     ]
    }
   ],
   "source": [
    "show()\n",
    "show()\n",
    "show()"
   ]
  },
  {
   "cell_type": "code",
   "execution_count": 5,
   "id": "4524170d-1532-4bad-8a61-0e63e6be6970",
   "metadata": {},
   "outputs": [],
   "source": [
    "def show():\n",
    "    print('Hello World')\n",
    "    print('Welcome!')\n",
    "    print('Good Bye...')"
   ]
  },
  {
   "cell_type": "code",
   "execution_count": 6,
   "id": "7abb9381-7b50-4203-96a5-57504f530fcd",
   "metadata": {},
   "outputs": [
    {
     "name": "stdout",
     "output_type": "stream",
     "text": [
      "Hello World\n",
      "Welcome!\n",
      "Good Bye...\n",
      "Hello World\n",
      "Welcome!\n",
      "Good Bye...\n"
     ]
    }
   ],
   "source": [
    "show()\n",
    "show()"
   ]
  },
  {
   "cell_type": "markdown",
   "id": "a15ccf65-12c2-4895-bee8-171652240d11",
   "metadata": {},
   "source": [
    "##### Parameterized Functions"
   ]
  },
  {
   "cell_type": "code",
   "execution_count": 8,
   "id": "03f25def-b069-4fc1-8cf0-77d4a2ba28ff",
   "metadata": {},
   "outputs": [],
   "source": [
    "def square(n):  # n -> parameter / argument\n",
    "    sq = n * n\n",
    "    print('Square is: ', sq)"
   ]
  },
  {
   "cell_type": "code",
   "execution_count": 9,
   "id": "75f5936c-67e2-4528-b357-cc222ede2111",
   "metadata": {},
   "outputs": [
    {
     "name": "stdout",
     "output_type": "stream",
     "text": [
      "Square is:  25\n"
     ]
    }
   ],
   "source": [
    "square(5)"
   ]
  },
  {
   "cell_type": "code",
   "execution_count": 10,
   "id": "93097831-8e06-4ee7-bd48-b7b460004a66",
   "metadata": {},
   "outputs": [
    {
     "name": "stdout",
     "output_type": "stream",
     "text": [
      "Square is:  64\n"
     ]
    }
   ],
   "source": [
    "square(8)"
   ]
  },
  {
   "cell_type": "code",
   "execution_count": 11,
   "id": "7b20e77b-866f-4d34-b5bd-387387cfbdec",
   "metadata": {},
   "outputs": [],
   "source": [
    "def convert(s):\n",
    "    print('Lower:', s.lower())\n",
    "    print('Upper:', s.upper())\n",
    "    print('Title:', s.title())"
   ]
  },
  {
   "cell_type": "code",
   "execution_count": 12,
   "id": "3a88bcb1-13c4-48fd-a2dd-5861a4cdc7cd",
   "metadata": {},
   "outputs": [
    {
     "name": "stdout",
     "output_type": "stream",
     "text": [
      "Lower: tushar\n",
      "Upper: TUSHAR\n",
      "Title: Tushar\n"
     ]
    }
   ],
   "source": [
    "convert('TuShAr')"
   ]
  },
  {
   "cell_type": "code",
   "execution_count": 13,
   "id": "be17266e-b414-4137-9426-06fbe5ea4233",
   "metadata": {},
   "outputs": [
    {
     "name": "stdout",
     "output_type": "stream",
     "text": [
      "Lower: india\n",
      "Upper: INDIA\n",
      "Title: India\n"
     ]
    }
   ],
   "source": [
    "convert('INDIA')"
   ]
  },
  {
   "cell_type": "code",
   "execution_count": 16,
   "id": "e1918f80-c31c-471e-ad28-8dfba441bf89",
   "metadata": {},
   "outputs": [],
   "source": [
    "def larger(x, y):\n",
    "    if x > y:\n",
    "        print(x,'is larger.')\n",
    "    else:\n",
    "        print(y,'is larger.')"
   ]
  },
  {
   "cell_type": "code",
   "execution_count": 17,
   "id": "c9472aa8-f860-4328-8f56-cc0110fb2c7c",
   "metadata": {},
   "outputs": [
    {
     "name": "stdout",
     "output_type": "stream",
     "text": [
      "89 is larger.\n"
     ]
    }
   ],
   "source": [
    "larger(56, 89)"
   ]
  },
  {
   "cell_type": "code",
   "execution_count": 18,
   "id": "8f23f6e2-3e58-4942-b52c-37c86058c225",
   "metadata": {},
   "outputs": [
    {
     "name": "stdout",
     "output_type": "stream",
     "text": [
      "78.33 is larger.\n"
     ]
    }
   ],
   "source": [
    "larger(78.33, 52.12)"
   ]
  },
  {
   "cell_type": "markdown",
   "id": "71269b34-9b2d-4c11-97b8-fda94f76a076",
   "metadata": {},
   "source": [
    "##### Function Returning Values"
   ]
  },
  {
   "cell_type": "code",
   "execution_count": 20,
   "id": "f70cb2df-c32d-4674-89ed-9c4cba93539c",
   "metadata": {},
   "outputs": [],
   "source": [
    "def square(num):\n",
    "    sq = num ** 2\n",
    "    return sq"
   ]
  },
  {
   "cell_type": "code",
   "execution_count": 21,
   "id": "9605e253-46cc-4cc0-9f63-6aa6df14055b",
   "metadata": {},
   "outputs": [],
   "source": [
    "x = square(4)"
   ]
  },
  {
   "cell_type": "code",
   "execution_count": 22,
   "id": "bef2502f-a67c-4a2b-b58f-fb400c3d2d07",
   "metadata": {},
   "outputs": [
    {
     "name": "stdout",
     "output_type": "stream",
     "text": [
      "Square is: 16\n"
     ]
    }
   ],
   "source": [
    "print('Square is:', x)"
   ]
  },
  {
   "cell_type": "code",
   "execution_count": 23,
   "id": "9df7c7c0-8345-4229-936b-0c9381c10f98",
   "metadata": {},
   "outputs": [
    {
     "name": "stdout",
     "output_type": "stream",
     "text": [
      "Square is: 9\n"
     ]
    }
   ],
   "source": [
    "print('Square is:', square(3))"
   ]
  },
  {
   "cell_type": "code",
   "execution_count": 24,
   "id": "75f981ba-51a0-4a36-b61a-7b4143b7e57b",
   "metadata": {},
   "outputs": [
    {
     "data": {
      "text/plain": [
       "27"
      ]
     },
     "execution_count": 24,
     "metadata": {},
     "output_type": "execute_result"
    }
   ],
   "source": [
    "3 * square(3)"
   ]
  },
  {
   "cell_type": "code",
   "execution_count": 25,
   "id": "42586925-53b3-4f92-8da6-5ae8a695717c",
   "metadata": {},
   "outputs": [],
   "source": [
    "def larger(x, y):\n",
    "    if x > y:\n",
    "        return x\n",
    "    else:\n",
    "        return y"
   ]
  },
  {
   "cell_type": "code",
   "execution_count": 26,
   "id": "1d606c48-7579-45ba-a912-ceab03844d80",
   "metadata": {},
   "outputs": [
    {
     "name": "stdout",
     "output_type": "stream",
     "text": [
      "6\n"
     ]
    }
   ],
   "source": [
    "print(larger(4,6))"
   ]
  },
  {
   "cell_type": "markdown",
   "id": "a44f97a6-05bf-4d78-b0f1-43ff8c29219d",
   "metadata": {},
   "source": [
    "##### Return multiple values"
   ]
  },
  {
   "cell_type": "code",
   "execution_count": 28,
   "id": "801e04b7-407e-4196-aafe-2c27ed3057fb",
   "metadata": {},
   "outputs": [],
   "source": [
    "def calc(n):\n",
    "    sq = n * n\n",
    "    cu = n ** 3\n",
    "    return sq, cu"
   ]
  },
  {
   "cell_type": "code",
   "execution_count": 29,
   "id": "babafde0-5945-43f1-a189-8842c0c0118f",
   "metadata": {},
   "outputs": [
    {
     "data": {
      "text/plain": [
       "(36, 216)"
      ]
     },
     "execution_count": 29,
     "metadata": {},
     "output_type": "execute_result"
    }
   ],
   "source": [
    "calc(6)"
   ]
  },
  {
   "cell_type": "code",
   "execution_count": 31,
   "id": "c8e226cd-fbdb-4029-b826-7e07c36bb27f",
   "metadata": {},
   "outputs": [],
   "source": [
    "# Write a function-> isPositive() to pass a number as parameter and print \n",
    "# True if number is positive else print negative"
   ]
  },
  {
   "cell_type": "code",
   "execution_count": 32,
   "id": "35e07653-1872-496c-bff1-0b5bc2b60739",
   "metadata": {},
   "outputs": [],
   "source": [
    "def isPositive(n):\n",
    "    if n > 0:\n",
    "        return True\n",
    "    else:\n",
    "        return False"
   ]
  },
  {
   "cell_type": "code",
   "execution_count": 33,
   "id": "66e31032-d637-4197-bb52-6ef0c5bffdd5",
   "metadata": {},
   "outputs": [
    {
     "data": {
      "text/plain": [
       "True"
      ]
     },
     "execution_count": 33,
     "metadata": {},
     "output_type": "execute_result"
    }
   ],
   "source": [
    "isPositive(45)"
   ]
  },
  {
   "cell_type": "code",
   "execution_count": 34,
   "id": "7b019864-5805-4312-ab07-223bfdea26c7",
   "metadata": {},
   "outputs": [
    {
     "data": {
      "text/plain": [
       "False"
      ]
     },
     "execution_count": 34,
     "metadata": {},
     "output_type": "execute_result"
    }
   ],
   "source": [
    "isPositive(-28)"
   ]
  },
  {
   "cell_type": "code",
   "execution_count": 35,
   "id": "07328ed1-daca-4fbf-adbe-87c13bfe526a",
   "metadata": {},
   "outputs": [],
   "source": [
    "# Write a function to pass the distance in kilometers as parameter\n",
    "# and return distance in miles as output\n",
    "\n",
    "# miles = kilometers / 1.609"
   ]
  },
  {
   "cell_type": "code",
   "execution_count": 38,
   "id": "f2a3394f-0a4a-4295-b25b-13a5f4135026",
   "metadata": {},
   "outputs": [],
   "source": [
    "def miles(distance):\n",
    "    mi = distance / 1.609\n",
    "    return mi"
   ]
  },
  {
   "cell_type": "code",
   "execution_count": 40,
   "id": "20827237-ceb2-4e11-9074-74246bba0be2",
   "metadata": {},
   "outputs": [
    {
     "data": {
      "text/plain": [
       "124.30080795525171"
      ]
     },
     "execution_count": 40,
     "metadata": {},
     "output_type": "execute_result"
    }
   ],
   "source": [
    "miles(200)"
   ]
  },
  {
   "cell_type": "markdown",
   "id": "6237da33-c7f9-4247-bee6-b5f1a81e4c4c",
   "metadata": {},
   "source": [
    "##### Default Parameters / Keyword Arguments"
   ]
  },
  {
   "cell_type": "code",
   "execution_count": 42,
   "id": "1fb35eef-789c-4383-ba73-d93be03f1a0c",
   "metadata": {},
   "outputs": [],
   "source": [
    "def add(x=5, y=2, z=3):\n",
    "    a = x + y + z\n",
    "    return a"
   ]
  },
  {
   "cell_type": "code",
   "execution_count": 51,
   "id": "82e8bb10-b604-4acb-b7b4-2d5fd1ff3d8e",
   "metadata": {},
   "outputs": [
    {
     "name": "stdout",
     "output_type": "stream",
     "text": [
      "Result-1: 11\n",
      "Result-2: 8\n",
      "Result-3: 9\n",
      "Result-4: 10\n",
      "Result-5: 17\n",
      "Result-1: 12\n"
     ]
    }
   ],
   "source": [
    "print('Result-1:', add(4,1,6))\n",
    "print('Result-2:', add(4,1))\n",
    "print('Result-3:', add(4))\n",
    "print('Result-4:', add())\n",
    "print('Result-5:', add(y=6, z=9, x=2))\n",
    "print('Result-1:', add(z=5))"
   ]
  },
  {
   "cell_type": "code",
   "execution_count": 52,
   "id": "67c96e57-5746-4871-86b3-7cd71fefc91d",
   "metadata": {},
   "outputs": [],
   "source": [
    "x = [4,6,5,8,7,2,9]"
   ]
  },
  {
   "cell_type": "code",
   "execution_count": 53,
   "id": "3c53bcb5-1225-400a-9456-31979ff3bc6f",
   "metadata": {},
   "outputs": [
    {
     "data": {
      "text/plain": [
       "[2, 4, 5, 6, 7, 8, 9]"
      ]
     },
     "execution_count": 53,
     "metadata": {},
     "output_type": "execute_result"
    }
   ],
   "source": [
    "sorted(x)"
   ]
  },
  {
   "cell_type": "code",
   "execution_count": 54,
   "id": "04573c52-1dac-4c20-b4e3-56a8ccd806a0",
   "metadata": {},
   "outputs": [
    {
     "name": "stdout",
     "output_type": "stream",
     "text": [
      "Help on built-in function sorted in module builtins:\n",
      "\n",
      "sorted(iterable, /, *, key=None, reverse=False)\n",
      "    Return a new list containing all items from the iterable in ascending order.\n",
      "    \n",
      "    A custom key function can be supplied to customize the sort order, and the\n",
      "    reverse flag can be set to request the result in descending order.\n",
      "\n"
     ]
    }
   ],
   "source": [
    "help(sorted)"
   ]
  },
  {
   "cell_type": "code",
   "execution_count": 55,
   "id": "3bba347b-55e6-4f88-b2b8-091932c05c98",
   "metadata": {},
   "outputs": [
    {
     "data": {
      "text/plain": [
       "[9, 8, 7, 6, 5, 4, 2]"
      ]
     },
     "execution_count": 55,
     "metadata": {},
     "output_type": "execute_result"
    }
   ],
   "source": [
    "sorted(x, reverse=True)"
   ]
  },
  {
   "cell_type": "code",
   "execution_count": 56,
   "id": "1167df53-5f6e-42be-97a2-7448cef5ec9b",
   "metadata": {},
   "outputs": [],
   "source": [
    "x, y = 45, 23"
   ]
  },
  {
   "cell_type": "code",
   "execution_count": 57,
   "id": "b7107ad3-4957-4ff7-8134-0f7e792e046c",
   "metadata": {},
   "outputs": [
    {
     "name": "stdout",
     "output_type": "stream",
     "text": [
      "45 23\n"
     ]
    }
   ],
   "source": [
    "print(x, y)"
   ]
  },
  {
   "cell_type": "code",
   "execution_count": 58,
   "id": "a1f3c1a4-9c50-43df-8383-536f60c12f1f",
   "metadata": {},
   "outputs": [
    {
     "name": "stdout",
     "output_type": "stream",
     "text": [
      "Help on built-in function print in module builtins:\n",
      "\n",
      "print(...)\n",
      "    print(value, ..., sep=' ', end='\\n', file=sys.stdout, flush=False)\n",
      "    \n",
      "    Prints the values to a stream, or to sys.stdout by default.\n",
      "    Optional keyword arguments:\n",
      "    file:  a file-like object (stream); defaults to the current sys.stdout.\n",
      "    sep:   string inserted between values, default a space.\n",
      "    end:   string appended after the last value, default a newline.\n",
      "    flush: whether to forcibly flush the stream.\n",
      "\n"
     ]
    }
   ],
   "source": [
    "help(print)"
   ]
  },
  {
   "cell_type": "code",
   "execution_count": 59,
   "id": "75bb8166-697c-434e-a603-0f12ca12bba1",
   "metadata": {},
   "outputs": [
    {
     "name": "stdout",
     "output_type": "stream",
     "text": [
      "45_23\n"
     ]
    }
   ],
   "source": [
    "print(x, y, sep='_')"
   ]
  },
  {
   "cell_type": "code",
   "execution_count": 60,
   "id": "ff8156c0-e7a9-4a14-b836-613fddd70975",
   "metadata": {},
   "outputs": [],
   "source": [
    "x,y,z,w=7,4,3,5"
   ]
  },
  {
   "cell_type": "code",
   "execution_count": 61,
   "id": "7dbcb936-2a39-4945-b41a-dbac112c5e10",
   "metadata": {},
   "outputs": [
    {
     "name": "stdout",
     "output_type": "stream",
     "text": [
      "7_4_3_5\n"
     ]
    }
   ],
   "source": [
    "print(x, y, z, w, sep='_')"
   ]
  },
  {
   "cell_type": "markdown",
   "id": "2ec64da2-ca3e-449f-ace2-3c49816eb6ec",
   "metadata": {},
   "source": [
    "##### lambda functions"
   ]
  },
  {
   "cell_type": "code",
   "execution_count": 2,
   "id": "ad7f827d-8786-4857-b5c4-2c11c91b0dfd",
   "metadata": {},
   "outputs": [],
   "source": [
    "square = lambda x : x * x"
   ]
  },
  {
   "cell_type": "code",
   "execution_count": 3,
   "id": "248b1cf5-cd4a-4aee-a367-6b7f6d72a62d",
   "metadata": {},
   "outputs": [
    {
     "data": {
      "text/plain": [
       "25"
      ]
     },
     "execution_count": 3,
     "metadata": {},
     "output_type": "execute_result"
    }
   ],
   "source": [
    "square(5)"
   ]
  },
  {
   "cell_type": "markdown",
   "id": "7a0d6ec3-8a2f-4c13-b50e-4c74c6d3ff91",
   "metadata": {},
   "source": [
    "##### lambda - map function"
   ]
  },
  {
   "cell_type": "code",
   "execution_count": 5,
   "id": "ce14e7fe-51f8-4a5b-ac60-fcc3b588a101",
   "metadata": {},
   "outputs": [],
   "source": [
    "num = [56,34,13,58,51,47,30]"
   ]
  },
  {
   "cell_type": "code",
   "execution_count": 6,
   "id": "d9ffef74-4cb6-4d24-affb-bd1327ceecca",
   "metadata": {},
   "outputs": [],
   "source": [
    "new = map(lambda x : x / 2, num)"
   ]
  },
  {
   "cell_type": "code",
   "execution_count": 8,
   "id": "62e5bcc4-0630-4045-a13c-f181f3674f0d",
   "metadata": {},
   "outputs": [
    {
     "data": {
      "text/plain": [
       "[28.0, 17.0, 6.5, 29.0, 25.5, 23.5, 15.0]"
      ]
     },
     "execution_count": 8,
     "metadata": {},
     "output_type": "execute_result"
    }
   ],
   "source": [
    "list(new)"
   ]
  },
  {
   "cell_type": "code",
   "execution_count": 9,
   "id": "a96ed972-fc9a-4362-b38f-4f9519b4c05e",
   "metadata": {},
   "outputs": [
    {
     "data": {
      "text/plain": [
       "[3136, 1156, 169, 3364, 2601, 2209, 900]"
      ]
     },
     "execution_count": 9,
     "metadata": {},
     "output_type": "execute_result"
    }
   ],
   "source": [
    "new = map(lambda x : x ** 2, num)\n",
    "list(new)"
   ]
  },
  {
   "cell_type": "markdown",
   "id": "c671fa53-76a0-483e-a732-cc394fe7580c",
   "metadata": {},
   "source": [
    "##### lambda - filter function"
   ]
  },
  {
   "cell_type": "code",
   "execution_count": 11,
   "id": "3096fe60-7318-42c8-adfe-f426d6c7f744",
   "metadata": {},
   "outputs": [
    {
     "data": {
      "text/plain": [
       "[56, 34, 13, 58, 51, 47, 30]"
      ]
     },
     "execution_count": 11,
     "metadata": {},
     "output_type": "execute_result"
    }
   ],
   "source": [
    "num"
   ]
  },
  {
   "cell_type": "code",
   "execution_count": 12,
   "id": "ac5142f6-b75c-45b7-bafb-40f937f98f23",
   "metadata": {},
   "outputs": [],
   "source": [
    "new = filter(lambda x: x > 40, num)"
   ]
  },
  {
   "cell_type": "code",
   "execution_count": 13,
   "id": "7304fa9e-6931-4581-8352-4a88c9006034",
   "metadata": {},
   "outputs": [
    {
     "data": {
      "text/plain": [
       "[56, 58, 51, 47]"
      ]
     },
     "execution_count": 13,
     "metadata": {},
     "output_type": "execute_result"
    }
   ],
   "source": [
    "list(new)"
   ]
  },
  {
   "cell_type": "code",
   "execution_count": 14,
   "id": "02521ae1-f07a-4458-8a38-896729f46897",
   "metadata": {},
   "outputs": [
    {
     "data": {
      "text/plain": [
       "[13, 51, 47]"
      ]
     },
     "execution_count": 14,
     "metadata": {},
     "output_type": "execute_result"
    }
   ],
   "source": [
    "new = filter(lambda x: x % 2 == 1, num)\n",
    "list(new)"
   ]
  },
  {
   "cell_type": "code",
   "execution_count": 15,
   "id": "750551d3-452b-42d2-b35b-da7880f1c324",
   "metadata": {},
   "outputs": [
    {
     "data": {
      "text/plain": [
       "[56, 34, 58, 30]"
      ]
     },
     "execution_count": 15,
     "metadata": {},
     "output_type": "execute_result"
    }
   ],
   "source": [
    "new = filter(lambda x: x % 2 == 0, num)\n",
    "list(new)"
   ]
  },
  {
   "cell_type": "code",
   "execution_count": null,
   "id": "a0229ea9-07c2-47f4-b242-48d11335588d",
   "metadata": {},
   "outputs": [],
   "source": []
  }
 ],
 "metadata": {
  "kernelspec": {
   "display_name": "Python 3 (ipykernel)",
   "language": "python",
   "name": "python3"
  },
  "language_info": {
   "codemirror_mode": {
    "name": "ipython",
    "version": 3
   },
   "file_extension": ".py",
   "mimetype": "text/x-python",
   "name": "python",
   "nbconvert_exporter": "python",
   "pygments_lexer": "ipython3",
   "version": "3.10.12"
  }
 },
 "nbformat": 4,
 "nbformat_minor": 5
}
