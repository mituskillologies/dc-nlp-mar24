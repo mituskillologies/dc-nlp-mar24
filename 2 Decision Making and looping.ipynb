{
 "cells": [
  {
   "cell_type": "code",
   "execution_count": 2,
   "id": "9672b9ea-79ee-43ab-b8ad-c601bb1987fe",
   "metadata": {},
   "outputs": [
    {
     "name": "stdin",
     "output_type": "stream",
     "text": [
      "Enter the number:  -45\n"
     ]
    }
   ],
   "source": [
    "# Write a program to check the number is positive or negative\n",
    "\n",
    "num = int(input('Enter the number: '))\n",
    "if num > 0:\n",
    "    print('Number is positive!')\n",
    "    "
   ]
  },
  {
   "cell_type": "code",
   "execution_count": 4,
   "id": "c2ac6de2-1eb2-453c-ba78-74ce9f9ffdb9",
   "metadata": {},
   "outputs": [
    {
     "name": "stdin",
     "output_type": "stream",
     "text": [
      "Enter the number:  0\n"
     ]
    },
    {
     "name": "stdout",
     "output_type": "stream",
     "text": [
      "Number is negative!\n"
     ]
    }
   ],
   "source": [
    "# Write a program to check the number is positive or negative\n",
    "\n",
    "num = int(input('Enter the number: '))\n",
    "if num > 0:\n",
    "    print('Number is positive!')\n",
    "else:\n",
    "    print('Number is negative!')"
   ]
  },
  {
   "cell_type": "code",
   "execution_count": 6,
   "id": "2fbe05db-6a78-416c-bad6-f4e3825a5b72",
   "metadata": {},
   "outputs": [
    {
     "name": "stdin",
     "output_type": "stream",
     "text": [
      "Enter the number:  8\n"
     ]
    },
    {
     "name": "stdout",
     "output_type": "stream",
     "text": [
      "Number is positive!\n"
     ]
    }
   ],
   "source": [
    "# Write a program to check the number is positive or negative\n",
    "\n",
    "num = int(input('Enter the number: '))\n",
    "if num > 0:                     # Compulsory, Condition, Non-repeatable\n",
    "    print('Number is positive!')\n",
    "elif num == 0:                  # Optional, Condition, Repeatable\n",
    "    print('Number is ZERO!')\n",
    "else:                           # Optional, No-condition, Non-repeatable\n",
    "    print('Number is negative!')"
   ]
  },
  {
   "cell_type": "code",
   "execution_count": 9,
   "id": "0fa78e2d-778e-467e-9948-40dff520bee6",
   "metadata": {},
   "outputs": [
    {
     "name": "stdin",
     "output_type": "stream",
     "text": [
      "Enter the number:  89\n"
     ]
    },
    {
     "name": "stdout",
     "output_type": "stream",
     "text": [
      "Number is positive!\n",
      "Good Bye!\n",
      "Done!\n"
     ]
    }
   ],
   "source": [
    "# Write a program to check the number is positive or negative\n",
    "\n",
    "num = int(input('Enter the number: '))\n",
    "if num > 0:\n",
    "    print('Number is positive!')\n",
    "    print('Good Bye!')\n",
    "else:\n",
    "    print('Number is negative!')\n",
    "print('Done!')"
   ]
  },
  {
   "cell_type": "code",
   "execution_count": 10,
   "id": "c93cf375-60c0-497e-b895-07a341e82d6b",
   "metadata": {},
   "outputs": [
    {
     "data": {
      "text/plain": [
       "0"
      ]
     },
     "execution_count": 10,
     "metadata": {},
     "output_type": "execute_result"
    }
   ],
   "source": [
    "# Write a program to check the number is odd or even?\n",
    "\n",
    "12 % 2 "
   ]
  },
  {
   "cell_type": "code",
   "execution_count": 11,
   "id": "6ffebb25-a0db-4079-aac9-ce16c25d8e96",
   "metadata": {},
   "outputs": [
    {
     "data": {
      "text/plain": [
       "1"
      ]
     },
     "execution_count": 11,
     "metadata": {},
     "output_type": "execute_result"
    }
   ],
   "source": [
    "13 % 2"
   ]
  },
  {
   "cell_type": "code",
   "execution_count": 12,
   "id": "d2ce6568-1180-4cd4-8cbe-42fa1dee5987",
   "metadata": {},
   "outputs": [
    {
     "name": "stdin",
     "output_type": "stream",
     "text": [
      "Enter the number:  45\n"
     ]
    },
    {
     "name": "stdout",
     "output_type": "stream",
     "text": [
      "Number is Odd!\n"
     ]
    }
   ],
   "source": [
    "# Write a program to check the number is odd or even?\n",
    "\n",
    "num = int(input('Enter the number: '))\n",
    "if num % 2 == 0:\n",
    "    print('Number is Even!')\n",
    "else:\n",
    "    print('Number is Odd!')"
   ]
  },
  {
   "cell_type": "code",
   "execution_count": 15,
   "id": "337c1db4-95e9-4164-8b29-70d2c0e15c23",
   "metadata": {},
   "outputs": [
    {
     "name": "stdin",
     "output_type": "stream",
     "text": [
      "Enter the number:  123\n"
     ]
    },
    {
     "name": "stdout",
     "output_type": "stream",
     "text": [
      "Number is not in range!\n"
     ]
    }
   ],
   "source": [
    "# Write a program to check the number is between 40 to 100?\n",
    "\n",
    "num = int(input('Enter the number: '))\n",
    "if num >= 40:\n",
    "    if num <= 100:\n",
    "        print('Number is in the range')\n",
    "    else:\n",
    "        print('Number is not in range!')\n",
    "else:\n",
    "    print('Number is not in range!')"
   ]
  },
  {
   "cell_type": "code",
   "execution_count": 16,
   "id": "45c11501-04aa-46e1-902b-f33a472a4ed4",
   "metadata": {},
   "outputs": [
    {
     "name": "stdin",
     "output_type": "stream",
     "text": [
      "Enter the number:  78\n"
     ]
    },
    {
     "name": "stdout",
     "output_type": "stream",
     "text": [
      "Number is in the range\n"
     ]
    }
   ],
   "source": [
    "# Write a program to check the number is between 40 to 100?\n",
    "\n",
    "num = int(input('Enter the number: '))\n",
    "if num >= 40 and num <= 100:\n",
    "    print('Number is in the range')\n",
    "else:\n",
    "    print('Number is not in range!')"
   ]
  },
  {
   "cell_type": "code",
   "execution_count": 17,
   "id": "014597f7-2587-43ba-8a08-4c3708db4765",
   "metadata": {},
   "outputs": [
    {
     "name": "stdin",
     "output_type": "stream",
     "text": [
      "Enter the marks:  65\n"
     ]
    },
    {
     "name": "stdout",
     "output_type": "stream",
     "text": [
      "First Class!\n"
     ]
    }
   ],
   "source": [
    "# Read the marks and find the grade of student\n",
    "\n",
    "marks = float(input('Enter the marks: '))\n",
    "if marks >= 75:\n",
    "    print('Distinction!')\n",
    "elif marks >= 60:\n",
    "    print('First Class!')\n",
    "elif marks >= 50:\n",
    "    print('Second Class!')\n",
    "elif marks >= 40:\n",
    "    print('Pass Class!')\n",
    "else:\n",
    "    print('Failed!')"
   ]
  },
  {
   "cell_type": "markdown",
   "id": "3a703225-a110-4501-a70b-618dfb7ed9ba",
   "metadata": {},
   "source": [
    "Loops"
   ]
  },
  {
   "cell_type": "code",
   "execution_count": 19,
   "id": "e0fb1e9c-6dd9-4dde-8d63-cc2e8e5dcf6e",
   "metadata": {},
   "outputs": [
    {
     "name": "stdout",
     "output_type": "stream",
     "text": [
      "Tushar\n",
      "Tushar\n",
      "Tushar\n",
      "Tushar\n",
      "Tushar\n",
      "Tushar\n",
      "Tushar\n",
      "Tushar\n",
      "Tushar\n",
      "Tushar\n"
     ]
    }
   ],
   "source": [
    "# Print my name for 10 times\n",
    "count = 0\n",
    "while count < 10:\n",
    "    print('Tushar')\n",
    "    count = count + 1"
   ]
  },
  {
   "cell_type": "code",
   "execution_count": 22,
   "id": "73ffac89-dd64-47a3-9635-e6716466fa31",
   "metadata": {},
   "outputs": [
    {
     "name": "stdout",
     "output_type": "stream",
     "text": [
      "Addition is: 55\n"
     ]
    }
   ],
   "source": [
    "# Find the addition of first 10 natural numbers i.e. addition of 1 to 10\n",
    "\n",
    "add = 0\n",
    "num = 1\n",
    "while num <= 10:\n",
    "    add = add + num\n",
    "    num += 1    # num = num + 1\n",
    "\n",
    "print('Addition is:', add)"
   ]
  },
  {
   "cell_type": "code",
   "execution_count": 23,
   "id": "dd2cd9e4-c168-4608-9654-34ce56ed985d",
   "metadata": {},
   "outputs": [
    {
     "name": "stdout",
     "output_type": "stream",
     "text": [
      "Addition is: 100\n"
     ]
    }
   ],
   "source": [
    "# Find the addition of first 10 natural numbers i.e. addition of 1 to 10\n",
    "\n",
    "add = 0\n",
    "num = 1\n",
    "while num <= 20:\n",
    "    add = add + num\n",
    "    num += 2    # num = num + 1\n",
    "\n",
    "print('Addition is:', add)"
   ]
  },
  {
   "cell_type": "markdown",
   "id": "93379bad-2552-44aa-8115-905891bc53f0",
   "metadata": {},
   "source": [
    "For loop"
   ]
  },
  {
   "cell_type": "code",
   "execution_count": 24,
   "id": "23428af1-a241-4391-a38f-ab8d5d11f6e3",
   "metadata": {},
   "outputs": [
    {
     "name": "stdout",
     "output_type": "stream",
     "text": [
      "45\n",
      "21\n",
      "33\n",
      "67\n"
     ]
    }
   ],
   "source": [
    "for i in 45,21,33,67:\n",
    "    print(i)"
   ]
  },
  {
   "cell_type": "code",
   "execution_count": 25,
   "id": "4e2e7f4e-a154-4ffd-b946-19944d54cfd2",
   "metadata": {},
   "outputs": [
    {
     "name": "stdout",
     "output_type": "stream",
     "text": [
      "2025\n",
      "441\n",
      "1089\n",
      "4489\n"
     ]
    }
   ],
   "source": [
    "for i in 45,21,33,67:\n",
    "    print(i * i)"
   ]
  },
  {
   "cell_type": "code",
   "execution_count": 26,
   "id": "02444702-7e83-4cb5-bcf8-1b84b44bbce3",
   "metadata": {},
   "outputs": [
    {
     "name": "stdout",
     "output_type": "stream",
     "text": [
      "Pune\n",
      "56\n",
      "67.45\n",
      "12\n"
     ]
    }
   ],
   "source": [
    "for i in 'Pune',56,67.45,12:\n",
    "    print(i)"
   ]
  },
  {
   "cell_type": "code",
   "execution_count": 29,
   "id": "dd169c57-94cf-413d-811a-e3fc1dd4a04d",
   "metadata": {},
   "outputs": [
    {
     "data": {
      "text/plain": [
       "[0, 1, 2, 3, 4, 5, 6, 7, 8, 9]"
      ]
     },
     "execution_count": 29,
     "metadata": {},
     "output_type": "execute_result"
    }
   ],
   "source": [
    "list(range(10))"
   ]
  },
  {
   "cell_type": "code",
   "execution_count": 30,
   "id": "b357cca6-8029-4de8-8403-f39099b112e4",
   "metadata": {},
   "outputs": [
    {
     "data": {
      "text/plain": [
       "[4, 5, 6, 7, 8, 9]"
      ]
     },
     "execution_count": 30,
     "metadata": {},
     "output_type": "execute_result"
    }
   ],
   "source": [
    "list(range(4, 10))"
   ]
  },
  {
   "cell_type": "code",
   "execution_count": 32,
   "id": "5a685a52-3a16-435f-8c14-2d7d6455aa0c",
   "metadata": {},
   "outputs": [
    {
     "data": {
      "text/plain": [
       "[4, 6, 8, 10, 12, 14]"
      ]
     },
     "execution_count": 32,
     "metadata": {},
     "output_type": "execute_result"
    }
   ],
   "source": [
    "list(range(4,15,2))"
   ]
  },
  {
   "cell_type": "code",
   "execution_count": 33,
   "id": "ba87425b-2218-4009-a0e0-5f9fbd2bef20",
   "metadata": {},
   "outputs": [
    {
     "name": "stdout",
     "output_type": "stream",
     "text": [
      "Tushar\n",
      "Tushar\n",
      "Tushar\n",
      "Tushar\n",
      "Tushar\n",
      "Tushar\n",
      "Tushar\n",
      "Tushar\n",
      "Tushar\n",
      "Tushar\n"
     ]
    }
   ],
   "source": [
    "# Print my name for 10 times\n",
    "for n in range(10):\n",
    "    print('Tushar')"
   ]
  },
  {
   "cell_type": "code",
   "execution_count": 37,
   "id": "4656688c-a7bf-42b1-a4cc-4a0a30618e43",
   "metadata": {},
   "outputs": [
    {
     "name": "stdout",
     "output_type": "stream",
     "text": [
      "Addition is:  55\n"
     ]
    }
   ],
   "source": [
    "# Addition of first 10 natural numbers\n",
    "add = 0\n",
    "for n in range(1,11):\n",
    "    add = add + n\n",
    "\n",
    "print('Addition is: ', add)"
   ]
  },
  {
   "cell_type": "code",
   "execution_count": 38,
   "id": "7876ac7e-9c8b-4bbd-84db-8f70bcaccf86",
   "metadata": {},
   "outputs": [
    {
     "name": "stdout",
     "output_type": "stream",
     "text": [
      "Addition is:  100\n"
     ]
    }
   ],
   "source": [
    "# Addition of first 10 natural odd numbers\n",
    "add = 0\n",
    "for n in range(1,21,2):\n",
    "    add = add + n\n",
    "\n",
    "print('Addition is: ', add)"
   ]
  },
  {
   "cell_type": "markdown",
   "id": "bbcb9661-9911-4f2f-b30a-099d55f1721a",
   "metadata": {},
   "source": [
    "break"
   ]
  },
  {
   "cell_type": "code",
   "execution_count": 40,
   "id": "456a0765-2a06-4d3d-b84b-665d6fe56ff6",
   "metadata": {},
   "outputs": [
    {
     "name": "stdout",
     "output_type": "stream",
     "text": [
      "0\n",
      "1\n",
      "2\n",
      "3\n",
      "4\n"
     ]
    }
   ],
   "source": [
    "for i in range(10):\n",
    "    if i == 5:\n",
    "        break\n",
    "    print(i)"
   ]
  },
  {
   "cell_type": "markdown",
   "id": "55cbfb5a-e130-4028-9429-6935dc4f2dea",
   "metadata": {},
   "source": [
    "continue"
   ]
  },
  {
   "cell_type": "code",
   "execution_count": 41,
   "id": "0e1e49ae-79a5-4df6-ad57-5676ac7905ba",
   "metadata": {},
   "outputs": [
    {
     "name": "stdout",
     "output_type": "stream",
     "text": [
      "0\n",
      "1\n",
      "2\n",
      "3\n",
      "4\n",
      "6\n",
      "7\n",
      "8\n",
      "9\n"
     ]
    }
   ],
   "source": [
    "for i in range(10):\n",
    "    if i == 5:\n",
    "        continue\n",
    "    print(i)"
   ]
  },
  {
   "cell_type": "code",
   "execution_count": null,
   "id": "53e727d9-2d4a-4817-9ea2-e28202e3d905",
   "metadata": {},
   "outputs": [],
   "source": []
  }
 ],
 "metadata": {
  "kernelspec": {
   "display_name": "Python 3 (ipykernel)",
   "language": "python",
   "name": "python3"
  },
  "language_info": {
   "codemirror_mode": {
    "name": "ipython",
    "version": 3
   },
   "file_extension": ".py",
   "mimetype": "text/x-python",
   "name": "python",
   "nbconvert_exporter": "python",
   "pygments_lexer": "ipython3",
   "version": "3.10.12"
  }
 },
 "nbformat": 4,
 "nbformat_minor": 5
}
