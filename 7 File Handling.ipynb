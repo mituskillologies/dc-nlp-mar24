{
 "cells": [
  {
   "cell_type": "markdown",
   "id": "bf89fd80-2bb6-48d0-a526-4d93fa8c2860",
   "metadata": {},
   "source": [
    "##### Open and read the file"
   ]
  },
  {
   "cell_type": "code",
   "execution_count": 2,
   "id": "407b1f0c-c00c-41fe-a54b-fbc8285468d5",
   "metadata": {},
   "outputs": [],
   "source": [
    "f = open('test.txt')"
   ]
  },
  {
   "cell_type": "code",
   "execution_count": 3,
   "id": "56a29d9f-0cc2-4f28-ad13-b54404eb737a",
   "metadata": {},
   "outputs": [
    {
     "data": {
      "text/plain": [
       "<_io.TextIOWrapper name='test.txt' mode='r' encoding='UTF-8'>"
      ]
     },
     "execution_count": 3,
     "metadata": {},
     "output_type": "execute_result"
    }
   ],
   "source": [
    "f"
   ]
  },
  {
   "cell_type": "code",
   "execution_count": 17,
   "id": "853faf37-fdcd-412d-9c3c-83b342b1e9c7",
   "metadata": {},
   "outputs": [
    {
     "data": {
      "text/plain": [
       "True"
      ]
     },
     "execution_count": 17,
     "metadata": {},
     "output_type": "execute_result"
    }
   ],
   "source": [
    "f.readable() # Checks for readability"
   ]
  },
  {
   "cell_type": "code",
   "execution_count": 5,
   "id": "64aa78ff-ef83-4ac3-9835-6ddae35f16cc",
   "metadata": {},
   "outputs": [
    {
     "data": {
      "text/plain": [
       "'Hello friends!\\n'"
      ]
     },
     "execution_count": 5,
     "metadata": {},
     "output_type": "execute_result"
    }
   ],
   "source": [
    "f.readline() # Reads one line at a time."
   ]
  },
  {
   "cell_type": "code",
   "execution_count": 6,
   "id": "59c9981f-260e-4af8-a3c9-593595e0a90e",
   "metadata": {},
   "outputs": [
    {
     "data": {
      "text/plain": [
       "'How are you?\\n'"
      ]
     },
     "execution_count": 6,
     "metadata": {},
     "output_type": "execute_result"
    }
   ],
   "source": [
    "f.readline()"
   ]
  },
  {
   "cell_type": "code",
   "execution_count": 7,
   "id": "914c8e9a-a54b-4fb1-ae17-f18ee54684e7",
   "metadata": {},
   "outputs": [
    {
     "data": {
      "text/plain": [
       "'Welcome to the exciting world of Python Programming.'"
      ]
     },
     "execution_count": 7,
     "metadata": {},
     "output_type": "execute_result"
    }
   ],
   "source": [
    "f.readline()"
   ]
  },
  {
   "cell_type": "code",
   "execution_count": 8,
   "id": "f1049151-20b7-417f-8284-558721642d97",
   "metadata": {},
   "outputs": [],
   "source": [
    "f = open('test.txt')"
   ]
  },
  {
   "cell_type": "code",
   "execution_count": 16,
   "id": "1176a093-d5d1-48f9-9f89-6a1ba8fa1a6f",
   "metadata": {},
   "outputs": [],
   "source": [
    "lines = f.readlines()  # Reads all the lines in a list"
   ]
  },
  {
   "cell_type": "code",
   "execution_count": 10,
   "id": "15174dc2-d54e-407d-9b92-6c3308fd6f3b",
   "metadata": {},
   "outputs": [
    {
     "data": {
      "text/plain": [
       "['Hello friends!\\n',\n",
       " 'How are you?\\n',\n",
       " 'Welcome to the exciting world of Python Programming.']"
      ]
     },
     "execution_count": 10,
     "metadata": {},
     "output_type": "execute_result"
    }
   ],
   "source": [
    "lines"
   ]
  },
  {
   "cell_type": "code",
   "execution_count": 11,
   "id": "715781c1-945c-46bc-89f1-ff4fe72b1e72",
   "metadata": {},
   "outputs": [
    {
     "name": "stdout",
     "output_type": "stream",
     "text": [
      "Hello friends!\n",
      "\n",
      "How are you?\n",
      "\n",
      "Welcome to the exciting world of Python Programming.\n"
     ]
    }
   ],
   "source": [
    "for line in lines:\n",
    "    print(line)"
   ]
  },
  {
   "cell_type": "code",
   "execution_count": 12,
   "id": "70a9c0f6-3d3e-4e23-896e-6b27ba2437b3",
   "metadata": {},
   "outputs": [],
   "source": [
    "f = open('test.txt')"
   ]
  },
  {
   "cell_type": "code",
   "execution_count": 13,
   "id": "6469f701-8d06-4c73-8919-ea8fe5babbe3",
   "metadata": {},
   "outputs": [],
   "source": [
    "data = f.read()  # String format"
   ]
  },
  {
   "cell_type": "code",
   "execution_count": 15,
   "id": "c99b2dc3-c575-4de9-80fa-3e502c0b0b5b",
   "metadata": {},
   "outputs": [
    {
     "name": "stdout",
     "output_type": "stream",
     "text": [
      "Hello friends!\n",
      "How are you?\n",
      "Welcome to the exciting world of Python Programming.\n"
     ]
    }
   ],
   "source": [
    "print(data)"
   ]
  },
  {
   "cell_type": "code",
   "execution_count": 18,
   "id": "c67e6019-c249-4e4c-81e4-ff8b29de4d81",
   "metadata": {},
   "outputs": [],
   "source": [
    "f.close()"
   ]
  },
  {
   "cell_type": "markdown",
   "id": "42bd026e-d1ae-4a05-9c3a-6519b3c40b80",
   "metadata": {},
   "source": [
    "##### Example: Open the file and count how many times 'the' is present in it."
   ]
  },
  {
   "cell_type": "code",
   "execution_count": 23,
   "id": "cf7c3dc3-5ff6-496f-a399-793711d0e45d",
   "metadata": {},
   "outputs": [],
   "source": [
    "f = open('pune.txt', encoding='utf-8')"
   ]
  },
  {
   "cell_type": "code",
   "execution_count": 24,
   "id": "4e62e8af-dc77-4347-aadc-c8bed557553b",
   "metadata": {},
   "outputs": [],
   "source": [
    "data = f.read()"
   ]
  },
  {
   "cell_type": "code",
   "execution_count": 27,
   "id": "22323ab7-dd82-43fc-8910-99c699bc417b",
   "metadata": {},
   "outputs": [],
   "source": [
    "words = data.split()"
   ]
  },
  {
   "cell_type": "code",
   "execution_count": 30,
   "id": "cba773e6-f831-49df-bd00-20914c336698",
   "metadata": {},
   "outputs": [
    {
     "data": {
      "text/plain": [
       "12"
      ]
     },
     "execution_count": 30,
     "metadata": {},
     "output_type": "execute_result"
    }
   ],
   "source": [
    "words.count('the') + words.count('The')"
   ]
  },
  {
   "cell_type": "code",
   "execution_count": null,
   "id": "bf4ea251-c745-4b91-a20f-f2a54072b50d",
   "metadata": {},
   "outputs": [],
   "source": []
  }
 ],
 "metadata": {
  "kernelspec": {
   "display_name": "Python 3 (ipykernel)",
   "language": "python",
   "name": "python3"
  },
  "language_info": {
   "codemirror_mode": {
    "name": "ipython",
    "version": 3
   },
   "file_extension": ".py",
   "mimetype": "text/x-python",
   "name": "python",
   "nbconvert_exporter": "python",
   "pygments_lexer": "ipython3",
   "version": "3.10.12"
  }
 },
 "nbformat": 4,
 "nbformat_minor": 5
}
