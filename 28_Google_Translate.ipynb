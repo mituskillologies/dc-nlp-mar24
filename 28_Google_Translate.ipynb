{
  "nbformat": 4,
  "nbformat_minor": 0,
  "metadata": {
    "colab": {
      "provenance": []
    },
    "kernelspec": {
      "name": "python3",
      "display_name": "Python 3"
    },
    "language_info": {
      "name": "python"
    }
  },
  "cells": [
    {
      "cell_type": "markdown",
      "source": [
        "#### Install the library"
      ],
      "metadata": {
        "id": "Lw-0GbWnZ021"
      }
    },
    {
      "cell_type": "code",
      "execution_count": 1,
      "metadata": {
        "colab": {
          "base_uri": "https://localhost:8080/",
          "height": 411
        },
        "id": "CXBv607DZu0c",
        "outputId": "4c2e7853-ac6c-4dc0-aa64-99db9de432a7"
      },
      "outputs": [
        {
          "output_type": "stream",
          "name": "stdout",
          "text": [
            "Collecting goslate\n",
            "  Downloading goslate-1.5.4.tar.gz (14 kB)\n",
            "  Preparing metadata (setup.py) ... \u001b[?25l\u001b[?25hdone\n",
            "Collecting futures (from goslate)\n",
            "  Downloading futures-3.0.5.tar.gz (25 kB)\n",
            "  Preparing metadata (setup.py) ... \u001b[?25l\u001b[?25hdone\n",
            "Building wheels for collected packages: goslate, futures\n",
            "  Building wheel for goslate (setup.py) ... \u001b[?25l\u001b[?25hdone\n",
            "  Created wheel for goslate: filename=goslate-1.5.4-py3-none-any.whl size=11577 sha256=acbcdaf4ec9800eceb0aa6f89b7a70b822f4c3b28a5c07dca486f8bad86740f0\n",
            "  Stored in directory: /root/.cache/pip/wheels/b5/30/e9/63b6de83667be2977ee793a146a2c80f8e588d5c0203b39dc9\n",
            "  Building wheel for futures (setup.py) ... \u001b[?25l\u001b[?25hdone\n",
            "  Created wheel for futures: filename=futures-3.0.5-py3-none-any.whl size=14067 sha256=15dda929eaebaca48b43b0b4c465df8a041c7ce33848a3d313133b835bdc32b2\n",
            "  Stored in directory: /root/.cache/pip/wheels/ef/af/93/48739d464ba97d4cdc77c627d282f9794c8d276e42aaa92160\n",
            "Successfully built goslate futures\n",
            "Installing collected packages: futures, goslate\n",
            "Successfully installed futures-3.0.5 goslate-1.5.4\n"
          ]
        },
        {
          "output_type": "display_data",
          "data": {
            "application/vnd.colab-display-data+json": {
              "pip_warning": {
                "packages": [
                  "concurrent"
                ]
              },
              "id": "a8334425ba3c446f8371e750e4610e77"
            }
          },
          "metadata": {}
        }
      ],
      "source": [
        "pip install goslate"
      ]
    },
    {
      "cell_type": "code",
      "source": [
        "# import the class\n",
        "from goslate import Goslate"
      ],
      "metadata": {
        "id": "RlNu2WoHZ4du"
      },
      "execution_count": 1,
      "outputs": []
    },
    {
      "cell_type": "code",
      "source": [
        "text = 'Hello students! I am your teacher. I will teach you this course.'"
      ],
      "metadata": {
        "id": "jloAJewLaYlh"
      },
      "execution_count": 3,
      "outputs": []
    },
    {
      "cell_type": "code",
      "source": [
        "trans = Goslate()"
      ],
      "metadata": {
        "id": "qZhRRh1laq2r"
      },
      "execution_count": 4,
      "outputs": []
    },
    {
      "cell_type": "code",
      "source": [
        "trans.detect(text)"
      ],
      "metadata": {
        "colab": {
          "base_uri": "https://localhost:8080/",
          "height": 35
        },
        "id": "JEDoJ5A9axi4",
        "outputId": "d116afb5-4714-4394-e7b7-9abc22e3130d"
      },
      "execution_count": 6,
      "outputs": [
        {
          "output_type": "execute_result",
          "data": {
            "text/plain": [
              "'en'"
            ],
            "application/vnd.google.colaboratory.intrinsic+json": {
              "type": "string"
            }
          },
          "metadata": {},
          "execution_count": 6
        }
      ]
    },
    {
      "cell_type": "code",
      "source": [
        "trans.get_languages()"
      ],
      "metadata": {
        "colab": {
          "base_uri": "https://localhost:8080/"
        },
        "id": "MBNY_YS-bQjq",
        "outputId": "1061dbfb-c6d3-4070-ea90-405174f746fe"
      },
      "execution_count": 7,
      "outputs": [
        {
          "output_type": "execute_result",
          "data": {
            "text/plain": [
              "{'af': 'Afrikaans',\n",
              " 'sq': 'Albanian',\n",
              " 'am': 'Amharic',\n",
              " 'ar': 'Arabic',\n",
              " 'hy': 'Armenian',\n",
              " 'as': 'Assamese',\n",
              " 'ay': 'Aymara',\n",
              " 'az': 'Azerbaijani',\n",
              " 'bm': 'Bambara',\n",
              " 'eu': 'Basque',\n",
              " 'be': 'Belarusian',\n",
              " 'bn': 'Bengali',\n",
              " 'bho': 'Bhojpuri',\n",
              " 'bs': 'Bosnian',\n",
              " 'bg': 'Bulgarian',\n",
              " 'ca': 'Catalan',\n",
              " 'ceb': 'Cebuano',\n",
              " 'ny': 'Chichewa',\n",
              " 'zh-CN': 'Chinese (Simplified)',\n",
              " 'co': 'Corsican',\n",
              " 'hr': 'Croatian',\n",
              " 'cs': 'Czech',\n",
              " 'da': 'Danish',\n",
              " 'dv': 'Dhivehi',\n",
              " 'doi': 'Dogri',\n",
              " 'nl': 'Dutch',\n",
              " 'en': 'English',\n",
              " 'eo': 'Esperanto',\n",
              " 'et': 'Estonian',\n",
              " 'ee': 'Ewe',\n",
              " 'tl': 'Filipino',\n",
              " 'fi': 'Finnish',\n",
              " 'fr': 'French',\n",
              " 'fy': 'Frisian',\n",
              " 'gl': 'Galician',\n",
              " 'ka': 'Georgian',\n",
              " 'de': 'German',\n",
              " 'el': 'Greek',\n",
              " 'gn': 'Guarani',\n",
              " 'gu': 'Gujarati',\n",
              " 'ht': 'Haitian Creole',\n",
              " 'ha': 'Hausa',\n",
              " 'haw': 'Hawaiian',\n",
              " 'iw': 'Hebrew',\n",
              " 'hi': 'Hindi',\n",
              " 'hmn': 'Hmong',\n",
              " 'hu': 'Hungarian',\n",
              " 'is': 'Icelandic',\n",
              " 'ig': 'Igbo',\n",
              " 'ilo': 'Ilocano',\n",
              " 'id': 'Indonesian',\n",
              " 'ga': 'Irish',\n",
              " 'it': 'Italian',\n",
              " 'ja': 'Japanese',\n",
              " 'jw': 'Javanese',\n",
              " 'kn': 'Kannada',\n",
              " 'kk': 'Kazakh',\n",
              " 'km': 'Khmer',\n",
              " 'rw': 'Kinyarwanda',\n",
              " 'gom': 'Konkani',\n",
              " 'ko': 'Korean',\n",
              " 'kri': 'Krio',\n",
              " 'ku': 'Kurdish (Kurmanji)',\n",
              " 'ckb': 'Kurdish (Sorani)',\n",
              " 'ky': 'Kyrgyz',\n",
              " 'lo': 'Lao',\n",
              " 'la': 'Latin',\n",
              " 'lv': 'Latvian',\n",
              " 'ln': 'Lingala',\n",
              " 'lt': 'Lithuanian',\n",
              " 'lg': 'Luganda',\n",
              " 'lb': 'Luxembourgish',\n",
              " 'mk': 'Macedonian',\n",
              " 'mai': 'Maithili',\n",
              " 'mg': 'Malagasy',\n",
              " 'ms': 'Malay',\n",
              " 'ml': 'Malayalam',\n",
              " 'mt': 'Maltese',\n",
              " 'mi': 'Maori',\n",
              " 'mr': 'Marathi',\n",
              " 'mni-Mtei': 'Meiteilon (Manipuri)',\n",
              " 'lus': 'Mizo',\n",
              " 'mn': 'Mongolian',\n",
              " 'my': 'Myanmar (Burmese)',\n",
              " 'ne': 'Nepali',\n",
              " 'no': 'Norwegian',\n",
              " 'or': 'Odia (Oriya)',\n",
              " 'om': 'Oromo',\n",
              " 'ps': 'Pashto',\n",
              " 'fa': 'Persian',\n",
              " 'pl': 'Polish',\n",
              " 'pt': 'Portuguese',\n",
              " 'pa': 'Punjabi',\n",
              " 'qu': 'Quechua',\n",
              " 'ro': 'Romanian',\n",
              " 'ru': 'Russian',\n",
              " 'sm': 'Samoan',\n",
              " 'sa': 'Sanskrit',\n",
              " 'gd': 'Scots Gaelic',\n",
              " 'nso': 'Sepedi',\n",
              " 'sr': 'Serbian',\n",
              " 'st': 'Sesotho',\n",
              " 'sn': 'Shona',\n",
              " 'sd': 'Sindhi',\n",
              " 'si': 'Sinhala',\n",
              " 'sk': 'Slovak',\n",
              " 'sl': 'Slovenian',\n",
              " 'so': 'Somali',\n",
              " 'es': 'Spanish',\n",
              " 'su': 'Sundanese',\n",
              " 'sw': 'Swahili',\n",
              " 'sv': 'Swedish',\n",
              " 'tg': 'Tajik',\n",
              " 'ta': 'Tamil',\n",
              " 'tt': 'Tatar',\n",
              " 'te': 'Telugu',\n",
              " 'th': 'Thai',\n",
              " 'ti': 'Tigrinya',\n",
              " 'ts': 'Tsonga',\n",
              " 'tr': 'Turkish',\n",
              " 'tk': 'Turkmen',\n",
              " 'ak': 'Twi',\n",
              " 'uk': 'Ukrainian',\n",
              " 'ur': 'Urdu',\n",
              " 'ug': 'Uyghur',\n",
              " 'uz': 'Uzbek',\n",
              " 'vi': 'Vietnamese',\n",
              " 'cy': 'Welsh',\n",
              " 'xh': 'Xhosa',\n",
              " 'yi': 'Yiddish',\n",
              " 'yo': 'Yoruba',\n",
              " 'zu': 'Zulu',\n",
              " 'zh-TW': 'Chinese (Traditional)',\n",
              " 'zh': 'Chinese'}"
            ]
          },
          "metadata": {},
          "execution_count": 7
        }
      ]
    },
    {
      "cell_type": "code",
      "source": [
        "trans.translate(text=text, target_language='mr')"
      ],
      "metadata": {
        "colab": {
          "base_uri": "https://localhost:8080/",
          "height": 35
        },
        "id": "lKMx6LzsbVdp",
        "outputId": "e6346832-4d72-448e-b3d9-b1a07b0cdb76"
      },
      "execution_count": 8,
      "outputs": [
        {
          "output_type": "execute_result",
          "data": {
            "text/plain": [
              "'हॅलो विद्यार्थी! मी तुमचा शिक्षक आहे. मी तुम्हाला हा कोर्स शिकवीन.'"
            ],
            "application/vnd.google.colaboratory.intrinsic+json": {
              "type": "string"
            }
          },
          "metadata": {},
          "execution_count": 8
        }
      ]
    },
    {
      "cell_type": "code",
      "source": [
        "pip install textblob"
      ],
      "metadata": {
        "colab": {
          "base_uri": "https://localhost:8080/"
        },
        "id": "8Werb52gbntW",
        "outputId": "3fbb9ec9-4158-469d-dcbe-c628ab4805a3"
      },
      "execution_count": 9,
      "outputs": [
        {
          "output_type": "stream",
          "name": "stdout",
          "text": [
            "Requirement already satisfied: textblob in /usr/local/lib/python3.10/dist-packages (0.17.1)\n",
            "Requirement already satisfied: nltk>=3.1 in /usr/local/lib/python3.10/dist-packages (from textblob) (3.8.1)\n",
            "Requirement already satisfied: click in /usr/local/lib/python3.10/dist-packages (from nltk>=3.1->textblob) (8.1.7)\n",
            "Requirement already satisfied: joblib in /usr/local/lib/python3.10/dist-packages (from nltk>=3.1->textblob) (1.4.0)\n",
            "Requirement already satisfied: regex>=2021.8.3 in /usr/local/lib/python3.10/dist-packages (from nltk>=3.1->textblob) (2023.12.25)\n",
            "Requirement already satisfied: tqdm in /usr/local/lib/python3.10/dist-packages (from nltk>=3.1->textblob) (4.66.2)\n"
          ]
        }
      ]
    },
    {
      "cell_type": "code",
      "source": [
        "from textblob import TextBlob"
      ],
      "metadata": {
        "id": "UCxhj94lcflV"
      },
      "execution_count": 11,
      "outputs": []
    },
    {
      "cell_type": "code",
      "source": [
        "blob = TextBlob(text)\n",
        "blob.translate(from_lang='en', to='mr')"
      ],
      "metadata": {
        "colab": {
          "base_uri": "https://localhost:8080/"
        },
        "id": "ClwjMh0vcZBO",
        "outputId": "94a22e9f-724a-4f32-871e-c7f1ce0f5e60"
      },
      "execution_count": 14,
      "outputs": [
        {
          "output_type": "execute_result",
          "data": {
            "text/plain": [
              "TextBlob(\"हॅलो विद्यार्थी! मी तुमचा शिक्षक आहे. मी तुम्हाला हा कोर्स शिकवीन.\")"
            ]
          },
          "metadata": {},
          "execution_count": 14
        }
      ]
    },
    {
      "cell_type": "code",
      "source": [],
      "metadata": {
        "id": "RNiHx-QYcd0w"
      },
      "execution_count": null,
      "outputs": []
    }
  ]
}