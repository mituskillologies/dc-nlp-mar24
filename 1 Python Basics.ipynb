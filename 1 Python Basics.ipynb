{
 "cells": [
  {
   "cell_type": "code",
   "execution_count": 1,
   "id": "7044a398-c522-485f-b454-aa100505e5e3",
   "metadata": {},
   "outputs": [
    {
     "name": "stdout",
     "output_type": "stream",
     "text": [
      "Hello World\n"
     ]
    }
   ],
   "source": [
    "print('Hello World')"
   ]
  },
  {
   "cell_type": "code",
   "execution_count": 2,
   "id": "040727fa-407b-4888-8ea0-d3a591892169",
   "metadata": {},
   "outputs": [
    {
     "name": "stdout",
     "output_type": "stream",
     "text": [
      "Hello World\n"
     ]
    }
   ],
   "source": [
    "print(\"Hello World\")"
   ]
  },
  {
   "cell_type": "code",
   "execution_count": 3,
   "id": "18c262a0-c6a2-4210-97fe-7adf300d2dd5",
   "metadata": {},
   "outputs": [
    {
     "name": "stdout",
     "output_type": "stream",
     "text": [
      "Hello World\n",
      "Hi friends!\n",
      "Welcome...\n"
     ]
    }
   ],
   "source": [
    "print('Hello World')\n",
    "print('Hi friends!')\n",
    "print('Welcome...')"
   ]
  },
  {
   "cell_type": "code",
   "execution_count": 4,
   "id": "d1a8ef1e-6f08-49bb-a195-9f52862a7382",
   "metadata": {},
   "outputs": [],
   "source": [
    "num = 45"
   ]
  },
  {
   "cell_type": "code",
   "execution_count": 5,
   "id": "e5f5ac0b-9ea4-48d9-a120-5fad98c7b405",
   "metadata": {},
   "outputs": [
    {
     "name": "stdout",
     "output_type": "stream",
     "text": [
      "45\n"
     ]
    }
   ],
   "source": [
    "print(num)"
   ]
  },
  {
   "cell_type": "code",
   "execution_count": 6,
   "id": "e691b77d-cbf1-4a39-b62b-bd5aedc7316b",
   "metadata": {},
   "outputs": [],
   "source": [
    "num1 = 58\n",
    "num2 = 87.23"
   ]
  },
  {
   "cell_type": "code",
   "execution_count": 7,
   "id": "76962b58-2612-4258-8942-33e3ea2a7e62",
   "metadata": {},
   "outputs": [
    {
     "name": "stdout",
     "output_type": "stream",
     "text": [
      "58 87.23\n"
     ]
    }
   ],
   "source": [
    "print(num1, num2)"
   ]
  },
  {
   "cell_type": "code",
   "execution_count": 8,
   "id": "f9b21c5a-3151-447d-8fed-7c6eaf09f726",
   "metadata": {},
   "outputs": [
    {
     "ename": "SyntaxError",
     "evalue": "incomplete input (3888882359.py, line 1)",
     "output_type": "error",
     "traceback": [
      "\u001b[0;36m  Cell \u001b[0;32mIn[8], line 1\u001b[0;36m\u001b[0m\n\u001b[0;31m    print(num1, num2\u001b[0m\n\u001b[0m                    ^\u001b[0m\n\u001b[0;31mSyntaxError\u001b[0m\u001b[0;31m:\u001b[0m incomplete input\n"
     ]
    }
   ],
   "source": [
    "print(num1, num2"
   ]
  },
  {
   "cell_type": "code",
   "execution_count": 9,
   "id": "c80e2346-6159-4f5e-b2a5-eaa2c5fe6c26",
   "metadata": {},
   "outputs": [
    {
     "data": {
      "text/plain": [
       "int"
      ]
     },
     "execution_count": 9,
     "metadata": {},
     "output_type": "execute_result"
    }
   ],
   "source": [
    "num1 = 45\n",
    "type(num1)"
   ]
  },
  {
   "cell_type": "code",
   "execution_count": 10,
   "id": "2829d914-4462-4ebc-9cca-73f35793f1d3",
   "metadata": {},
   "outputs": [
    {
     "data": {
      "text/plain": [
       "float"
      ]
     },
     "execution_count": 10,
     "metadata": {},
     "output_type": "execute_result"
    }
   ],
   "source": [
    "num2 = 45.34\n",
    "type(num2)"
   ]
  },
  {
   "cell_type": "code",
   "execution_count": 11,
   "id": "3db55e37-e46e-4f66-a186-0d98f26a7558",
   "metadata": {},
   "outputs": [
    {
     "data": {
      "text/plain": [
       "str"
      ]
     },
     "execution_count": 11,
     "metadata": {},
     "output_type": "execute_result"
    }
   ],
   "source": [
    "num3 = \"Tushar\"\n",
    "type(num3)"
   ]
  },
  {
   "cell_type": "code",
   "execution_count": 12,
   "id": "8285e892-271b-4f1e-80ac-49586bb8d917",
   "metadata": {},
   "outputs": [
    {
     "name": "stdout",
     "output_type": "stream",
     "text": [
      "54378468742145619482\n"
     ]
    }
   ],
   "source": [
    "num = 54378468742145619482\n",
    "print(num)"
   ]
  },
  {
   "cell_type": "code",
   "execution_count": 13,
   "id": "ad158148-49f0-4987-92db-c6c13c206693",
   "metadata": {},
   "outputs": [
    {
     "data": {
      "text/plain": [
       "706920093647893053266"
      ]
     },
     "execution_count": 13,
     "metadata": {},
     "output_type": "execute_result"
    }
   ],
   "source": [
    "num * 13"
   ]
  },
  {
   "cell_type": "code",
   "execution_count": 14,
   "id": "095cb24b-e7d4-4337-8f2a-8ded8175d1c8",
   "metadata": {},
   "outputs": [],
   "source": [
    "num1, num2, num3 = 56, 78, 100.4"
   ]
  },
  {
   "cell_type": "code",
   "execution_count": 15,
   "id": "898727b5-3fee-4c1d-98a2-f51985b75517",
   "metadata": {},
   "outputs": [
    {
     "name": "stdout",
     "output_type": "stream",
     "text": [
      "56\n"
     ]
    }
   ],
   "source": [
    "print(num1)"
   ]
  },
  {
   "cell_type": "code",
   "execution_count": 16,
   "id": "8d709901-94c8-4d2c-b75f-f59154146cb6",
   "metadata": {},
   "outputs": [
    {
     "name": "stdout",
     "output_type": "stream",
     "text": [
      "78\n"
     ]
    }
   ],
   "source": [
    "print(num2)"
   ]
  },
  {
   "cell_type": "code",
   "execution_count": 17,
   "id": "54422ccc-2141-40b7-9b2a-a388774225f0",
   "metadata": {},
   "outputs": [
    {
     "name": "stdout",
     "output_type": "stream",
     "text": [
      "100.4\n"
     ]
    }
   ],
   "source": [
    "print(num3)"
   ]
  },
  {
   "cell_type": "code",
   "execution_count": 18,
   "id": "0213a96d-6b66-4cd3-92c1-216ad0ab913e",
   "metadata": {},
   "outputs": [
    {
     "name": "stdout",
     "output_type": "stream",
     "text": [
      "100\n"
     ]
    }
   ],
   "source": [
    "num1, num2 = 56, 44\n",
    "add = num1 + num2\n",
    "print(add)"
   ]
  },
  {
   "cell_type": "code",
   "execution_count": 19,
   "id": "f7a3ad40-fd49-46e8-807d-d8301099631d",
   "metadata": {},
   "outputs": [
    {
     "name": "stdout",
     "output_type": "stream",
     "text": [
      "Addition is 100\n"
     ]
    }
   ],
   "source": [
    "num1, num2 = 56, 44\n",
    "add = num1 + num2\n",
    "print('Addition is', add)"
   ]
  },
  {
   "cell_type": "code",
   "execution_count": 20,
   "id": "bfd03401-3e89-4171-bffe-acd0dba5157f",
   "metadata": {},
   "outputs": [],
   "source": [
    "name = 'Tushar'"
   ]
  },
  {
   "cell_type": "code",
   "execution_count": 21,
   "id": "3b35ffba-f071-4d4f-91b1-72f7870e059c",
   "metadata": {},
   "outputs": [
    {
     "name": "stdout",
     "output_type": "stream",
     "text": [
      "My name is Tushar\n"
     ]
    }
   ],
   "source": [
    "print('My name is', name)"
   ]
  },
  {
   "cell_type": "code",
   "execution_count": 23,
   "id": "ed6f098b-4e2d-463d-bbc9-efa6b481cde3",
   "metadata": {},
   "outputs": [
    {
     "name": "stdout",
     "output_type": "stream",
     "text": [
      "I like \"Python\" Programming\n"
     ]
    }
   ],
   "source": [
    "sent = 'I like \"Python\" Programming'\n",
    "print(sent)"
   ]
  },
  {
   "cell_type": "code",
   "execution_count": 24,
   "id": "c446b5ef-7ead-424c-b1ce-7e946a97530e",
   "metadata": {},
   "outputs": [
    {
     "name": "stdout",
     "output_type": "stream",
     "text": [
      "I like 'Python' Programming\n"
     ]
    }
   ],
   "source": [
    "sent = \"I like 'Python' Programming\"\n",
    "print(sent)"
   ]
  },
  {
   "cell_type": "code",
   "execution_count": 25,
   "id": "d232afb5-8a13-40e9-b686-40cf12e81893",
   "metadata": {},
   "outputs": [],
   "source": [
    "name = 'Tushar'"
   ]
  },
  {
   "cell_type": "code",
   "execution_count": 26,
   "id": "2d3f8664-c647-42ac-89b0-3d733eb4c045",
   "metadata": {},
   "outputs": [
    {
     "data": {
      "text/plain": [
       "'TUSHAR'"
      ]
     },
     "execution_count": 26,
     "metadata": {},
     "output_type": "execute_result"
    }
   ],
   "source": [
    "name.upper()"
   ]
  },
  {
   "cell_type": "code",
   "execution_count": 27,
   "id": "9f5f9c20-1d8e-4fa1-8e80-edc6f714795d",
   "metadata": {},
   "outputs": [
    {
     "data": {
      "text/plain": [
       "'tushar'"
      ]
     },
     "execution_count": 27,
     "metadata": {},
     "output_type": "execute_result"
    }
   ],
   "source": [
    "name.lower()"
   ]
  },
  {
   "cell_type": "code",
   "execution_count": 28,
   "id": "5410b9bd-663e-4b6a-b3c8-fb8f1cd815bf",
   "metadata": {},
   "outputs": [
    {
     "data": {
      "text/plain": [
       "'tUSHAR'"
      ]
     },
     "execution_count": 28,
     "metadata": {},
     "output_type": "execute_result"
    }
   ],
   "source": [
    "name.swapcase()"
   ]
  },
  {
   "cell_type": "code",
   "execution_count": 29,
   "id": "68f225b6-0d61-45d7-b629-4691d20eea4a",
   "metadata": {},
   "outputs": [
    {
     "data": {
      "text/plain": [
       "'Tushar'"
      ]
     },
     "execution_count": 29,
     "metadata": {},
     "output_type": "execute_result"
    }
   ],
   "source": [
    "name.title()"
   ]
  },
  {
   "cell_type": "code",
   "execution_count": 30,
   "id": "4048d86e-2586-457c-9eac-afe5c9dd0d82",
   "metadata": {},
   "outputs": [
    {
     "data": {
      "text/plain": [
       "False"
      ]
     },
     "execution_count": 30,
     "metadata": {},
     "output_type": "execute_result"
    }
   ],
   "source": [
    "name.isupper()"
   ]
  },
  {
   "cell_type": "code",
   "execution_count": 31,
   "id": "c9350080-cc4a-4a24-a1d3-da250d95d04c",
   "metadata": {},
   "outputs": [
    {
     "data": {
      "text/plain": [
       "'Tooshar'"
      ]
     },
     "execution_count": 31,
     "metadata": {},
     "output_type": "execute_result"
    }
   ],
   "source": [
    "name.replace('u','oo')"
   ]
  },
  {
   "cell_type": "code",
   "execution_count": 32,
   "id": "cca63b34-b771-437f-87eb-db2745f667ed",
   "metadata": {},
   "outputs": [
    {
     "name": "stdout",
     "output_type": "stream",
     "text": [
      "Help on built-in function find:\n",
      "\n",
      "find(...) method of builtins.str instance\n",
      "    S.find(sub[, start[, end]]) -> int\n",
      "    \n",
      "    Return the lowest index in S where substring sub is found,\n",
      "    such that sub is contained within S[start:end].  Optional\n",
      "    arguments start and end are interpreted as in slice notation.\n",
      "    \n",
      "    Return -1 on failure.\n",
      "\n"
     ]
    }
   ],
   "source": [
    "help(name.find)"
   ]
  },
  {
   "cell_type": "code",
   "execution_count": 35,
   "id": "0cbff54d-9995-4dab-9e34-91f411dfaa27",
   "metadata": {},
   "outputs": [
    {
     "data": {
      "text/plain": [
       "'Tushar Pune'"
      ]
     },
     "execution_count": 35,
     "metadata": {},
     "output_type": "execute_result"
    }
   ],
   "source": [
    "name + \" Pune\""
   ]
  },
  {
   "cell_type": "code",
   "execution_count": 37,
   "id": "1742448f-8501-49d6-b1e6-f19c6d815e71",
   "metadata": {},
   "outputs": [
    {
     "data": {
      "text/plain": [
       "'Tushar Tushar Tushar '"
      ]
     },
     "execution_count": 37,
     "metadata": {},
     "output_type": "execute_result"
    }
   ],
   "source": [
    "(name + \" \") * 3"
   ]
  },
  {
   "cell_type": "code",
   "execution_count": 44,
   "id": "e3452b41-465e-4cfb-ba21-8f37e4751334",
   "metadata": {},
   "outputs": [
    {
     "name": "stdout",
     "output_type": "stream",
     "text": [
      "Addition is 100\n"
     ]
    }
   ],
   "source": [
    "# This is my addition program\n",
    "num1, num2 = 56, 44\n",
    "add = num1 + num2        # This is addition statement\n",
    "print('Addition is', add)"
   ]
  },
  {
   "cell_type": "code",
   "execution_count": 46,
   "id": "94a9af5e-98b7-4a3a-91c4-a544f334c9df",
   "metadata": {},
   "outputs": [],
   "source": [
    "# Multi-line string\n",
    "line = '''Hello friends!\n",
    "How are you?\n",
    "Welcome to Python Programming'''"
   ]
  },
  {
   "cell_type": "code",
   "execution_count": 47,
   "id": "9e36a4f2-9137-40fc-bae4-066786fd960b",
   "metadata": {},
   "outputs": [
    {
     "name": "stdout",
     "output_type": "stream",
     "text": [
      "Hello friends!\n",
      "How are you?\n",
      "Welcome to Python Programming\n"
     ]
    }
   ],
   "source": [
    "print(line)"
   ]
  },
  {
   "cell_type": "code",
   "execution_count": 49,
   "id": "cdbd52d7-cbdf-4cd1-86d1-2c0d38932479",
   "metadata": {},
   "outputs": [
    {
     "name": "stdout",
     "output_type": "stream",
     "text": [
      "तुषार\n"
     ]
    }
   ],
   "source": [
    "name = 'तुषार'\n",
    "print(name)"
   ]
  },
  {
   "cell_type": "code",
   "execution_count": 50,
   "id": "24eeb319-29f6-4931-9471-648a615bf2ac",
   "metadata": {},
   "outputs": [
    {
     "data": {
      "text/plain": [
       "True"
      ]
     },
     "execution_count": 50,
     "metadata": {},
     "output_type": "execute_result"
    }
   ],
   "source": [
    "name.startswith('त')"
   ]
  },
  {
   "cell_type": "code",
   "execution_count": 51,
   "id": "aeb1b7f1-2f7a-4a41-bcb1-e26d70fbb486",
   "metadata": {},
   "outputs": [
    {
     "data": {
      "text/plain": [
       "False"
      ]
     },
     "execution_count": 51,
     "metadata": {},
     "output_type": "execute_result"
    }
   ],
   "source": [
    "name.endswith('ष')"
   ]
  },
  {
   "cell_type": "code",
   "execution_count": 52,
   "id": "add17929-6c00-4f29-8a27-14d0931abe0f",
   "metadata": {},
   "outputs": [],
   "source": [
    "name = 'Tushar'\n",
    "marks = 67.89"
   ]
  },
  {
   "cell_type": "code",
   "execution_count": 53,
   "id": "e6798258-e3f2-4524-8d27-3c7eab0d59b4",
   "metadata": {},
   "outputs": [
    {
     "name": "stdout",
     "output_type": "stream",
     "text": [
      "My name is Tushar and marks are 67.89\n"
     ]
    }
   ],
   "source": [
    "print('My name is',name,'and marks are',marks)"
   ]
  },
  {
   "cell_type": "code",
   "execution_count": 55,
   "id": "cf8bb1c4-891d-4e57-9015-bc10ed497e6c",
   "metadata": {},
   "outputs": [
    {
     "name": "stdout",
     "output_type": "stream",
     "text": [
      "My name is Tushar and marks are 67.890000\n"
     ]
    }
   ],
   "source": [
    "print('My name is %s and marks are %f' %(name, marks))"
   ]
  },
  {
   "cell_type": "code",
   "execution_count": 56,
   "id": "bc0e737d-3f9b-47d5-ae90-65432d38774f",
   "metadata": {},
   "outputs": [
    {
     "name": "stdout",
     "output_type": "stream",
     "text": [
      "My name is Tushar and marks are 67\n"
     ]
    }
   ],
   "source": [
    "print('My name is %s and marks are %i' %(name, marks))"
   ]
  },
  {
   "cell_type": "code",
   "execution_count": 57,
   "id": "007a7991-0cc7-4178-a5bf-869a497a32f9",
   "metadata": {},
   "outputs": [],
   "source": [
    "# Arithmetic Operators\n",
    "num1 = 45\n",
    "num2 = 13"
   ]
  },
  {
   "cell_type": "code",
   "execution_count": 62,
   "id": "ae8eab6b-6b5e-41c1-9b7e-d0b57b51619b",
   "metadata": {},
   "outputs": [
    {
     "name": "stdout",
     "output_type": "stream",
     "text": [
      "Addition: 58\n",
      "Substraction: 32\n",
      "Multiplication: 585\n",
      "Division: 3.4615384615384617\n",
      "Floor Division: 3\n",
      "Remainder: 6\n",
      "Power of: 3102863559971923828125\n"
     ]
    }
   ],
   "source": [
    "add = num1 + num2\n",
    "print('Addition:', add)\n",
    "sub = num1 - num2\n",
    "print('Substraction:', sub)\n",
    "mul = num1 * num2\n",
    "print('Multiplication:', mul)\n",
    "div = num1 / num2\n",
    "print('Division:', div)\n",
    "div = num1 // num2\n",
    "print('Floor Division:', div)\n",
    "rem = num1 % num2            # mod operator - finds the remainder of division\n",
    "print('Remainder:', rem)\n",
    "pow = num1 ** num2\n",
    "print('Power of:', pow)"
   ]
  },
  {
   "cell_type": "code",
   "execution_count": 67,
   "id": "55e3570a-3afb-4f95-8672-91d930e5cea5",
   "metadata": {},
   "outputs": [
    {
     "name": "stdout",
     "output_type": "stream",
     "text": [
      "Greater Than            : True\n",
      "Less Than               : False\n",
      "Greater Than or Equal To: True\n",
      "Less Than of Equal To   : False\n",
      "Equal To                : False\n",
      "Not Equal To            : True\n"
     ]
    }
   ],
   "source": [
    "# Relational Operators\n",
    "print('Greater Than            :', num1 > num2)\n",
    "print('Less Than               :', num1 < num2)\n",
    "print('Greater Than or Equal To:', num1 >= num2)\n",
    "print('Less Than of Equal To   :', num1 <= num2)\n",
    "print('Equal To                :', num1 == num2)\n",
    "print('Not Equal To            :', num1 != num2)"
   ]
  },
  {
   "cell_type": "code",
   "execution_count": 69,
   "id": "2042822f-895c-4891-a85a-42c666752dc5",
   "metadata": {},
   "outputs": [
    {
     "name": "stdin",
     "output_type": "stream",
     "text": [
      "Enter first number:  39\n",
      "Enter second number:  276\n"
     ]
    },
    {
     "name": "stdout",
     "output_type": "stream",
     "text": [
      "Addition is: 315\n"
     ]
    }
   ],
   "source": [
    "# Program to find addition of two numbers\n",
    "num1 = int(input('Enter first number: '))\n",
    "num2 = int(input('Enter second number: '))\n",
    "add = num1 + num2\n",
    "print('Addition is:', add)"
   ]
  },
  {
   "cell_type": "code",
   "execution_count": 70,
   "id": "85862fac-e96c-48c7-ae36-18ea69d51d9f",
   "metadata": {},
   "outputs": [
    {
     "name": "stdin",
     "output_type": "stream",
     "text": [
      "Enter first number:  67.23\n",
      "Enter second number:  45.17\n"
     ]
    },
    {
     "name": "stdout",
     "output_type": "stream",
     "text": [
      "Addition is: 112.4\n"
     ]
    }
   ],
   "source": [
    "# Program to find addition of two numbers\n",
    "num1 = float(input('Enter first number: '))\n",
    "num2 = float(input('Enter second number: '))\n",
    "add = num1 + num2\n",
    "print('Addition is:', add)"
   ]
  },
  {
   "cell_type": "code",
   "execution_count": 71,
   "id": "58b223a1-d660-44a1-91c1-f5c83f436de2",
   "metadata": {},
   "outputs": [
    {
     "name": "stdin",
     "output_type": "stream",
     "text": [
      "Enter your name:  Tushar\n"
     ]
    },
    {
     "name": "stdout",
     "output_type": "stream",
     "text": [
      "Your name in upper case: TUSHAR\n"
     ]
    }
   ],
   "source": [
    "name = input('Enter your name: ')\n",
    "print('Your name in upper case:', name.upper())"
   ]
  },
  {
   "cell_type": "code",
   "execution_count": null,
   "id": "588f2a45-7ffa-42b1-959d-8b27a462704e",
   "metadata": {},
   "outputs": [],
   "source": []
  }
 ],
 "metadata": {
  "kernelspec": {
   "display_name": "Python 3 (ipykernel)",
   "language": "python",
   "name": "python3"
  },
  "language_info": {
   "codemirror_mode": {
    "name": "ipython",
    "version": 3
   },
   "file_extension": ".py",
   "mimetype": "text/x-python",
   "name": "python",
   "nbconvert_exporter": "python",
   "pygments_lexer": "ipython3",
   "version": "3.10.12"
  }
 },
 "nbformat": 4,
 "nbformat_minor": 5
}
