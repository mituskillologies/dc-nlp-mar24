{
 "cells": [
  {
   "cell_type": "code",
   "execution_count": 1,
   "id": "13e09659-ec75-4818-b44a-2324e88ee526",
   "metadata": {},
   "outputs": [
    {
     "name": "stderr",
     "output_type": "stream",
     "text": [
      "[nltk_data] Downloading package indian to /home/mitu/nltk_data...\n",
      "[nltk_data]   Package indian is already up-to-date!\n"
     ]
    },
    {
     "data": {
      "text/plain": [
       "True"
      ]
     },
     "execution_count": 1,
     "metadata": {},
     "output_type": "execute_result"
    }
   ],
   "source": [
    "import nltk\n",
    "nltk.download('indian')"
   ]
  },
  {
   "cell_type": "code",
   "execution_count": 2,
   "id": "894dbeed-ead8-4a72-bd01-cc46ba679c96",
   "metadata": {},
   "outputs": [],
   "source": [
    "from nltk.corpus import indian\n",
    "from nltk.tag import TnT"
   ]
  },
  {
   "cell_type": "code",
   "execution_count": 3,
   "id": "a92ae962-c25a-41bc-a53a-f7dc2290d3b0",
   "metadata": {},
   "outputs": [
    {
     "name": "stdout",
     "output_type": "stream",
     "text": [
      "bangla.pos\n",
      "hindi.pos\n",
      "marathi.pos\n",
      "telugu.pos\n"
     ]
    }
   ],
   "source": [
    "for file in indian.fileids():\n",
    "    print(file)"
   ]
  },
  {
   "cell_type": "code",
   "execution_count": 7,
   "id": "36b2beee-ada3-4145-af3e-4b3b5152838c",
   "metadata": {},
   "outputs": [
    {
     "data": {
      "text/plain": [
       "[\"''\", 'सनातनवाद्यांनी', 'व', 'प्रतिगाम्यांनी', 'समाज', ...]"
      ]
     },
     "execution_count": 7,
     "metadata": {},
     "output_type": "execute_result"
    }
   ],
   "source": [
    "indian.words('marathi.pos')"
   ]
  },
  {
   "cell_type": "code",
   "execution_count": 8,
   "id": "53d9cfd4-5977-4640-9408-450f398ee396",
   "metadata": {},
   "outputs": [
    {
     "data": {
      "text/plain": [
       "19066"
      ]
     },
     "execution_count": 8,
     "metadata": {},
     "output_type": "execute_result"
    }
   ],
   "source": [
    "len(indian.words('marathi.pos'))"
   ]
  },
  {
   "cell_type": "code",
   "execution_count": 9,
   "id": "cd45fce8-cede-4282-92e0-11257416b780",
   "metadata": {},
   "outputs": [
    {
     "name": "stdout",
     "output_type": "stream",
     "text": [
      "bangla.pos 10281\n",
      "hindi.pos 9408\n",
      "marathi.pos 19066\n",
      "telugu.pos 9999\n"
     ]
    }
   ],
   "source": [
    "for file in indian.fileids():\n",
    "    print(file, len(indian.words(file)))"
   ]
  },
  {
   "cell_type": "code",
   "execution_count": 10,
   "id": "da578a88-f088-40e7-bc30-4225d6aade77",
   "metadata": {},
   "outputs": [
    {
     "name": "stdout",
     "output_type": "stream",
     "text": [
      "bangla.pos 896\n",
      "hindi.pos 540\n",
      "marathi.pos 1197\n",
      "telugu.pos 994\n"
     ]
    }
   ],
   "source": [
    "for file in indian.fileids():\n",
    "    print(file, len(indian.sents(file)))"
   ]
  },
  {
   "cell_type": "code",
   "execution_count": 11,
   "id": "fa0ec302-cc3b-4fbd-b850-a7990be32770",
   "metadata": {},
   "outputs": [
    {
     "data": {
      "text/plain": [
       "[[\"''\", 'सनातनवाद्यांनी', 'व', 'प्रतिगाम्यांनी', 'समाज', 'रसातळाला', 'नेला', 'असताना', 'या', 'अंधारात', 'बाळशास्त्री', 'जांभेकर', 'यांनी', \"'दर्पण'च्या\", 'माध्यमातून', 'पहिली', 'ज्ञानज्योत', 'तेववली', ',', \"''\", 'असे', 'प्रतिपादन', 'नटसम्राट', 'प्रभाकर', 'पणशीकर', 'यांनी', 'केले', '.'], ['दर्पणकार', 'बाळशास्त्री', 'जांभेकर', 'यांच्या', '१९५व्या', 'जयंतीनिमित्त', 'महाराष्ट्र', 'संपादक', 'परिषद', 'व', 'सिंधुदुर्ग', 'जिल्हा', 'मराठी', 'पत्रकार', 'संघाच्या', 'वतीने', 'तसेच', 'महाराष्ट्र', 'जर्नलिस्ट', 'फाउंडेशन', 'व', 'महाराष्ट्र', 'ग्रामीण', 'पत्रकार', 'संघाच्या', 'सहभागाने', 'अभिवादन', 'कार्यक्रम', 'आयोजित', 'केला', 'होता', '.'], ...]"
      ]
     },
     "execution_count": 11,
     "metadata": {},
     "output_type": "execute_result"
    }
   ],
   "source": [
    "indian.sents('marathi.pos')"
   ]
  },
  {
   "cell_type": "code",
   "execution_count": 13,
   "id": "d9f6b141-a27a-4d99-a3ac-f6e58ea1ed74",
   "metadata": {},
   "outputs": [
    {
     "data": {
      "text/plain": [
       "[[(\"''\", 'SYM'), ('सनातनवाद्यांनी', 'NN'), ('व', 'CC'), ('प्रतिगाम्यांनी', 'NN'), ('समाज', 'NN'), ('रसातळाला', 'NN'), ('नेला', 'VM'), ('असताना', 'VAUX'), ('या', 'DEM'), ('अंधारात', 'NN'), ('बाळशास्त्री', 'NNPC'), ('जांभेकर', 'NNP'), ('यांनी', 'PRP'), (\"'दर्पण'च्या\", 'NNP'), ('माध्यमातून', 'NN'), ('पहिली', 'QO'), ('ज्ञानज्योत', 'NN'), ('तेववली', 'VM'), (',', 'SYM'), (\"''\", 'SYM'), ('असे', 'DEM'), ('प्रतिपादन', 'NN'), ('नटसम्राट', 'NNPC'), ('प्रभाकर', 'NNPC'), ('पणशीकर', 'NNP'), ('यांनी', 'PRP'), ('केले', 'VM'), ('.', 'SYM')], [('दर्पणकार', 'JJ'), ('बाळशास्त्री', 'NNPC'), ('जांभेकर', 'NNP'), ('यांच्या', 'PRP'), ('१९५व्या', 'QC'), ('जयंतीनिमित्त', 'NN'), ('महाराष्ट्र', 'NNPC'), ('संपादक', 'NNPC'), ('परिषद', 'NNP'), ('व', 'CC'), ('सिंधुदुर्ग', 'NNPC'), ('जिल्हा', 'NNPC'), ('मराठी', 'NNPC'), ('पत्रकार', 'NNPC'), ('संघाच्या', 'NNP'), ('वतीने', 'NN'), ('तसेच', 'PRP'), ('महाराष्ट्र', 'NNPC'), ('जर्नलिस्ट', 'NNPC'), ('फाउंडेशन', 'NNP'), ('व', 'CC'), ('महाराष्ट्र', 'NNPC'), ('ग्रामीण', 'NNPC'), ('पत्रकार', 'NNPC'), ('संघाच्या', 'NNP'), ('सहभागाने', 'NN'), ('अभिवादन', 'NN'), ('कार्यक्रम', 'NN'), ('आयोजित', 'JJ'), ('केला', 'VM'), ('होता', 'VAUX'), ('.', 'SYM')], ...]"
      ]
     },
     "execution_count": 13,
     "metadata": {},
     "output_type": "execute_result"
    }
   ],
   "source": [
    "indian.tagged_sents('marathi.pos')"
   ]
  },
  {
   "cell_type": "code",
   "execution_count": 16,
   "id": "79b22fa8-ecc2-4e00-8724-44fede7c5603",
   "metadata": {},
   "outputs": [],
   "source": [
    "# save the tagged sentences\n",
    "pos = indian.tagged_sents('marathi.pos')"
   ]
  },
  {
   "cell_type": "code",
   "execution_count": 17,
   "id": "df1f7b47-88ba-47d2-bc5f-f9fda23526fd",
   "metadata": {},
   "outputs": [],
   "source": [
    "# create the object of tagger\n",
    "tagger = TnT()"
   ]
  },
  {
   "cell_type": "code",
   "execution_count": 18,
   "id": "33d20b53-52ec-4fae-b8a2-84d633805ec4",
   "metadata": {},
   "outputs": [],
   "source": [
    "# train the tagger with sentences\n",
    "tagger.train(pos)"
   ]
  },
  {
   "cell_type": "code",
   "execution_count": 19,
   "id": "62282a75-f4d3-4dc9-958d-dada43988525",
   "metadata": {},
   "outputs": [],
   "source": [
    "# new sentence\n",
    "sent = 'सोमवारी हा सामना सुमारे आठ तास उशिरा सुरू झाला.'"
   ]
  },
  {
   "cell_type": "code",
   "execution_count": 20,
   "id": "31f58a57-950d-4147-846a-06d95f293823",
   "metadata": {},
   "outputs": [],
   "source": [
    "from nltk.tokenize import word_tokenize"
   ]
  },
  {
   "cell_type": "code",
   "execution_count": 21,
   "id": "b9218fc0-aba2-41cc-9b86-f7dbc6f557bd",
   "metadata": {},
   "outputs": [
    {
     "data": {
      "text/plain": [
       "[('सोमवारी', 'NNP'),\n",
       " ('हा', 'DEM'),\n",
       " ('सामना', 'NN'),\n",
       " ('सुमारे', 'QF'),\n",
       " ('आठ', 'QC'),\n",
       " ('तास', 'NN'),\n",
       " ('उशिरा', 'NN'),\n",
       " ('सुरू', 'JJ'),\n",
       " ('झाला', 'VM'),\n",
       " ('.', 'SYM')]"
      ]
     },
     "execution_count": 21,
     "metadata": {},
     "output_type": "execute_result"
    }
   ],
   "source": [
    "# Predict the tags of the sentence\n",
    "tagger.tag(word_tokenize(sent))"
   ]
  },
  {
   "cell_type": "code",
   "execution_count": null,
   "id": "77e0106a-269b-4023-819c-f7a303cd2c46",
   "metadata": {},
   "outputs": [],
   "source": []
  }
 ],
 "metadata": {
  "kernelspec": {
   "display_name": "Python 3 (ipykernel)",
   "language": "python",
   "name": "python3"
  },
  "language_info": {
   "codemirror_mode": {
    "name": "ipython",
    "version": 3
   },
   "file_extension": ".py",
   "mimetype": "text/x-python",
   "name": "python",
   "nbconvert_exporter": "python",
   "pygments_lexer": "ipython3",
   "version": "3.10.12"
  }
 },
 "nbformat": 4,
 "nbformat_minor": 5
}
