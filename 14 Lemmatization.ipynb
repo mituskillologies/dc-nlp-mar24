{
 "cells": [
  {
   "cell_type": "code",
   "execution_count": 3,
   "id": "9801e79d-7915-49f1-86db-06cb4260de46",
   "metadata": {},
   "outputs": [],
   "source": [
    "words1 = 'played','playing','plays','player'\n",
    "words2 = 'get','got','getting'\n",
    "words3 = 'bad','worse','worst'\n",
    "words4 = 'big','bigger','biggest'\n",
    "words5 = 'go','gone','went','going'"
   ]
  },
  {
   "cell_type": "code",
   "execution_count": 4,
   "id": "ac6e29f4-586a-4556-bbb8-197a020640c2",
   "metadata": {},
   "outputs": [],
   "source": [
    "from nltk.stem import WordNetLemmatizer"
   ]
  },
  {
   "cell_type": "code",
   "execution_count": 5,
   "id": "8da81375-7364-48ab-b9b9-c5e4062bb122",
   "metadata": {},
   "outputs": [],
   "source": [
    "wnl = WordNetLemmatizer()"
   ]
  },
  {
   "cell_type": "code",
   "execution_count": 6,
   "id": "ca8b869a-12a4-466c-ae8f-6feaad118fa5",
   "metadata": {},
   "outputs": [],
   "source": [
    "# pos: n-> noun, v->verb, a->adjective, r->adverb"
   ]
  },
  {
   "cell_type": "code",
   "execution_count": 8,
   "id": "d3417070-94ef-401d-93b3-2fe2ad11a422",
   "metadata": {},
   "outputs": [
    {
     "data": {
      "text/plain": [
       "'play'"
      ]
     },
     "execution_count": 8,
     "metadata": {},
     "output_type": "execute_result"
    }
   ],
   "source": [
    "wnl.lemmatize(words1[0], pos='v')"
   ]
  },
  {
   "cell_type": "code",
   "execution_count": 10,
   "id": "c3a89e8c-72de-454b-afb8-0c589ce2f318",
   "metadata": {},
   "outputs": [
    {
     "data": {
      "text/plain": [
       "'bad'"
      ]
     },
     "execution_count": 10,
     "metadata": {},
     "output_type": "execute_result"
    }
   ],
   "source": [
    "wnl.lemmatize(words3[1], pos='a')"
   ]
  },
  {
   "cell_type": "code",
   "execution_count": 12,
   "id": "01034fca-d41f-41f9-a2b6-d3ad88e6c900",
   "metadata": {},
   "outputs": [
    {
     "name": "stdout",
     "output_type": "stream",
     "text": [
      "play\n",
      "play\n",
      "play\n",
      "player\n"
     ]
    }
   ],
   "source": [
    "for word in words1:\n",
    "    print(wnl.lemmatize(word, pos='v'))"
   ]
  },
  {
   "cell_type": "code",
   "execution_count": 13,
   "id": "083e4b02-54e0-4233-b0b2-fec3c2ac5040",
   "metadata": {},
   "outputs": [
    {
     "name": "stdout",
     "output_type": "stream",
     "text": [
      "get\n",
      "get\n",
      "get\n"
     ]
    }
   ],
   "source": [
    "for word in words2:\n",
    "    print(wnl.lemmatize(word, pos='v'))"
   ]
  },
  {
   "cell_type": "code",
   "execution_count": 14,
   "id": "f4be2e82-8c8b-4c74-a9c1-68c0570fdee1",
   "metadata": {},
   "outputs": [
    {
     "name": "stdout",
     "output_type": "stream",
     "text": [
      "bad\n",
      "bad\n",
      "bad\n"
     ]
    }
   ],
   "source": [
    "for word in words3:\n",
    "    print(wnl.lemmatize(word, pos='a'))"
   ]
  },
  {
   "cell_type": "code",
   "execution_count": 16,
   "id": "7680aba9-f189-4485-b51c-be9b4ff4e022",
   "metadata": {},
   "outputs": [
    {
     "name": "stdout",
     "output_type": "stream",
     "text": [
      "big\n",
      "bigger\n",
      "biggest\n"
     ]
    }
   ],
   "source": [
    "for word in words4:\n",
    "    print(wnl.lemmatize(word, pos='r'))"
   ]
  },
  {
   "cell_type": "code",
   "execution_count": 17,
   "id": "91391be7-2999-4c91-b151-d6085168dd76",
   "metadata": {},
   "outputs": [
    {
     "name": "stdout",
     "output_type": "stream",
     "text": [
      "go\n",
      "go\n",
      "go\n",
      "go\n"
     ]
    }
   ],
   "source": [
    "for word in words5:\n",
    "    print(wnl.lemmatize(word, pos='v'))"
   ]
  },
  {
   "cell_type": "code",
   "execution_count": 19,
   "id": "7988bf39-0bc8-4c65-ae48-b1d78b42950d",
   "metadata": {},
   "outputs": [
    {
     "data": {
      "text/plain": [
       "'child'"
      ]
     },
     "execution_count": 19,
     "metadata": {},
     "output_type": "execute_result"
    }
   ],
   "source": [
    "wnl.lemmatize('children', pos = 'n')"
   ]
  },
  {
   "cell_type": "code",
   "execution_count": null,
   "id": "d10d98c7-5a45-410f-9eac-88338157c307",
   "metadata": {},
   "outputs": [],
   "source": []
  }
 ],
 "metadata": {
  "kernelspec": {
   "display_name": "Python 3 (ipykernel)",
   "language": "python",
   "name": "python3"
  },
  "language_info": {
   "codemirror_mode": {
    "name": "ipython",
    "version": 3
   },
   "file_extension": ".py",
   "mimetype": "text/x-python",
   "name": "python",
   "nbconvert_exporter": "python",
   "pygments_lexer": "ipython3",
   "version": "3.10.12"
  }
 },
 "nbformat": 4,
 "nbformat_minor": 5
}
