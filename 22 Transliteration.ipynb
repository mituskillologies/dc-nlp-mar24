{
 "cells": [
  {
   "cell_type": "markdown",
   "id": "ab673405-8d7c-4686-91bd-f5715b28e529",
   "metadata": {},
   "source": [
    "##### Install library"
   ]
  },
  {
   "cell_type": "code",
   "execution_count": 2,
   "id": "491f936e-a6d8-4c71-9b3d-dd283117148a",
   "metadata": {},
   "outputs": [
    {
     "name": "stdout",
     "output_type": "stream",
     "text": [
      "Defaulting to user installation because normal site-packages is not writeable\n",
      "Collecting indic_transliteration\n",
      "  Downloading indic_transliteration-2.3.59-py3-none-any.whl.metadata (1.4 kB)\n",
      "Collecting backports.functools-lru-cache (from indic_transliteration)\n",
      "  Downloading backports.functools_lru_cache-2.0.0-py2.py3-none-any.whl.metadata (3.5 kB)\n",
      "Requirement already satisfied: regex in /home/mitu/.local/lib/python3.10/site-packages (from indic_transliteration) (2023.12.25)\n",
      "Requirement already satisfied: typer in /home/mitu/.local/lib/python3.10/site-packages (from indic_transliteration) (0.9.4)\n",
      "Requirement already satisfied: toml in /home/mitu/.local/lib/python3.10/site-packages (from indic_transliteration) (0.10.2)\n",
      "Collecting roman (from indic_transliteration)\n",
      "  Downloading roman-4.1-py3-none-any.whl.metadata (3.3 kB)\n",
      "Requirement already satisfied: click<9.0.0,>=7.1.1 in /usr/lib/python3/dist-packages (from typer->indic_transliteration) (8.0.3)\n",
      "Requirement already satisfied: typing-extensions>=3.7.4.3 in /usr/local/lib/python3.10/dist-packages (from typer->indic_transliteration) (4.9.0)\n",
      "Downloading indic_transliteration-2.3.59-py3-none-any.whl (152 kB)\n",
      "\u001b[2K   \u001b[38;2;114;156;31m━━━━━━━━━━━━━━━━━━━━━━━━━━━━━━━━━━━━━━━━\u001b[0m \u001b[32m152.1/152.1 kB\u001b[0m \u001b[31m2.1 MB/s\u001b[0m eta \u001b[36m0:00:00\u001b[0mMB/s\u001b[0m eta \u001b[36m0:00:01\u001b[0m\n",
      "\u001b[?25hDownloading backports.functools_lru_cache-2.0.0-py2.py3-none-any.whl (6.7 kB)\n",
      "Downloading roman-4.1-py3-none-any.whl (5.5 kB)\n",
      "Installing collected packages: roman, backports.functools-lru-cache, indic_transliteration\n",
      "Successfully installed backports.functools-lru-cache-2.0.0 indic_transliteration-2.3.59 roman-4.1\n",
      "Note: you may need to restart the kernel to use updated packages.\n"
     ]
    }
   ],
   "source": [
    "pip install indic_transliteration"
   ]
  },
  {
   "cell_type": "code",
   "execution_count": 3,
   "id": "6aa7e228-c8c7-40db-b849-9305833dbf5c",
   "metadata": {},
   "outputs": [],
   "source": [
    "from indic_transliteration import sanscript \n",
    "from indic_transliteration.sanscript import transliterate"
   ]
  },
  {
   "cell_type": "code",
   "execution_count": 4,
   "id": "a9ad4d7e-209e-491d-ae70-5a32514c9f0a",
   "metadata": {},
   "outputs": [],
   "source": [
    "data = 'tuShaara kuTe'"
   ]
  },
  {
   "cell_type": "code",
   "execution_count": 5,
   "id": "370d284e-897b-43f2-a3de-768380f1a654",
   "metadata": {},
   "outputs": [
    {
     "name": "stdout",
     "output_type": "stream",
     "text": [
      "तुषार कुटे\n"
     ]
    }
   ],
   "source": [
    "print(transliterate(data, sanscript.ITRANS, sanscript.DEVANAGARI))"
   ]
  },
  {
   "cell_type": "code",
   "execution_count": 6,
   "id": "6e9a40c0-dea5-4d89-91c1-e22597afce27",
   "metadata": {},
   "outputs": [
    {
     "name": "stdout",
     "output_type": "stream",
     "text": [
      "তুষার কুটে\n"
     ]
    }
   ],
   "source": [
    "print(transliterate(data, sanscript.ITRANS, sanscript.BENGALI))"
   ]
  },
  {
   "cell_type": "code",
   "execution_count": 8,
   "id": "f7ab5d0f-a1cd-4d26-a21e-2177436664c2",
   "metadata": {},
   "outputs": [
    {
     "name": "stdout",
     "output_type": "stream",
     "text": [
      "તુષાર કુટે\n"
     ]
    }
   ],
   "source": [
    "print(transliterate(data, sanscript.ITRANS, sanscript.GUJARATI))"
   ]
  },
  {
   "cell_type": "code",
   "execution_count": 10,
   "id": "438a5a92-d41c-4505-bcdb-8d9e6a0d45a2",
   "metadata": {},
   "outputs": [
    {
     "name": "stdout",
     "output_type": "stream",
     "text": [
      "ತುಷಾರ ಕುಟೇ\n"
     ]
    }
   ],
   "source": [
    "print(transliterate(data, sanscript.ITRANS, sanscript.KANNADA))"
   ]
  },
  {
   "cell_type": "code",
   "execution_count": 11,
   "id": "eb05a65a-3485-43cf-99c0-e50bc943b2ea",
   "metadata": {},
   "outputs": [
    {
     "name": "stdout",
     "output_type": "stream",
     "text": [
      "My name is: तुषार कुटे\n"
     ]
    }
   ],
   "source": [
    "name = transliterate(data, sanscript.ITRANS, sanscript.DEVANAGARI)\n",
    "print('My name is:', name)"
   ]
  },
  {
   "cell_type": "code",
   "execution_count": 12,
   "id": "089afb20-aa6e-47a2-9674-6527cdf07a91",
   "metadata": {},
   "outputs": [
    {
     "name": "stdout",
     "output_type": "stream",
     "text": [
      "ऋषिकेश\n"
     ]
    }
   ],
   "source": [
    "data = 'RRiShikesha'\n",
    "print(transliterate(data, sanscript.ITRANS, sanscript.DEVANAGARI))"
   ]
  },
  {
   "cell_type": "code",
   "execution_count": null,
   "id": "8700f1f2-6ce2-478a-9787-5d44942283d2",
   "metadata": {},
   "outputs": [],
   "source": []
  }
 ],
 "metadata": {
  "kernelspec": {
   "display_name": "Python 3 (ipykernel)",
   "language": "python",
   "name": "python3"
  },
  "language_info": {
   "codemirror_mode": {
    "name": "ipython",
    "version": 3
   },
   "file_extension": ".py",
   "mimetype": "text/x-python",
   "name": "python",
   "nbconvert_exporter": "python",
   "pygments_lexer": "ipython3",
   "version": "3.10.12"
  }
 },
 "nbformat": 4,
 "nbformat_minor": 5
}
