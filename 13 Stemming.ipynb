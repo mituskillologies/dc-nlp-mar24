{
 "cells": [
  {
   "cell_type": "markdown",
   "id": "e72db3b8-1312-42bb-ba09-f36b5dc243ea",
   "metadata": {},
   "source": [
    "##### Porter Stemmer"
   ]
  },
  {
   "cell_type": "code",
   "execution_count": 1,
   "id": "8b64d3c0-ca3c-4a62-b087-ef187ecee235",
   "metadata": {},
   "outputs": [],
   "source": [
    "words1 = 'catches','caught','catching','catch'\n",
    "words2 = 'association','associations','associated'\n",
    "words3 = 'big','bigger','biggest'\n",
    "words4 = 'working','worked','works','workable'"
   ]
  },
  {
   "cell_type": "code",
   "execution_count": 2,
   "id": "fbb58693-6ad3-403f-8990-0afc80c15863",
   "metadata": {},
   "outputs": [],
   "source": [
    "# import the class\n",
    "from nltk.stem import PorterStemmer"
   ]
  },
  {
   "cell_type": "code",
   "execution_count": 3,
   "id": "8818bb27-2686-4a79-8a22-bfaf35dde24d",
   "metadata": {},
   "outputs": [],
   "source": [
    "# create the object\n",
    "ps = PorterStemmer()"
   ]
  },
  {
   "cell_type": "code",
   "execution_count": 4,
   "id": "625f9681-42f2-4edd-ac16-f500b01aed4c",
   "metadata": {},
   "outputs": [
    {
     "data": {
      "text/plain": [
       "'work'"
      ]
     },
     "execution_count": 4,
     "metadata": {},
     "output_type": "execute_result"
    }
   ],
   "source": [
    "ps.stem(words4[0])"
   ]
  },
  {
   "cell_type": "code",
   "execution_count": 5,
   "id": "3517f555-07c6-4e29-bd5b-b5bf807bfd1d",
   "metadata": {},
   "outputs": [
    {
     "name": "stdout",
     "output_type": "stream",
     "text": [
      "catch\n",
      "caught\n",
      "catch\n",
      "catch\n"
     ]
    }
   ],
   "source": [
    "for word in words1:\n",
    "    print(ps.stem(word))"
   ]
  },
  {
   "cell_type": "code",
   "execution_count": 6,
   "id": "f3c9a481-ad58-4302-8f8b-ba0f4d215167",
   "metadata": {},
   "outputs": [
    {
     "name": "stdout",
     "output_type": "stream",
     "text": [
      "associ\n",
      "associ\n",
      "associ\n"
     ]
    }
   ],
   "source": [
    "for word in words2:\n",
    "    print(ps.stem(word))"
   ]
  },
  {
   "cell_type": "code",
   "execution_count": 7,
   "id": "21132b6b-d8e5-4328-9755-a74f1dc46406",
   "metadata": {},
   "outputs": [
    {
     "name": "stdout",
     "output_type": "stream",
     "text": [
      "big\n",
      "bigger\n",
      "biggest\n"
     ]
    }
   ],
   "source": [
    "for word in words3:\n",
    "    print(ps.stem(word))"
   ]
  },
  {
   "cell_type": "code",
   "execution_count": 8,
   "id": "553bf3e4-083e-49f0-acd7-abba4d7ed3ba",
   "metadata": {},
   "outputs": [
    {
     "name": "stdout",
     "output_type": "stream",
     "text": [
      "work\n",
      "work\n",
      "work\n",
      "workabl\n"
     ]
    }
   ],
   "source": [
    "for word in words4:\n",
    "    print(ps.stem(word))"
   ]
  },
  {
   "cell_type": "code",
   "execution_count": 9,
   "id": "96bbf897-79de-413c-b94e-fe032e7ee8bd",
   "metadata": {},
   "outputs": [
    {
     "data": {
      "text/plain": [
       "'computer'"
      ]
     },
     "execution_count": 9,
     "metadata": {},
     "output_type": "execute_result"
    }
   ],
   "source": [
    "ps.stem('computerization')"
   ]
  },
  {
   "cell_type": "markdown",
   "id": "e65f6a4a-b5f0-46a3-ba5b-02a7f582a3d6",
   "metadata": {},
   "source": [
    "##### Lancaster Stemmer"
   ]
  },
  {
   "cell_type": "code",
   "execution_count": 11,
   "id": "0d5cee0f-0846-4e9e-8551-82acb001cc0c",
   "metadata": {},
   "outputs": [],
   "source": [
    "from nltk.stem import LancasterStemmer"
   ]
  },
  {
   "cell_type": "code",
   "execution_count": 12,
   "id": "e396e01a-2b8e-4c84-a5f2-6af5f2bfbaa4",
   "metadata": {},
   "outputs": [],
   "source": [
    "words1 = 'catches','caught','catching','catch'\n",
    "words2 = 'association','associations','associated'\n",
    "words3 = 'big','bigger','biggest'\n",
    "words4 = 'working','worked','works','workable'"
   ]
  },
  {
   "cell_type": "code",
   "execution_count": 13,
   "id": "a7677d53-967f-4c25-bfc0-408f6cd30bdd",
   "metadata": {},
   "outputs": [],
   "source": [
    "ls = LancasterStemmer()"
   ]
  },
  {
   "cell_type": "code",
   "execution_count": 14,
   "id": "28675c9f-b18a-4e24-a983-cec9c046e79e",
   "metadata": {},
   "outputs": [
    {
     "data": {
      "text/plain": [
       "'assocy'"
      ]
     },
     "execution_count": 14,
     "metadata": {},
     "output_type": "execute_result"
    }
   ],
   "source": [
    "ls.stem(words2[0])"
   ]
  },
  {
   "cell_type": "code",
   "execution_count": 15,
   "id": "c9194603-14ee-4f3e-a9f2-70e547ee8c34",
   "metadata": {},
   "outputs": [
    {
     "name": "stdout",
     "output_type": "stream",
     "text": [
      "catch\n",
      "caught\n",
      "catch\n",
      "catch\n"
     ]
    }
   ],
   "source": [
    "for word in words1:\n",
    "    print(ls.stem(word))"
   ]
  },
  {
   "cell_type": "code",
   "execution_count": 16,
   "id": "74300049-cab1-4cb7-8f41-2cb788a0ea1c",
   "metadata": {},
   "outputs": [
    {
     "name": "stdout",
     "output_type": "stream",
     "text": [
      "assocy\n",
      "assocy\n",
      "assocy\n"
     ]
    }
   ],
   "source": [
    "for word in words2:\n",
    "    print(ls.stem(word))"
   ]
  },
  {
   "cell_type": "code",
   "execution_count": 17,
   "id": "d0d02e31-a3be-46db-bc20-138455bd6c89",
   "metadata": {},
   "outputs": [
    {
     "name": "stdout",
     "output_type": "stream",
     "text": [
      "big\n",
      "big\n",
      "biggest\n"
     ]
    }
   ],
   "source": [
    "for word in words3:\n",
    "    print(ls.stem(word))"
   ]
  },
  {
   "cell_type": "code",
   "execution_count": 18,
   "id": "82fb7089-108f-437a-8777-bbd692cad1b0",
   "metadata": {},
   "outputs": [
    {
     "name": "stdout",
     "output_type": "stream",
     "text": [
      "work\n",
      "work\n",
      "work\n",
      "work\n"
     ]
    }
   ],
   "source": [
    "for word in words4:\n",
    "    print(ls.stem(word))"
   ]
  },
  {
   "cell_type": "code",
   "execution_count": null,
   "id": "61ed1f5f-9328-4586-8e06-412a5ddb3d5c",
   "metadata": {},
   "outputs": [],
   "source": []
  }
 ],
 "metadata": {
  "kernelspec": {
   "display_name": "Python 3 (ipykernel)",
   "language": "python",
   "name": "python3"
  },
  "language_info": {
   "codemirror_mode": {
    "name": "ipython",
    "version": 3
   },
   "file_extension": ".py",
   "mimetype": "text/x-python",
   "name": "python",
   "nbconvert_exporter": "python",
   "pygments_lexer": "ipython3",
   "version": "3.10.12"
  }
 },
 "nbformat": 4,
 "nbformat_minor": 5
}
