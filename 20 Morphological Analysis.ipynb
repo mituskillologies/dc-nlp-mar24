{
 "cells": [
  {
   "cell_type": "code",
   "execution_count": 1,
   "id": "83c6975c-09ef-4153-9733-25c10701c963",
   "metadata": {},
   "outputs": [
    {
     "name": "stdout",
     "output_type": "stream",
     "text": [
      "Defaulting to user installation because normal site-packages is not writeable\n",
      "Requirement already satisfied: morfessor in /home/mitu/.local/lib/python3.10/site-packages (2.0.6)\n",
      "Requirement already satisfied: polyglot in /home/mitu/.local/lib/python3.10/site-packages (16.7.4)\n",
      "Requirement already satisfied: PyICU in /home/mitu/.local/lib/python3.10/site-packages (2.12)\n",
      "Requirement already satisfied: pycld2 in /home/mitu/.local/lib/python3.10/site-packages (0.41)\n",
      "Note: you may need to restart the kernel to use updated packages.\n"
     ]
    }
   ],
   "source": [
    "pip install morfessor polyglot PyICU pycld2"
   ]
  },
  {
   "cell_type": "code",
   "execution_count": 2,
   "id": "c7764695-9e73-4f03-b550-9ef3ac4b1367",
   "metadata": {},
   "outputs": [
    {
     "name": "stdout",
     "output_type": "stream",
     "text": [
      "[polyglot_data] Downloading package morph2.en to\n",
      "[polyglot_data]     /home/mitu/polyglot_data...\n",
      "[polyglot_data]   Package morph2.en is already up-to-date!\n",
      "[polyglot_data] Downloading package morph2.mr to\n",
      "[polyglot_data]     /home/mitu/polyglot_data...\n",
      "[polyglot_data]   Package morph2.mr is already up-to-date!\n"
     ]
    }
   ],
   "source": [
    "%%bash\n",
    "polyglot download morph2.en morph2.mr"
   ]
  },
  {
   "cell_type": "code",
   "execution_count": 3,
   "id": "4d4c1d03-437c-43a1-bdff-60a6c7ef5e35",
   "metadata": {},
   "outputs": [
    {
     "name": "stdout",
     "output_type": "stream",
     "text": [
      "  1. Kapampangan                2. Italian                    3. Upper Sorbian            \n",
      "  4. Sakha                      5. Hindi                      6. French                   \n",
      "  7. Spanish; Castilian         8. Vietnamese                 9. Arabic                   \n",
      " 10. Macedonian                11. Pashto, Pushto            12. Bosnian-Croatian-Serbian \n",
      " 13. Egyptian Arabic           14. Norwegian Nynorsk         15. Sundanese                \n",
      " 16. Sicilian                  17. Azerbaijani               18. Bulgarian                \n",
      " 19. Yoruba                    20. Tajik                     21. Georgian                 \n",
      " 22. Tatar                     23. Galician                  24. Malagasy                 \n",
      " 25. Uighur, Uyghur            26. Amharic                   27. Venetian                 \n",
      " 28. Yiddish                   29. Norwegian                 30. Alemannic                \n",
      " 31. Estonian                  32. West Flemish              33. Divehi; Dhivehi; Mald... \n",
      " 34. Japanese                  35. Ilokano                   36. Haitian; Haitian Creole  \n",
      " 37. Belarusian                38. Greek, Modern             39. Ossetian, Ossetic        \n",
      " 40. Welsh                     41. Malayalam                 42. Albanian                 \n",
      " 43. Marathi (Marāṭhī)         44. Armenian                  45. Slovene                  \n",
      " 46. Korean                    47. Breton                    48. Irish                    \n",
      " 49. Luxembourgish, Letzeb...  50. Bengali                   51. Serbian                  \n",
      " 52. Fiji Hindi                53. Javanese                  54. Finnish                  \n",
      " 55. Gan Chinese               56. Kirghiz, Kyrgyz           57. Catalan; Valencian       \n",
      " 58. Quechua                   59. Croatian                  60. Dutch                    \n",
      " 61. Swedish                   62. Ido                       63. Tagalog                  \n",
      " 64. Sanskrit (Saṁskṛta)       65. Piedmontese language      66. Asturian                 \n",
      " 67. Danish                    68. Cebuano                   69. Western Frisian          \n",
      " 70. Kannada                   71. Scots                     72. Maltese                  \n",
      " 73. Swahili                   74. Limburgish, Limburgan...  75. Waray-Waray              \n",
      " 76. Lombard language          77. Uzbek                     78. Kurdish                  \n",
      " 79. Latvian                   80. Burmese                   81. Aragonese                \n",
      " 82. Volapük                   83. Northern Sami             84. Faroese                  \n",
      " 85. Kazakh                    86. Telugu                    87. Ukrainian                \n",
      " 88. Assamese                  89. Chuvash                   90. Silesian                 \n",
      " 91. Turkmen                   92. Romanian, Moldavian, ...  93. Persian                  \n",
      " 94. Tibetan Standard, Tib...  95. Latin                     96. Slovak                   \n",
      " 97. Sinhala, Sinhalese        98. Bavarian                  99. Icelandic                \n",
      "100. Mongolian                101. Walloon                  102. Portuguese               \n",
      "103. Urdu                     104. Gujarati                 105. Manx                     \n",
      "106. Tamil                    107. Khmer                    108. English                  \n",
      "109. Malay                    110. Chechen                  111. Bishnupriya Manipuri     \n",
      "112. Afrikaans                113. Basque                   114. Polish                   \n",
      "115. German                   116. Esperanto                117. Indonesian               \n",
      "118. Occitan                  119. Chinese                  120. Czech                    \n",
      "121. Hebrew (modern)          122. Romansh                  123. Lithuanian               \n",
      "124. Turkish                  125. Nepali                   126. Bosnian                  \n",
      "127. Interlingua              128. Zazaki                   129. Oriya                    \n",
      "130. Hungarian                131. Scottish Gaelic; Gaelic  132. Bashkir                  \n",
      "133. Thai                     134. Panjabi, Punjabi         135. Russian                  \n",
      "\n"
     ]
    }
   ],
   "source": [
    "from polyglot.downloader import downloader\n",
    "print(downloader.supported_languages_table(\"morph2\"))"
   ]
  },
  {
   "cell_type": "code",
   "execution_count": 4,
   "id": "4346eb3c-54ca-4cff-9624-80d16966c3e0",
   "metadata": {},
   "outputs": [],
   "source": [
    "from polyglot.text import Text, Word"
   ]
  },
  {
   "cell_type": "code",
   "execution_count": 5,
   "id": "45bcb9de-eb8f-47a0-bd7c-ea5627c6209c",
   "metadata": {},
   "outputs": [],
   "source": [
    "words = ['cats','computing','association','programming',\n",
    "         'leadership','miscommunication','identifiable','psychologically',\n",
    "         'engineering','tabular','realistic','colorfulness']"
   ]
  },
  {
   "cell_type": "code",
   "execution_count": 6,
   "id": "7a3db277-f7a1-4b0c-bac3-f9408e849c67",
   "metadata": {},
   "outputs": [
    {
     "name": "stdout",
     "output_type": "stream",
     "text": [
      "cats \t\t ['cat', 's']\n",
      "computing \t\t ['com', 'put', 'ing']\n",
      "association \t\t ['associ', 'ation']\n",
      "programming \t\t ['program', 'ming']\n",
      "leadership \t\t ['leader', 'ship']\n",
      "miscommunication \t\t ['mis', 'communication']\n",
      "identifiable \t\t ['identif', 'i', 'able']\n",
      "psychologically \t\t ['psycho', 'logical', 'ly']\n",
      "engineering \t\t ['engine', 'er', 'ing']\n",
      "tabular \t\t ['tab', 'ular']\n",
      "realistic \t\t ['real', 'istic']\n",
      "colorfulness \t\t ['color', 'ful', 'ness']\n"
     ]
    }
   ],
   "source": [
    "for word in words:\n",
    "    w = Word(word, language=\"en\")\n",
    "    print(word,'\\t\\t',w.morphemes)"
   ]
  },
  {
   "cell_type": "markdown",
   "id": "f474c563-e5b2-416c-941e-2632527ae29b",
   "metadata": {},
   "source": [
    "##### Indian Languages"
   ]
  },
  {
   "cell_type": "code",
   "execution_count": 8,
   "id": "8f956b60-d1e2-4495-944e-a240b45e92a9",
   "metadata": {},
   "outputs": [],
   "source": [
    "words = ['प्रमाणिकरण','जलविद्युत','राज्यशास्त्र','जलप्राधिकरण','मानसशास्त्रीय','रविवार','महाद्वीप']"
   ]
  },
  {
   "cell_type": "code",
   "execution_count": 9,
   "id": "c84c8d03-96a7-47e4-a85a-df31c33ab6a3",
   "metadata": {},
   "outputs": [
    {
     "name": "stdout",
     "output_type": "stream",
     "text": [
      "प्रमाणिकरण \t\t ['प्रमाण', 'िकरण']\n",
      "जलविद्युत \t\t ['जल', 'विद्युत']\n",
      "राज्यशास्त्र \t\t ['राज्य', 'शास्त्र']\n",
      "जलप्राधिकरण \t\t ['जल', 'प्राधिकरण']\n",
      "मानसशास्त्रीय \t\t ['मानस', 'शास्त्र', 'ीय']\n",
      "रविवार \t\t ['रवि', 'वार']\n",
      "महाद्वीप \t\t ['महा', 'द्वीप']\n"
     ]
    }
   ],
   "source": [
    "for word in words:\n",
    "    w = Word(word, language=\"mr\")\n",
    "    print(word,'\\t\\t',w.morphemes)"
   ]
  },
  {
   "cell_type": "markdown",
   "id": "4ec7aea2-46d6-41c2-a8ab-397f315491d1",
   "metadata": {},
   "source": [
    "##### Using the Text class"
   ]
  },
  {
   "cell_type": "code",
   "execution_count": 11,
   "id": "58be3edf-498d-465c-9df4-9bb16fa76efc",
   "metadata": {},
   "outputs": [],
   "source": [
    "sent = 'wewillmeettoday'"
   ]
  },
  {
   "cell_type": "code",
   "execution_count": 12,
   "id": "90ad5b97-b5c1-44ff-aa0f-d2e9a2a8aa6f",
   "metadata": {},
   "outputs": [],
   "source": [
    "text = Text(sent)"
   ]
  },
  {
   "cell_type": "code",
   "execution_count": 13,
   "id": "bf259f31-d094-4d59-87b9-75bd7516440a",
   "metadata": {},
   "outputs": [],
   "source": [
    "text.language = 'en'"
   ]
  },
  {
   "cell_type": "code",
   "execution_count": 14,
   "id": "c24756b9-2b7a-47fb-b1af-2ae319de941d",
   "metadata": {},
   "outputs": [
    {
     "data": {
      "text/plain": [
       "WordList(['we', 'will', 'meet', 'to', 'day'])"
      ]
     },
     "execution_count": 14,
     "metadata": {},
     "output_type": "execute_result"
    }
   ],
   "source": [
    "text.morphemes"
   ]
  },
  {
   "cell_type": "code",
   "execution_count": null,
   "id": "e107b161-3460-4f4d-84ec-5aa4305dac82",
   "metadata": {},
   "outputs": [],
   "source": []
  }
 ],
 "metadata": {
  "kernelspec": {
   "display_name": "Python 3 (ipykernel)",
   "language": "python",
   "name": "python3"
  },
  "language_info": {
   "codemirror_mode": {
    "name": "ipython",
    "version": 3
   },
   "file_extension": ".py",
   "mimetype": "text/x-python",
   "name": "python",
   "nbconvert_exporter": "python",
   "pygments_lexer": "ipython3",
   "version": "3.10.12"
  }
 },
 "nbformat": 4,
 "nbformat_minor": 5
}
