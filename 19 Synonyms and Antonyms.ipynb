{
 "cells": [
  {
   "cell_type": "markdown",
   "id": "958f9015-0eb8-4b7f-be38-70202e37712f",
   "metadata": {},
   "source": [
    "#### Synonyms"
   ]
  },
  {
   "cell_type": "code",
   "execution_count": 3,
   "id": "2a8be72e-7f5d-4ef5-b1a3-45c9147900a6",
   "metadata": {},
   "outputs": [],
   "source": [
    "from nltk.corpus import wordnet"
   ]
  },
  {
   "cell_type": "code",
   "execution_count": 3,
   "id": "b86b643c-28a7-4a6d-90cc-543471312f14",
   "metadata": {},
   "outputs": [],
   "source": [
    "x = wordnet.synsets('create')"
   ]
  },
  {
   "cell_type": "code",
   "execution_count": 4,
   "id": "1befcbcd-fb75-4969-a766-9d3e3115938b",
   "metadata": {},
   "outputs": [
    {
     "data": {
      "text/plain": [
       "[Synset('make.v.03'),\n",
       " Synset('create.v.02'),\n",
       " Synset('create.v.03'),\n",
       " Synset('create.v.04'),\n",
       " Synset('create.v.05'),\n",
       " Synset('produce.v.02')]"
      ]
     },
     "execution_count": 4,
     "metadata": {},
     "output_type": "execute_result"
    }
   ],
   "source": [
    "x"
   ]
  },
  {
   "cell_type": "code",
   "execution_count": 5,
   "id": "9a29bc17-a2cf-4fec-8980-27d895aa4a70",
   "metadata": {},
   "outputs": [],
   "source": [
    "synonyms = set()\n",
    "\n",
    "for word in wordnet.synsets('create'):\n",
    "    synonyms.add(word.lemmas()[0].name())"
   ]
  },
  {
   "cell_type": "code",
   "execution_count": 6,
   "id": "fa62beb2-777a-4d41-abb2-1123ea33ef1e",
   "metadata": {},
   "outputs": [
    {
     "data": {
      "text/plain": [
       "{'create', 'make', 'produce'}"
      ]
     },
     "execution_count": 6,
     "metadata": {},
     "output_type": "execute_result"
    }
   ],
   "source": [
    "synonyms"
   ]
  },
  {
   "cell_type": "markdown",
   "id": "f14d66cb-a806-4e61-95b8-d0410d2a179b",
   "metadata": {},
   "source": [
    "#### Definition and Examples"
   ]
  },
  {
   "cell_type": "code",
   "execution_count": 14,
   "id": "08251b5a-54ba-43bd-96ae-062984769b81",
   "metadata": {},
   "outputs": [
    {
     "name": "stdout",
     "output_type": "stream",
     "text": [
      "Word and Type : post.n.01\n",
      "Synonym : station\n",
      "The meaning of the word : the position where someone (as a guard or sentry) stands or is assigned to stand\n",
      "Example : ['a soldier manned the entrance post', 'a sentry station']\n"
     ]
    }
   ],
   "source": [
    "synset = wordnet.synsets(\"post\")\n",
    "\n",
    "print('Word and Type : ' + synset[0].name())\n",
    "print('Synonym : ' + synset[0].lemmas()[1].name())\n",
    "print('The meaning of the word : ' + synset[0].definition())\n",
    "print('Example : ' + str(synset[0].examples()))"
   ]
  },
  {
   "cell_type": "code",
   "execution_count": 19,
   "id": "76ce9cc4-e4f9-4b43-b952-0740e5468e3e",
   "metadata": {},
   "outputs": [
    {
     "name": "stdout",
     "output_type": "stream",
     "text": [
      "Word and Type : military_post.n.01\n",
      "Synonym : post\n",
      "The meaning of the word : military installation at which a body of troops is stationed\n",
      "Example :  ['this military post provides an important source of income for the town nearby', \"there is an officer's club on the post\"]\n"
     ]
    }
   ],
   "source": [
    "synset = wordnet.synsets(\"post\")\n",
    "\n",
    "print('Word and Type : ' + synset[1].name())\n",
    "print('Synonym : ' + synset[1].lemmas()[1].name())\n",
    "print('The meaning of the word : ' + synset[1].definition())\n",
    "print('Example : ', synset[1].examples())"
   ]
  },
  {
   "cell_type": "code",
   "execution_count": 22,
   "id": "54a11ece-118b-4586-9bca-39c1f3cbb925",
   "metadata": {},
   "outputs": [
    {
     "name": "stdout",
     "output_type": "stream",
     "text": [
      "get.n.01\n",
      "get.v.01\n",
      "become.v.01\n",
      "get.v.03\n",
      "receive.v.02\n",
      "arrive.v.01\n",
      "bring.v.04\n",
      "experience.v.03\n",
      "pay_back.v.02\n",
      "have.v.17\n",
      "induce.v.02\n",
      "get.v.11\n",
      "grow.v.08\n",
      "contract.v.04\n",
      "get.v.14\n",
      "make.v.02\n",
      "drive.v.11\n",
      "catch.v.18\n",
      "catch.v.07\n",
      "get.v.19\n",
      "get.v.20\n",
      "get.v.21\n",
      "get.v.22\n",
      "catch.v.21\n",
      "catch.v.22\n",
      "get.v.25\n",
      "scram.v.01\n",
      "get.v.27\n",
      "get.v.28\n",
      "get.v.29\n",
      "catch.v.24\n",
      "draw.v.15\n",
      "get.v.32\n",
      "perplex.v.01\n",
      "get_down.v.07\n",
      "suffer.v.02\n",
      "beget.v.01\n"
     ]
    }
   ],
   "source": [
    "for word in wordnet.synsets('get'):\n",
    "    print(word.name())"
   ]
  },
  {
   "cell_type": "markdown",
   "id": "c36e5968-8020-48c1-8812-42e22ed23530",
   "metadata": {},
   "source": [
    "##### Retrieve the antonyms"
   ]
  },
  {
   "cell_type": "code",
   "execution_count": 4,
   "id": "aa3cc401-18ee-444c-9551-abad8aac34ca",
   "metadata": {},
   "outputs": [],
   "source": [
    "from nltk.corpus import wordnet"
   ]
  },
  {
   "cell_type": "code",
   "execution_count": 7,
   "id": "60716f74-4b0a-49c9-8aa4-63fda0f90165",
   "metadata": {},
   "outputs": [
    {
     "name": "stdout",
     "output_type": "stream",
     "text": [
      "Antonyms:  {'leave', 'take_away', 'end'}\n"
     ]
    }
   ],
   "source": [
    "ant = set()\n",
    "for synset in wordnet.synsets(\"get\"):\n",
    "    for lemma in synset.lemmas():\n",
    "        if lemma.antonyms():    #When antonyms are available, add them into the set\n",
    "            ant.add(lemma.antonyms()[0].name())\n",
    "            \n",
    "print('Antonyms: ', ant)"
   ]
  },
  {
   "cell_type": "code",
   "execution_count": null,
   "id": "3f7dc34e-5e78-4316-bf11-8959b8f5cbd6",
   "metadata": {},
   "outputs": [],
   "source": []
  }
 ],
 "metadata": {
  "kernelspec": {
   "display_name": "Python 3 (ipykernel)",
   "language": "python",
   "name": "python3"
  },
  "language_info": {
   "codemirror_mode": {
    "name": "ipython",
    "version": 3
   },
   "file_extension": ".py",
   "mimetype": "text/x-python",
   "name": "python",
   "nbconvert_exporter": "python",
   "pygments_lexer": "ipython3",
   "version": "3.10.12"
  }
 },
 "nbformat": 4,
 "nbformat_minor": 5
}
