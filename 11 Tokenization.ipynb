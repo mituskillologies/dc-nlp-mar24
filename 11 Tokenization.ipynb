{
 "cells": [
  {
   "cell_type": "markdown",
   "id": "eab2e4b4-f4c4-405e-bfa4-19840147329e",
   "metadata": {},
   "source": [
    "#### Setup the system"
   ]
  },
  {
   "cell_type": "code",
   "execution_count": 2,
   "id": "d28ea05b-028b-4605-80c4-9d502ff9fde1",
   "metadata": {},
   "outputs": [
    {
     "name": "stdout",
     "output_type": "stream",
     "text": [
      "Defaulting to user installation because normal site-packages is not writeable\n",
      "Requirement already satisfied: nltk in ./.local/lib/python3.10/site-packages (3.8.1)\n",
      "Requirement already satisfied: textblob in ./.local/lib/python3.10/site-packages (0.18.0.post0)\n",
      "Collecting spacy\n",
      "  Downloading spacy-3.7.4-cp310-cp310-manylinux_2_17_x86_64.manylinux2014_x86_64.whl.metadata (27 kB)\n",
      "Requirement already satisfied: bs4 in ./.local/lib/python3.10/site-packages (0.0.2)\n",
      "Requirement already satisfied: click in /usr/lib/python3/dist-packages (from nltk) (8.0.3)\n",
      "Requirement already satisfied: joblib in /usr/local/lib/python3.10/dist-packages (from nltk) (1.3.2)\n",
      "Requirement already satisfied: regex>=2021.8.3 in ./.local/lib/python3.10/site-packages (from nltk) (2023.12.25)\n",
      "Requirement already satisfied: tqdm in ./.local/lib/python3.10/site-packages (from nltk) (4.66.1)\n",
      "Collecting spacy-legacy<3.1.0,>=3.0.11 (from spacy)\n",
      "  Downloading spacy_legacy-3.0.12-py2.py3-none-any.whl.metadata (2.8 kB)\n",
      "Collecting spacy-loggers<2.0.0,>=1.0.0 (from spacy)\n",
      "  Downloading spacy_loggers-1.0.5-py3-none-any.whl.metadata (23 kB)\n",
      "Collecting murmurhash<1.1.0,>=0.28.0 (from spacy)\n",
      "  Downloading murmurhash-1.0.10-cp310-cp310-manylinux_2_5_x86_64.manylinux1_x86_64.manylinux_2_17_x86_64.manylinux2014_x86_64.whl.metadata (2.0 kB)\n",
      "Collecting cymem<2.1.0,>=2.0.2 (from spacy)\n",
      "  Downloading cymem-2.0.8-cp310-cp310-manylinux_2_17_x86_64.manylinux2014_x86_64.whl.metadata (8.4 kB)\n",
      "Collecting preshed<3.1.0,>=3.0.2 (from spacy)\n",
      "  Downloading preshed-3.0.9-cp310-cp310-manylinux_2_5_x86_64.manylinux1_x86_64.manylinux_2_17_x86_64.manylinux2014_x86_64.whl.metadata (2.2 kB)\n",
      "Collecting thinc<8.3.0,>=8.2.2 (from spacy)\n",
      "  Downloading thinc-8.2.3-cp310-cp310-manylinux_2_17_x86_64.manylinux2014_x86_64.whl.metadata (15 kB)\n",
      "Collecting wasabi<1.2.0,>=0.9.1 (from spacy)\n",
      "  Downloading wasabi-1.1.2-py3-none-any.whl.metadata (28 kB)\n",
      "Collecting srsly<3.0.0,>=2.4.3 (from spacy)\n",
      "  Downloading srsly-2.4.8-cp310-cp310-manylinux_2_17_x86_64.manylinux2014_x86_64.whl.metadata (20 kB)\n",
      "Collecting catalogue<2.1.0,>=2.0.6 (from spacy)\n",
      "  Downloading catalogue-2.0.10-py3-none-any.whl.metadata (14 kB)\n",
      "Collecting weasel<0.4.0,>=0.1.0 (from spacy)\n",
      "  Downloading weasel-0.3.4-py3-none-any.whl.metadata (4.7 kB)\n",
      "Collecting typer<0.10.0,>=0.3.0 (from spacy)\n",
      "  Downloading typer-0.9.4-py3-none-any.whl.metadata (14 kB)\n",
      "Collecting smart-open<7.0.0,>=5.2.1 (from spacy)\n",
      "  Downloading smart_open-6.4.0-py3-none-any.whl.metadata (21 kB)\n",
      "Requirement already satisfied: requests<3.0.0,>=2.13.0 in /usr/local/lib/python3.10/dist-packages (from spacy) (2.31.0)\n",
      "Requirement already satisfied: pydantic!=1.8,!=1.8.1,<3.0.0,>=1.7.4 in ./.local/lib/python3.10/site-packages (from spacy) (2.6.1)\n",
      "Requirement already satisfied: jinja2 in /usr/local/lib/python3.10/dist-packages (from spacy) (3.1.2)\n",
      "Requirement already satisfied: setuptools in /usr/lib/python3/dist-packages (from spacy) (59.6.0)\n",
      "Requirement already satisfied: packaging>=20.0 in /usr/local/lib/python3.10/dist-packages (from spacy) (23.2)\n",
      "Collecting langcodes<4.0.0,>=3.2.0 (from spacy)\n",
      "  Downloading langcodes-3.3.0-py3-none-any.whl.metadata (29 kB)\n",
      "Requirement already satisfied: numpy>=1.19.0 in /usr/local/lib/python3.10/dist-packages (from spacy) (1.26.3)\n",
      "Requirement already satisfied: beautifulsoup4 in /usr/local/lib/python3.10/dist-packages (from bs4) (4.12.2)\n",
      "Requirement already satisfied: annotated-types>=0.4.0 in ./.local/lib/python3.10/site-packages (from pydantic!=1.8,!=1.8.1,<3.0.0,>=1.7.4->spacy) (0.6.0)\n",
      "Requirement already satisfied: pydantic-core==2.16.2 in ./.local/lib/python3.10/site-packages (from pydantic!=1.8,!=1.8.1,<3.0.0,>=1.7.4->spacy) (2.16.2)\n",
      "Requirement already satisfied: typing-extensions>=4.6.1 in /usr/local/lib/python3.10/dist-packages (from pydantic!=1.8,!=1.8.1,<3.0.0,>=1.7.4->spacy) (4.9.0)\n",
      "Requirement already satisfied: charset-normalizer<4,>=2 in /usr/local/lib/python3.10/dist-packages (from requests<3.0.0,>=2.13.0->spacy) (3.3.2)\n",
      "Requirement already satisfied: idna<4,>=2.5 in /usr/lib/python3/dist-packages (from requests<3.0.0,>=2.13.0->spacy) (3.3)\n",
      "Requirement already satisfied: urllib3<3,>=1.21.1 in /usr/lib/python3/dist-packages (from requests<3.0.0,>=2.13.0->spacy) (1.26.5)\n",
      "Requirement already satisfied: certifi>=2017.4.17 in /usr/lib/python3/dist-packages (from requests<3.0.0,>=2.13.0->spacy) (2020.6.20)\n",
      "Collecting blis<0.8.0,>=0.7.8 (from thinc<8.3.0,>=8.2.2->spacy)\n",
      "  Downloading blis-0.7.11-cp310-cp310-manylinux_2_17_x86_64.manylinux2014_x86_64.whl.metadata (7.4 kB)\n",
      "Collecting confection<1.0.0,>=0.0.1 (from thinc<8.3.0,>=8.2.2->spacy)\n",
      "  Downloading confection-0.1.4-py3-none-any.whl.metadata (19 kB)\n",
      "Collecting cloudpathlib<0.17.0,>=0.7.0 (from weasel<0.4.0,>=0.1.0->spacy)\n",
      "  Downloading cloudpathlib-0.16.0-py3-none-any.whl.metadata (14 kB)\n",
      "Requirement already satisfied: soupsieve>1.2 in /usr/local/lib/python3.10/dist-packages (from beautifulsoup4->bs4) (2.5)\n",
      "Requirement already satisfied: MarkupSafe>=2.0 in /usr/local/lib/python3.10/dist-packages (from jinja2->spacy) (2.1.3)\n",
      "Downloading spacy-3.7.4-cp310-cp310-manylinux_2_17_x86_64.manylinux2014_x86_64.whl (6.6 MB)\n",
      "\u001b[2K   \u001b[38;2;114;156;31m━━━━━━━━━━━━━━━━━━━━━━━━━━━━━━━━━━━━━━━━\u001b[0m \u001b[32m6.6/6.6 MB\u001b[0m \u001b[31m12.4 MB/s\u001b[0m eta \u001b[36m0:00:00\u001b[0mm eta \u001b[36m0:00:01\u001b[0m0:01\u001b[0m:01\u001b[0m\n",
      "\u001b[?25hDownloading catalogue-2.0.10-py3-none-any.whl (17 kB)\n",
      "Downloading cymem-2.0.8-cp310-cp310-manylinux_2_17_x86_64.manylinux2014_x86_64.whl (46 kB)\n",
      "\u001b[2K   \u001b[38;2;114;156;31m━━━━━━━━━━━━━━━━━━━━━━━━━━━━━━━━━━━━━━━━\u001b[0m \u001b[32m46.1/46.1 kB\u001b[0m \u001b[31m4.9 MB/s\u001b[0m eta \u001b[36m0:00:00\u001b[0m\n",
      "\u001b[?25hDownloading langcodes-3.3.0-py3-none-any.whl (181 kB)\n",
      "\u001b[2K   \u001b[38;2;114;156;31m━━━━━━━━━━━━━━━━━━━━━━━━━━━━━━━━━━━━━━━━\u001b[0m \u001b[32m181.6/181.6 kB\u001b[0m \u001b[31m12.7 MB/s\u001b[0m eta \u001b[36m0:00:00\u001b[0m\n",
      "\u001b[?25hDownloading murmurhash-1.0.10-cp310-cp310-manylinux_2_5_x86_64.manylinux1_x86_64.manylinux_2_17_x86_64.manylinux2014_x86_64.whl (29 kB)\n",
      "Downloading preshed-3.0.9-cp310-cp310-manylinux_2_5_x86_64.manylinux1_x86_64.manylinux_2_17_x86_64.manylinux2014_x86_64.whl (156 kB)\n",
      "\u001b[2K   \u001b[38;2;114;156;31m━━━━━━━━━━━━━━━━━━━━━━━━━━━━━━━━━━━━━━━━\u001b[0m \u001b[32m156.9/156.9 kB\u001b[0m \u001b[31m14.6 MB/s\u001b[0m eta \u001b[36m0:00:00\u001b[0m\n",
      "\u001b[?25hDownloading smart_open-6.4.0-py3-none-any.whl (57 kB)\n",
      "\u001b[2K   \u001b[38;2;114;156;31m━━━━━━━━━━━━━━━━━━━━━━━━━━━━━━━━━━━━━━━━\u001b[0m \u001b[32m57.0/57.0 kB\u001b[0m \u001b[31m6.4 MB/s\u001b[0m eta \u001b[36m0:00:00\u001b[0m\n",
      "\u001b[?25hDownloading spacy_legacy-3.0.12-py2.py3-none-any.whl (29 kB)\n",
      "Downloading spacy_loggers-1.0.5-py3-none-any.whl (22 kB)\n",
      "Downloading srsly-2.4.8-cp310-cp310-manylinux_2_17_x86_64.manylinux2014_x86_64.whl (493 kB)\n",
      "\u001b[2K   \u001b[38;2;114;156;31m━━━━━━━━━━━━━━━━━━━━━━━━━━━━━━━━━━━━━━━━\u001b[0m \u001b[32m493.0/493.0 kB\u001b[0m \u001b[31m8.0 MB/s\u001b[0m eta \u001b[36m0:00:00\u001b[0m9 MB/s\u001b[0m eta \u001b[36m0:00:01\u001b[0m\n",
      "\u001b[?25hDownloading thinc-8.2.3-cp310-cp310-manylinux_2_17_x86_64.manylinux2014_x86_64.whl (922 kB)\n",
      "\u001b[2K   \u001b[38;2;114;156;31m━━━━━━━━━━━━━━━━━━━━━━━━━━━━━━━━━━━━━━━━\u001b[0m \u001b[32m922.3/922.3 kB\u001b[0m \u001b[31m9.8 MB/s\u001b[0m eta \u001b[36m0:00:00\u001b[0m2 MB/s\u001b[0m eta \u001b[36m0:00:01\u001b[0m\n",
      "\u001b[?25hDownloading typer-0.9.4-py3-none-any.whl (45 kB)\n",
      "\u001b[2K   \u001b[38;2;114;156;31m━━━━━━━━━━━━━━━━━━━━━━━━━━━━━━━━━━━━━━━━\u001b[0m \u001b[32m46.0/46.0 kB\u001b[0m \u001b[31m4.8 MB/s\u001b[0m eta \u001b[36m0:00:00\u001b[0m\n",
      "\u001b[?25hDownloading wasabi-1.1.2-py3-none-any.whl (27 kB)\n",
      "Downloading weasel-0.3.4-py3-none-any.whl (50 kB)\n",
      "\u001b[2K   \u001b[38;2;114;156;31m━━━━━━━━━━━━━━━━━━━━━━━━━━━━━━━━━━━━━━━━\u001b[0m \u001b[32m50.1/50.1 kB\u001b[0m \u001b[31m6.3 MB/s\u001b[0m eta \u001b[36m0:00:00\u001b[0m\n",
      "\u001b[?25hDownloading blis-0.7.11-cp310-cp310-manylinux_2_17_x86_64.manylinux2014_x86_64.whl (10.2 MB)\n",
      "\u001b[2K   \u001b[38;2;114;156;31m━━━━━━━━━━━━━━━━━━━━━━━━━━━━━━━━━━━━━━━━\u001b[0m \u001b[32m10.2/10.2 MB\u001b[0m \u001b[31m13.4 MB/s\u001b[0m eta \u001b[36m0:00:00\u001b[0mm eta \u001b[36m0:00:01\u001b[0m36m0:00:01\u001b[0m\n",
      "\u001b[?25hDownloading cloudpathlib-0.16.0-py3-none-any.whl (45 kB)\n",
      "\u001b[2K   \u001b[38;2;114;156;31m━━━━━━━━━━━━━━━━━━━━━━━━━━━━━━━━━━━━━━━━\u001b[0m \u001b[32m45.0/45.0 kB\u001b[0m \u001b[31m4.8 MB/s\u001b[0m eta \u001b[36m0:00:00\u001b[0m\n",
      "\u001b[?25hDownloading confection-0.1.4-py3-none-any.whl (35 kB)\n",
      "Installing collected packages: cymem, wasabi, typer, spacy-loggers, spacy-legacy, smart-open, murmurhash, langcodes, cloudpathlib, catalogue, blis, srsly, preshed, confection, weasel, thinc, spacy\n",
      "Successfully installed blis-0.7.11 catalogue-2.0.10 cloudpathlib-0.16.0 confection-0.1.4 cymem-2.0.8 langcodes-3.3.0 murmurhash-1.0.10 preshed-3.0.9 smart-open-6.4.0 spacy-3.7.4 spacy-legacy-3.0.12 spacy-loggers-1.0.5 srsly-2.4.8 thinc-8.2.3 typer-0.9.4 wasabi-1.1.2 weasel-0.3.4\n",
      "Note: you may need to restart the kernel to use updated packages.\n"
     ]
    }
   ],
   "source": [
    "pip install nltk textblob spacy bs4"
   ]
  },
  {
   "cell_type": "code",
   "execution_count": 3,
   "id": "18ca62f5-f3ef-4788-93e5-9beeb3c7d138",
   "metadata": {},
   "outputs": [],
   "source": [
    "import nltk"
   ]
  },
  {
   "cell_type": "code",
   "execution_count": 4,
   "id": "d429eb73-00f0-489f-9b68-f703824babec",
   "metadata": {},
   "outputs": [
    {
     "name": "stderr",
     "output_type": "stream",
     "text": [
      "[nltk_data] Downloading package punkt to /home/mitu/nltk_data...\n",
      "[nltk_data]   Package punkt is already up-to-date!\n",
      "[nltk_data] Downloading package averaged_perceptron_tagger to\n",
      "[nltk_data]     /home/mitu/nltk_data...\n",
      "[nltk_data]   Package averaged_perceptron_tagger is already up-to-\n",
      "[nltk_data]       date!\n",
      "[nltk_data] Downloading package stopwords to /home/mitu/nltk_data...\n",
      "[nltk_data]   Unzipping corpora/stopwords.zip.\n",
      "[nltk_data] Downloading package wordnet to /home/mitu/nltk_data...\n",
      "[nltk_data]   Package wordnet is already up-to-date!\n",
      "[nltk_data] Downloading package indian to /home/mitu/nltk_data...\n",
      "[nltk_data]   Package indian is already up-to-date!\n",
      "[nltk_data] Downloading package omw-1.4 to /home/mitu/nltk_data...\n",
      "[nltk_data]   Package omw-1.4 is already up-to-date!\n"
     ]
    },
    {
     "data": {
      "text/plain": [
       "True"
      ]
     },
     "execution_count": 4,
     "metadata": {},
     "output_type": "execute_result"
    }
   ],
   "source": [
    "nltk.download('punkt')\n",
    "nltk.download('averaged_perceptron_tagger')\n",
    "nltk.download('stopwords')\n",
    "nltk.download('wordnet')\n",
    "nltk.download('indian')\n",
    "nltk.download('omw-1.4')"
   ]
  },
  {
   "cell_type": "code",
   "execution_count": 5,
   "id": "93b077c0-0d31-4da5-9618-1c3533164e6f",
   "metadata": {},
   "outputs": [],
   "source": [
    "sent = 'They told that their ages are 23 25 and 29 respectively.'"
   ]
  },
  {
   "cell_type": "code",
   "execution_count": 6,
   "id": "aa70a286-a524-4b94-9800-4889f1f1a745",
   "metadata": {},
   "outputs": [],
   "source": [
    "# Problem: Find the average of ages mentioned in the sentence."
   ]
  },
  {
   "cell_type": "code",
   "execution_count": 7,
   "id": "cec05e20-a9f0-41b3-b65f-7f61922f59d5",
   "metadata": {},
   "outputs": [
    {
     "data": {
      "text/plain": [
       "['They',\n",
       " 'told',\n",
       " 'that',\n",
       " 'their',\n",
       " 'ages',\n",
       " 'are',\n",
       " '23',\n",
       " '25',\n",
       " 'and',\n",
       " '29',\n",
       " 'respectively.']"
      ]
     },
     "execution_count": 7,
     "metadata": {},
     "output_type": "execute_result"
    }
   ],
   "source": [
    "sent.split()"
   ]
  },
  {
   "cell_type": "code",
   "execution_count": 8,
   "id": "c84b15a7-90be-49b7-bcd2-bbf1af5b9161",
   "metadata": {},
   "outputs": [
    {
     "data": {
      "text/plain": [
       "True"
      ]
     },
     "execution_count": 8,
     "metadata": {},
     "output_type": "execute_result"
    }
   ],
   "source": [
    "num = '45'\n",
    "num.isdigit()"
   ]
  },
  {
   "cell_type": "code",
   "execution_count": 9,
   "id": "0098ae93-16bc-4a92-b774-08ef9d1ea795",
   "metadata": {},
   "outputs": [
    {
     "name": "stdout",
     "output_type": "stream",
     "text": [
      "23\n",
      "25\n",
      "29\n"
     ]
    }
   ],
   "source": [
    "for word in sent.split():\n",
    "    if word.isdigit():\n",
    "        print(word)"
   ]
  },
  {
   "cell_type": "code",
   "execution_count": 10,
   "id": "130e5eab-01a5-4fb0-8b70-c63b8c0ff963",
   "metadata": {},
   "outputs": [],
   "source": [
    "num = []\n",
    "for word in sent.split():\n",
    "    if word.isdigit():\n",
    "        num.append(int(word))"
   ]
  },
  {
   "cell_type": "code",
   "execution_count": 11,
   "id": "6c0818ee-73b9-4e1a-8fbf-8bf2ec47b16c",
   "metadata": {},
   "outputs": [
    {
     "data": {
      "text/plain": [
       "[23, 25, 29]"
      ]
     },
     "execution_count": 11,
     "metadata": {},
     "output_type": "execute_result"
    }
   ],
   "source": [
    "num"
   ]
  },
  {
   "cell_type": "code",
   "execution_count": 12,
   "id": "b6fecc5a-d4be-4553-b90e-59a44dbfc47b",
   "metadata": {},
   "outputs": [
    {
     "data": {
      "text/plain": [
       "25.666666666666668"
      ]
     },
     "execution_count": 12,
     "metadata": {},
     "output_type": "execute_result"
    }
   ],
   "source": [
    "sum(num) / len(num)"
   ]
  },
  {
   "cell_type": "markdown",
   "id": "745b4b7c-cf91-4ae0-a266-927d3df9b723",
   "metadata": {},
   "source": [
    "##### Tokenization"
   ]
  },
  {
   "cell_type": "code",
   "execution_count": 24,
   "id": "6ac078af-b8a0-4ea0-a252-9ba2a7c46695",
   "metadata": {},
   "outputs": [],
   "source": [
    "sent = 'Hello friends! How are you? Welcome to the world of Python Programming.'"
   ]
  },
  {
   "cell_type": "code",
   "execution_count": 25,
   "id": "43150ac1-c6bb-4134-b486-988bb6c9ddb2",
   "metadata": {},
   "outputs": [],
   "source": [
    "# import the functions\n",
    "from nltk.tokenize import sent_tokenize, word_tokenize"
   ]
  },
  {
   "cell_type": "code",
   "execution_count": 26,
   "id": "1ce2f011-3e81-4dae-b2f6-24bbc6edebe2",
   "metadata": {},
   "outputs": [
    {
     "data": {
      "text/plain": [
       "['Hello friends!',\n",
       " 'How are you?',\n",
       " 'Welcome to the world of Python Programming.']"
      ]
     },
     "execution_count": 26,
     "metadata": {},
     "output_type": "execute_result"
    }
   ],
   "source": [
    "sent_tokenize(sent)"
   ]
  },
  {
   "cell_type": "code",
   "execution_count": 27,
   "id": "e067af6a-dbbd-4112-b425-a31fa3bbc49c",
   "metadata": {},
   "outputs": [
    {
     "data": {
      "text/plain": [
       "['Hello',\n",
       " 'friends',\n",
       " '!',\n",
       " 'How',\n",
       " 'are',\n",
       " 'you',\n",
       " '?',\n",
       " 'Welcome',\n",
       " 'to',\n",
       " 'the',\n",
       " 'world',\n",
       " 'of',\n",
       " 'Python',\n",
       " 'Programming',\n",
       " '.']"
      ]
     },
     "execution_count": 27,
     "metadata": {},
     "output_type": "execute_result"
    }
   ],
   "source": [
    "word_tokenize(sent)"
   ]
  },
  {
   "cell_type": "code",
   "execution_count": 28,
   "id": "7574a53c-64b6-4355-91cb-fd7a4687df38",
   "metadata": {},
   "outputs": [],
   "source": [
    "text = '''पुणे हे भारताच्या दख्खन पठारावरील महाराष्ट्राचे एक शहर आहे. पुणे जिल्ह्याचे आणि पुणे विभागाचे हे प्रशासकीय मुख्यालय आहे. २०११ जनगणनेनुसार, शहराच्या हद्दीतील ३.१ दशलक्ष लोकसंख्येसह पुणे हे भारतातील नववे सर्वात जास्त लोकसंख्या असलेले शहर आहे. महानगर प्रदेशातील ७.२ दशलक्ष रहिवासी लोकसंख्या आहे, यानुसार ते आठवे सर्वाधिक लोकसंख्या असलेले शहर आहे. [११]पुणे शहर पुणे महानगर प्रदेशाचा एक भाग आहे. [१२] भारतातील सर्वात मोठ्या आयटी हबपैकी पुणे एक आहे. [१३] [१४]हे भारतातील सर्वात महत्वाचे ऑटोमोबाईल आणि उत्पादन केंद्रांपैकी एक आहे. पुणे हे एक विकसनशील शहर आहे. [१५]या शहराला येथील उच्च प्रतिष्ठित शैक्षणिक संस्थांमुळे \"पूर्वेकडील ऑक्सफर्ड\" म्हणून संबोधले जाते. [१६] [१७] [१८] \"भारतातील सर्वात राहण्यायोग्य शहर\" म्हणून अनेक वेळा पुण्याला स्थान देण्यात आले आहे.'''"
   ]
  },
  {
   "cell_type": "code",
   "execution_count": 29,
   "id": "082e5f10-498c-48c9-a96b-98995440914b",
   "metadata": {},
   "outputs": [
    {
     "data": {
      "text/plain": [
       "'पुणे हे भारताच्या दख्खन पठारावरील महाराष्ट्राचे एक शहर आहे. पुणे जिल्ह्याचे आणि पुणे विभागाचे हे प्रशासकीय मुख्यालय आहे. २०११ जनगणनेनुसार, शहराच्या हद्दीतील ३.१ दशलक्ष लोकसंख्येसह पुणे हे भारतातील नववे सर्वात जास्त लोकसंख्या असलेले शहर आहे. महानगर प्रदेशातील ७.२ दशलक्ष रहिवासी लोकसंख्या आहे, यानुसार ते आठवे सर्वाधिक लोकसंख्या असलेले शहर आहे. [११]पुणे शहर पुणे महानगर प्रदेशाचा एक भाग आहे. [१२] भारतातील सर्वात मोठ्या आयटी हबपैकी पुणे एक आहे. [१३] [१४]हे भारतातील सर्वात महत्वाचे ऑटोमोबाईल आणि उत्पादन केंद्रांपैकी एक आहे. पुणे हे एक विकसनशील शहर आहे. [१५]या शहराला येथील उच्च प्रतिष्ठित शैक्षणिक संस्थांमुळे \"पूर्वेकडील ऑक्सफर्ड\" म्हणून संबोधले जाते. [१६] [१७] [१८] \"भारतातील सर्वात राहण्यायोग्य शहर\" म्हणून अनेक वेळा पुण्याला स्थान देण्यात आले आहे.'"
      ]
     },
     "execution_count": 29,
     "metadata": {},
     "output_type": "execute_result"
    }
   ],
   "source": [
    "text"
   ]
  },
  {
   "cell_type": "code",
   "execution_count": 30,
   "id": "8708c0b4-2a34-4c7b-9f14-29fa54ec0bd2",
   "metadata": {},
   "outputs": [
    {
     "data": {
      "text/plain": [
       "['पुणे हे भारताच्या दख्खन पठारावरील महाराष्ट्राचे एक शहर आहे.',\n",
       " 'पुणे जिल्ह्याचे आणि पुणे विभागाचे हे प्रशासकीय मुख्यालय आहे.',\n",
       " '२०११ जनगणनेनुसार, शहराच्या हद्दीतील ३.१ दशलक्ष लोकसंख्येसह पुणे हे भारतातील नववे सर्वात जास्त लोकसंख्या असलेले शहर आहे.',\n",
       " 'महानगर प्रदेशातील ७.२ दशलक्ष रहिवासी लोकसंख्या आहे, यानुसार ते आठवे सर्वाधिक लोकसंख्या असलेले शहर आहे.',\n",
       " '[११]पुणे शहर पुणे महानगर प्रदेशाचा एक भाग आहे.',\n",
       " '[१२] भारतातील सर्वात मोठ्या आयटी हबपैकी पुणे एक आहे.',\n",
       " '[१३] [१४]हे भारतातील सर्वात महत्वाचे ऑटोमोबाईल आणि उत्पादन केंद्रांपैकी एक आहे.',\n",
       " 'पुणे हे एक विकसनशील शहर आहे.',\n",
       " '[१५]या शहराला येथील उच्च प्रतिष्ठित शैक्षणिक संस्थांमुळे \"पूर्वेकडील ऑक्सफर्ड\" म्हणून संबोधले जाते.',\n",
       " '[१६] [१७] [१८] \"भारतातील सर्वात राहण्यायोग्य शहर\" म्हणून अनेक वेळा पुण्याला स्थान देण्यात आले आहे.']"
      ]
     },
     "execution_count": 30,
     "metadata": {},
     "output_type": "execute_result"
    }
   ],
   "source": [
    "sent_tokenize(text)"
   ]
  },
  {
   "cell_type": "code",
   "execution_count": 31,
   "id": "3f103c99-439f-4dce-b9e6-a32872faf791",
   "metadata": {},
   "outputs": [
    {
     "data": {
      "text/plain": [
       "['पुणे',\n",
       " 'हे',\n",
       " 'भारताच्या',\n",
       " 'दख्खन',\n",
       " 'पठारावरील',\n",
       " 'महाराष्ट्राचे',\n",
       " 'एक',\n",
       " 'शहर',\n",
       " 'आहे',\n",
       " '.',\n",
       " 'पुणे',\n",
       " 'जिल्ह्याचे',\n",
       " 'आणि',\n",
       " 'पुणे',\n",
       " 'विभागाचे',\n",
       " 'हे',\n",
       " 'प्रशासकीय',\n",
       " 'मुख्यालय',\n",
       " 'आहे',\n",
       " '.',\n",
       " '२०११',\n",
       " 'जनगणनेनुसार',\n",
       " ',',\n",
       " 'शहराच्या',\n",
       " 'हद्दीतील',\n",
       " '३.१',\n",
       " 'दशलक्ष',\n",
       " 'लोकसंख्येसह',\n",
       " 'पुणे',\n",
       " 'हे',\n",
       " 'भारतातील',\n",
       " 'नववे',\n",
       " 'सर्वात',\n",
       " 'जास्त',\n",
       " 'लोकसंख्या',\n",
       " 'असलेले',\n",
       " 'शहर',\n",
       " 'आहे',\n",
       " '.',\n",
       " 'महानगर',\n",
       " 'प्रदेशातील',\n",
       " '७.२',\n",
       " 'दशलक्ष',\n",
       " 'रहिवासी',\n",
       " 'लोकसंख्या',\n",
       " 'आहे',\n",
       " ',',\n",
       " 'यानुसार',\n",
       " 'ते',\n",
       " 'आठवे',\n",
       " 'सर्वाधिक',\n",
       " 'लोकसंख्या',\n",
       " 'असलेले',\n",
       " 'शहर',\n",
       " 'आहे',\n",
       " '.',\n",
       " '[',\n",
       " '११',\n",
       " ']',\n",
       " 'पुणे',\n",
       " 'शहर',\n",
       " 'पुणे',\n",
       " 'महानगर',\n",
       " 'प्रदेशाचा',\n",
       " 'एक',\n",
       " 'भाग',\n",
       " 'आहे',\n",
       " '.',\n",
       " '[',\n",
       " '१२',\n",
       " ']',\n",
       " 'भारतातील',\n",
       " 'सर्वात',\n",
       " 'मोठ्या',\n",
       " 'आयटी',\n",
       " 'हबपैकी',\n",
       " 'पुणे',\n",
       " 'एक',\n",
       " 'आहे',\n",
       " '.',\n",
       " '[',\n",
       " '१३',\n",
       " ']',\n",
       " '[',\n",
       " '१४',\n",
       " ']',\n",
       " 'हे',\n",
       " 'भारतातील',\n",
       " 'सर्वात',\n",
       " 'महत्वाचे',\n",
       " 'ऑटोमोबाईल',\n",
       " 'आणि',\n",
       " 'उत्पादन',\n",
       " 'केंद्रांपैकी',\n",
       " 'एक',\n",
       " 'आहे',\n",
       " '.',\n",
       " 'पुणे',\n",
       " 'हे',\n",
       " 'एक',\n",
       " 'विकसनशील',\n",
       " 'शहर',\n",
       " 'आहे',\n",
       " '.',\n",
       " '[',\n",
       " '१५',\n",
       " ']',\n",
       " 'या',\n",
       " 'शहराला',\n",
       " 'येथील',\n",
       " 'उच्च',\n",
       " 'प्रतिष्ठित',\n",
       " 'शैक्षणिक',\n",
       " 'संस्थांमुळे',\n",
       " '``',\n",
       " 'पूर्वेकडील',\n",
       " 'ऑक्सफर्ड',\n",
       " \"''\",\n",
       " 'म्हणून',\n",
       " 'संबोधले',\n",
       " 'जाते',\n",
       " '.',\n",
       " '[',\n",
       " '१६',\n",
       " ']',\n",
       " '[',\n",
       " '१७',\n",
       " ']',\n",
       " '[',\n",
       " '१८',\n",
       " ']',\n",
       " '``',\n",
       " 'भारतातील',\n",
       " 'सर्वात',\n",
       " 'राहण्यायोग्य',\n",
       " 'शहर',\n",
       " \"''\",\n",
       " 'म्हणून',\n",
       " 'अनेक',\n",
       " 'वेळा',\n",
       " 'पुण्याला',\n",
       " 'स्थान',\n",
       " 'देण्यात',\n",
       " 'आले',\n",
       " 'आहे',\n",
       " '.']"
      ]
     },
     "execution_count": 31,
     "metadata": {},
     "output_type": "execute_result"
    }
   ],
   "source": [
    "word_tokenize(text)"
   ]
  },
  {
   "cell_type": "markdown",
   "id": "4a79d4d6-4f06-4c2f-a7c6-6a174855225b",
   "metadata": {},
   "source": [
    "##### Space Tokenizer"
   ]
  },
  {
   "cell_type": "code",
   "execution_count": 33,
   "id": "68747159-413c-4f5e-aa55-fd7cf1a7ec14",
   "metadata": {},
   "outputs": [],
   "source": [
    "# import the class\n",
    "from nltk.tokenize import SpaceTokenizer"
   ]
  },
  {
   "cell_type": "code",
   "execution_count": 35,
   "id": "7618d673-6a07-414b-8682-6ae1e2d2dd1a",
   "metadata": {},
   "outputs": [],
   "source": [
    "# create the object\n",
    "tk = SpaceTokenizer()"
   ]
  },
  {
   "cell_type": "code",
   "execution_count": 36,
   "id": "e205e044-7d59-4de0-bdf1-56dc89e6c768",
   "metadata": {},
   "outputs": [],
   "source": [
    "sent = 'Hello friends! How are you? Welcome to the world of Python Programming.'"
   ]
  },
  {
   "cell_type": "code",
   "execution_count": 37,
   "id": "573471dc-2e4f-419d-86e7-b67a3e566b68",
   "metadata": {},
   "outputs": [
    {
     "data": {
      "text/plain": [
       "['Hello',\n",
       " 'friends!',\n",
       " 'How',\n",
       " 'are',\n",
       " 'you?',\n",
       " 'Welcome',\n",
       " 'to',\n",
       " 'the',\n",
       " 'world',\n",
       " 'of',\n",
       " 'Python',\n",
       " 'Programming.']"
      ]
     },
     "execution_count": 37,
     "metadata": {},
     "output_type": "execute_result"
    }
   ],
   "source": [
    "tk.tokenize(sent)"
   ]
  },
  {
   "cell_type": "markdown",
   "id": "36013cc3-58a0-4fee-9103-335e1660a8be",
   "metadata": {},
   "source": [
    "##### Tab Tokenizer"
   ]
  },
  {
   "cell_type": "code",
   "execution_count": 39,
   "id": "d16fdabf-1054-4e90-96c6-fcb2997ede37",
   "metadata": {},
   "outputs": [],
   "source": [
    "# import the class\n",
    "from nltk.tokenize import TabTokenizer"
   ]
  },
  {
   "cell_type": "code",
   "execution_count": 40,
   "id": "bcdc4bcd-ce07-4752-bf35-c09398e5cecc",
   "metadata": {},
   "outputs": [],
   "source": [
    "# create the object\n",
    "tk = TabTokenizer()"
   ]
  },
  {
   "cell_type": "code",
   "execution_count": 41,
   "id": "601887e9-9204-4592-b0a7-670462914043",
   "metadata": {},
   "outputs": [],
   "source": [
    "sent = 'Hello friends!\\tHow are you? Welcome to the world of Python Programming.'"
   ]
  },
  {
   "cell_type": "code",
   "execution_count": 42,
   "id": "e6095c6a-041d-40e8-a50b-3c4902985d14",
   "metadata": {},
   "outputs": [
    {
     "name": "stdout",
     "output_type": "stream",
     "text": [
      "Hello friends!\tHow are you? Welcome to the world of Python Programming.\n"
     ]
    }
   ],
   "source": [
    "print(sent)"
   ]
  },
  {
   "cell_type": "code",
   "execution_count": 43,
   "id": "4158e99d-49f1-4ddf-adcd-20c38c766510",
   "metadata": {},
   "outputs": [
    {
     "data": {
      "text/plain": [
       "['Hello friends!', 'How are you? Welcome to the world of Python Programming.']"
      ]
     },
     "execution_count": 43,
     "metadata": {},
     "output_type": "execute_result"
    }
   ],
   "source": [
    "tk.tokenize(sent)"
   ]
  },
  {
   "cell_type": "markdown",
   "id": "8ae62d05-1826-4a8d-9900-eca7d3a3fc92",
   "metadata": {},
   "source": [
    "##### Line Tokenizer"
   ]
  },
  {
   "cell_type": "code",
   "execution_count": 45,
   "id": "a549fc08-b0de-46cc-95ab-ffb582fdcd4e",
   "metadata": {},
   "outputs": [],
   "source": [
    "# import the class\n",
    "from nltk.tokenize import LineTokenizer"
   ]
  },
  {
   "cell_type": "code",
   "execution_count": 46,
   "id": "a985fb46-6abe-45b7-acc1-60b74a4a2491",
   "metadata": {},
   "outputs": [],
   "source": [
    "tk = LineTokenizer()"
   ]
  },
  {
   "cell_type": "code",
   "execution_count": 47,
   "id": "775a9ac1-1841-4052-8c78-daa7b348f6fd",
   "metadata": {},
   "outputs": [
    {
     "name": "stdout",
     "output_type": "stream",
     "text": [
      "Hello friends!\n",
      "How are you? Welcome to the\n",
      "world of Python Programming.\n"
     ]
    }
   ],
   "source": [
    "sent = 'Hello friends!\\nHow are you? Welcome to the\\nworld of Python Programming.'\n",
    "print(sent)"
   ]
  },
  {
   "cell_type": "code",
   "execution_count": 48,
   "id": "c276caca-a730-4fd8-aefc-b92931dca052",
   "metadata": {},
   "outputs": [
    {
     "data": {
      "text/plain": [
       "['Hello friends!',\n",
       " 'How are you? Welcome to the',\n",
       " 'world of Python Programming.']"
      ]
     },
     "execution_count": 48,
     "metadata": {},
     "output_type": "execute_result"
    }
   ],
   "source": [
    "tk.tokenize(sent)"
   ]
  },
  {
   "cell_type": "markdown",
   "id": "b0123e22-c326-49da-b0de-64a7835d27d2",
   "metadata": {},
   "source": [
    "##### White Space Tokenizer"
   ]
  },
  {
   "cell_type": "code",
   "execution_count": 49,
   "id": "cea97ca1-cdfc-4304-807c-44780b0593b2",
   "metadata": {},
   "outputs": [],
   "source": [
    "# import the class\n",
    "from nltk.tokenize import WhitespaceTokenizer"
   ]
  },
  {
   "cell_type": "code",
   "execution_count": 51,
   "id": "67e60c66-de45-495e-bc7f-6f9073350acd",
   "metadata": {},
   "outputs": [],
   "source": [
    "tk = WhitespaceTokenizer()"
   ]
  },
  {
   "cell_type": "code",
   "execution_count": 52,
   "id": "865fc05b-ab12-4bf3-b2f4-f42aa63d5216",
   "metadata": {},
   "outputs": [
    {
     "name": "stdout",
     "output_type": "stream",
     "text": [
      "Hello friends!\tHow are you? Welcome to the\n",
      "world of Python Programming.\n"
     ]
    }
   ],
   "source": [
    "sent = 'Hello friends!\\tHow are you? Welcome to the\\nworld of Python Programming.'\n",
    "print(sent)"
   ]
  },
  {
   "cell_type": "code",
   "execution_count": 53,
   "id": "30df4448-bdfd-4d37-88ae-a16ba87aaa40",
   "metadata": {},
   "outputs": [
    {
     "data": {
      "text/plain": [
       "['Hello',\n",
       " 'friends!',\n",
       " 'How',\n",
       " 'are',\n",
       " 'you?',\n",
       " 'Welcome',\n",
       " 'to',\n",
       " 'the',\n",
       " 'world',\n",
       " 'of',\n",
       " 'Python',\n",
       " 'Programming.']"
      ]
     },
     "execution_count": 53,
     "metadata": {},
     "output_type": "execute_result"
    }
   ],
   "source": [
    "tk.tokenize(sent)"
   ]
  },
  {
   "cell_type": "markdown",
   "id": "a605f903-963b-486d-876c-60fdbbe0b4de",
   "metadata": {},
   "source": [
    "##### Multi-Word Expression Tokenizer"
   ]
  },
  {
   "cell_type": "code",
   "execution_count": 55,
   "id": "e03d1d8d-9f09-43be-a440-043b679fa2f1",
   "metadata": {},
   "outputs": [],
   "source": [
    "sent = 'Hello friends! Have you learned Python Programming? It is very interesting to learn Python Programming.'"
   ]
  },
  {
   "cell_type": "code",
   "execution_count": 56,
   "id": "9fff3c53-f233-4315-b08a-bd5596d22955",
   "metadata": {},
   "outputs": [
    {
     "data": {
      "text/plain": [
       "'Hello friends! Have you learned Python Programming? It is very interesting to learn Python Programming.'"
      ]
     },
     "execution_count": 56,
     "metadata": {},
     "output_type": "execute_result"
    }
   ],
   "source": [
    "sent"
   ]
  },
  {
   "cell_type": "code",
   "execution_count": 57,
   "id": "b4c0ffdb-a906-4efd-ab57-63157fd997ad",
   "metadata": {},
   "outputs": [
    {
     "data": {
      "text/plain": [
       "['Hello',\n",
       " 'friends',\n",
       " '!',\n",
       " 'Have',\n",
       " 'you',\n",
       " 'learned',\n",
       " 'Python',\n",
       " 'Programming',\n",
       " '?',\n",
       " 'It',\n",
       " 'is',\n",
       " 'very',\n",
       " 'interesting',\n",
       " 'to',\n",
       " 'learn',\n",
       " 'Python',\n",
       " 'Programming',\n",
       " '.']"
      ]
     },
     "execution_count": 57,
     "metadata": {},
     "output_type": "execute_result"
    }
   ],
   "source": [
    "word_tokenize(sent)"
   ]
  },
  {
   "cell_type": "code",
   "execution_count": 58,
   "id": "604ce1f4-2a8b-49e4-bb98-f77f469b9694",
   "metadata": {},
   "outputs": [],
   "source": [
    "from nltk.tokenize import MWETokenizer"
   ]
  },
  {
   "cell_type": "code",
   "execution_count": 63,
   "id": "b2d6f1a5-597f-40bf-95c2-96dd65825be8",
   "metadata": {},
   "outputs": [],
   "source": [
    "tk = MWETokenizer(separator=' ')"
   ]
  },
  {
   "cell_type": "code",
   "execution_count": 64,
   "id": "3654fab3-559a-488b-8227-7de4c3bf6413",
   "metadata": {},
   "outputs": [],
   "source": [
    "tk.add_mwe(('Python','Programming'))"
   ]
  },
  {
   "cell_type": "code",
   "execution_count": 65,
   "id": "6fe7f92d-85d2-495a-80b5-ccc5247102a0",
   "metadata": {},
   "outputs": [
    {
     "data": {
      "text/plain": [
       "['Hello',\n",
       " 'friends',\n",
       " '!',\n",
       " 'Have',\n",
       " 'you',\n",
       " 'learned',\n",
       " 'Python Programming',\n",
       " '?',\n",
       " 'It',\n",
       " 'is',\n",
       " 'very',\n",
       " 'interesting',\n",
       " 'to',\n",
       " 'learn',\n",
       " 'Python Programming',\n",
       " '.']"
      ]
     },
     "execution_count": 65,
     "metadata": {},
     "output_type": "execute_result"
    }
   ],
   "source": [
    "tk.tokenize(word_tokenize(sent))"
   ]
  },
  {
   "cell_type": "markdown",
   "id": "e0a227db-88a1-4a05-9c40-0b0c5e89aecc",
   "metadata": {},
   "source": [
    "##### Tweet Tokenizer"
   ]
  },
  {
   "cell_type": "code",
   "execution_count": 69,
   "id": "85fcbb8d-5eea-4cfd-91b6-e7a59b4b07fb",
   "metadata": {},
   "outputs": [
    {
     "name": "stdout",
     "output_type": "stream",
     "text": [
      "Hello friends!🙂 How are you?👋 Welcome to the world🌏 of 🖥️Python Programming.\n"
     ]
    }
   ],
   "source": [
    "sent = 'Hello friends!🙂 How are you?👋 Welcome to the world🌏 of 🖥️Python Programming.'\n",
    "print(sent)"
   ]
  },
  {
   "cell_type": "code",
   "execution_count": 70,
   "id": "5feac403-cb88-47ff-a149-4f6f01e1fecc",
   "metadata": {},
   "outputs": [
    {
     "data": {
      "text/plain": [
       "['Hello',\n",
       " 'friends',\n",
       " '!',\n",
       " '🙂',\n",
       " 'How',\n",
       " 'are',\n",
       " 'you',\n",
       " '?',\n",
       " '👋',\n",
       " 'Welcome',\n",
       " 'to',\n",
       " 'the',\n",
       " 'world🌏',\n",
       " 'of',\n",
       " '🖥️Python',\n",
       " 'Programming',\n",
       " '.']"
      ]
     },
     "execution_count": 70,
     "metadata": {},
     "output_type": "execute_result"
    }
   ],
   "source": [
    "word_tokenize(sent)"
   ]
  },
  {
   "cell_type": "code",
   "execution_count": 71,
   "id": "3a6532bb-3577-46f8-b68d-7ebd5a69b695",
   "metadata": {},
   "outputs": [],
   "source": [
    "from nltk.tokenize import TweetTokenizer"
   ]
  },
  {
   "cell_type": "code",
   "execution_count": 72,
   "id": "b13bc408-9063-4eaa-8876-513cfec5004e",
   "metadata": {},
   "outputs": [],
   "source": [
    "tk = TweetTokenizer()"
   ]
  },
  {
   "cell_type": "code",
   "execution_count": 73,
   "id": "4b44b116-bfd7-45bd-8030-dfd6eeb46009",
   "metadata": {},
   "outputs": [
    {
     "data": {
      "text/plain": [
       "['Hello',\n",
       " 'friends',\n",
       " '!',\n",
       " '🙂',\n",
       " 'How',\n",
       " 'are',\n",
       " 'you',\n",
       " '?',\n",
       " '👋',\n",
       " 'Welcome',\n",
       " 'to',\n",
       " 'the',\n",
       " 'world',\n",
       " '🌏',\n",
       " 'of',\n",
       " '🖥',\n",
       " '️Python',\n",
       " 'Programming',\n",
       " '.']"
      ]
     },
     "execution_count": 73,
     "metadata": {},
     "output_type": "execute_result"
    }
   ],
   "source": [
    "tk.tokenize(sent)"
   ]
  },
  {
   "cell_type": "code",
   "execution_count": null,
   "id": "c6cbda08-4b66-4ab5-b466-239905bbc182",
   "metadata": {},
   "outputs": [],
   "source": []
  }
 ],
 "metadata": {
  "kernelspec": {
   "display_name": "Python 3 (ipykernel)",
   "language": "python",
   "name": "python3"
  },
  "language_info": {
   "codemirror_mode": {
    "name": "ipython",
    "version": 3
   },
   "file_extension": ".py",
   "mimetype": "text/x-python",
   "name": "python",
   "nbconvert_exporter": "python",
   "pygments_lexer": "ipython3",
   "version": "3.10.12"
  }
 },
 "nbformat": 4,
 "nbformat_minor": 5
}
