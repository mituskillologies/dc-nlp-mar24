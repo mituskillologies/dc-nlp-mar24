{
  "nbformat": 4,
  "nbformat_minor": 0,
  "metadata": {
    "colab": {
      "provenance": []
    },
    "kernelspec": {
      "name": "python3",
      "display_name": "Python 3"
    },
    "language_info": {
      "name": "python"
    }
  },
  "cells": [
    {
      "cell_type": "code",
      "execution_count": null,
      "metadata": {
        "colab": {
          "base_uri": "https://localhost:8080/"
        },
        "id": "CzQa0EpyQ3ip",
        "outputId": "b55e0a96-8809-4703-b1e0-6a2ecd33f13a"
      },
      "outputs": [
        {
          "output_type": "stream",
          "name": "stdout",
          "text": [
            "Collecting language-tool-python\n",
            "  Downloading language_tool_python-2.8-py3-none-any.whl (35 kB)\n",
            "Requirement already satisfied: pip in /usr/local/lib/python3.10/dist-packages (from language-tool-python) (23.1.2)\n",
            "Requirement already satisfied: requests in /usr/local/lib/python3.10/dist-packages (from language-tool-python) (2.31.0)\n",
            "Requirement already satisfied: tqdm in /usr/local/lib/python3.10/dist-packages (from language-tool-python) (4.66.2)\n",
            "Requirement already satisfied: wheel in /usr/local/lib/python3.10/dist-packages (from language-tool-python) (0.43.0)\n",
            "Requirement already satisfied: charset-normalizer<4,>=2 in /usr/local/lib/python3.10/dist-packages (from requests->language-tool-python) (3.3.2)\n",
            "Requirement already satisfied: idna<4,>=2.5 in /usr/local/lib/python3.10/dist-packages (from requests->language-tool-python) (3.7)\n",
            "Requirement already satisfied: urllib3<3,>=1.21.1 in /usr/local/lib/python3.10/dist-packages (from requests->language-tool-python) (2.0.7)\n",
            "Requirement already satisfied: certifi>=2017.4.17 in /usr/local/lib/python3.10/dist-packages (from requests->language-tool-python) (2024.2.2)\n",
            "Installing collected packages: language-tool-python\n",
            "Successfully installed language-tool-python-2.8\n"
          ]
        }
      ],
      "source": [
        "pip install language-tool-python"
      ]
    },
    {
      "cell_type": "code",
      "source": [
        "import language_tool_python"
      ],
      "metadata": {
        "id": "p_zugyBaQ71t"
      },
      "execution_count": null,
      "outputs": []
    },
    {
      "cell_type": "code",
      "source": [
        "# use the tool\n",
        "my_tool = language_tool_python.LanguageTool('en-US')"
      ],
      "metadata": {
        "colab": {
          "base_uri": "https://localhost:8080/"
        },
        "id": "YVLqaCzsQ-EE",
        "outputId": "1c4733fc-18ba-4850-9d4a-cee19c106d14"
      },
      "execution_count": null,
      "outputs": [
        {
          "output_type": "stream",
          "name": "stderr",
          "text": [
            "Downloading LanguageTool 6.4: 100%|██████████| 246M/246M [00:05<00:00, 47.0MB/s]\n",
            "INFO:language_tool_python.download_lt:Unzipping /tmp/tmpq3p9u_ta.zip to /root/.cache/language_tool_python.\n",
            "INFO:language_tool_python.download_lt:Downloaded https://www.languagetool.org/download/LanguageTool-6.4.zip to /root/.cache/language_tool_python.\n"
          ]
        }
      ]
    },
    {
      "cell_type": "code",
      "source": [
        "# define the text\n",
        "my_text = 'He have collected a documents. I is there.'"
      ],
      "metadata": {
        "id": "iE2SUHVJRFGe"
      },
      "execution_count": null,
      "outputs": []
    },
    {
      "cell_type": "code",
      "source": [
        "# get the grammatically wrong matches\n",
        "my_matches = my_tool.check(my_text)"
      ],
      "metadata": {
        "id": "gHgplrytRoKT"
      },
      "execution_count": null,
      "outputs": []
    },
    {
      "cell_type": "code",
      "source": [
        "# print the matches\n",
        "for m in my_matches:\n",
        "  print(m)"
      ],
      "metadata": {
        "colab": {
          "base_uri": "https://localhost:8080/"
        },
        "id": "8-1aUp44R5jl",
        "outputId": "cf128a60-6f92-4bc1-90a6-c6416f023fe1"
      },
      "execution_count": null,
      "outputs": [
        {
          "output_type": "stream",
          "name": "stdout",
          "text": [
            "Offset 3, length 4, Rule ID: HE_VERB_AGR\n",
            "Message: The pronoun ‘He’ is usually used with a third-person or a past tense verb.\n",
            "Suggestion: has; had\n",
            "He have collected a documents. I is there.\n",
            "   ^^^^\n",
            "Offset 18, length 11, Rule ID: A_NNS\n",
            "Message: The plural noun “documents” cannot be used with the article “a”. Did you mean “a document” or “documents”?\n",
            "Suggestion: a document; documents\n",
            "He have collected a documents. I is there.\n",
            "                  ^^^^^^^^^^^\n",
            "Offset 33, length 2, Rule ID: PERS_PRONOUN_AGREEMENT\n",
            "Message: Did you mean “am” or “will be”?\n",
            "Suggestion: am; will be\n",
            "He have collected a documents. I is there.\n",
            "                                 ^^\n"
          ]
        }
      ]
    },
    {
      "cell_type": "code",
      "source": [
        "# correct the errors\n",
        "my_tool.correct(my_text)"
      ],
      "metadata": {
        "colab": {
          "base_uri": "https://localhost:8080/",
          "height": 35
        },
        "id": "8X05Ij5mSrR4",
        "outputId": "dc765f46-492e-4baa-9b24-3caf04ed8941"
      },
      "execution_count": null,
      "outputs": [
        {
          "output_type": "execute_result",
          "data": {
            "text/plain": [
              "'He has collected a document. I am there.'"
            ],
            "application/vnd.google.colaboratory.intrinsic+json": {
              "type": "string"
            }
          },
          "metadata": {},
          "execution_count": 11
        }
      ]
    },
    {
      "cell_type": "code",
      "source": [
        "help(my_tool)"
      ],
      "metadata": {
        "colab": {
          "base_uri": "https://localhost:8080/"
        },
        "id": "p600i7ngT-eR",
        "outputId": "c6161b57-37ac-44f3-81d9-17b783dc3330"
      },
      "execution_count": null,
      "outputs": [
        {
          "output_type": "stream",
          "name": "stdout",
          "text": [
            "Help on LanguageTool in module language_tool_python.server object:\n",
            "\n",
            "class LanguageTool(builtins.object)\n",
            " |  LanguageTool(language=None, motherTongue=None, remote_server=None, newSpellings=None, new_spellings_persist=True, host=None, config=None, language_tool_download_version: str = '6.4')\n",
            " |  \n",
            " |  Main class used for checking text against different rules.\n",
            " |  LanguageTool v2 API documentation:\n",
            " |  https://languagetool.org/http-api/swagger-ui/#!/default/post_check\n",
            " |  \n",
            " |  Methods defined here:\n",
            " |  \n",
            " |  __del__(self)\n",
            " |  \n",
            " |  __enter__(self)\n",
            " |  \n",
            " |  __exit__(self, exc_type, exc_val, exc_tb)\n",
            " |  \n",
            " |  __init__(self, language=None, motherTongue=None, remote_server=None, newSpellings=None, new_spellings_persist=True, host=None, config=None, language_tool_download_version: str = '6.4')\n",
            " |      Initialize self.  See help(type(self)) for accurate signature.\n",
            " |  \n",
            " |  __repr__(self)\n",
            " |      Return repr(self).\n",
            " |  \n",
            " |  check(self, text: str) -> List[language_tool_python.match.Match]\n",
            " |      Match text against enabled rules.\n",
            " |  \n",
            " |  close(self)\n",
            " |  \n",
            " |  correct(self, text: str) -> str\n",
            " |      Automatically apply suggestions to the text.\n",
            " |  \n",
            " |  disable_spellchecking(self)\n",
            " |      Disable spell-checking rules.\n",
            " |  \n",
            " |  enable_spellchecking(self)\n",
            " |      Enable spell-checking rules.\n",
            " |  \n",
            " |  ----------------------------------------------------------------------\n",
            " |  Data descriptors defined here:\n",
            " |  \n",
            " |  __dict__\n",
            " |      dictionary for instance variables (if defined)\n",
            " |  \n",
            " |  __weakref__\n",
            " |      list of weak references to the object (if defined)\n",
            " |  \n",
            " |  language\n",
            " |      The language to be used.\n",
            " |  \n",
            " |  motherTongue\n",
            " |      The user's mother tongue or None.\n",
            " |      The mother tongue may also be used as a source language for\n",
            " |      checking bilingual texts.\n",
            " |  \n",
            " |  ----------------------------------------------------------------------\n",
            " |  Data and other attributes defined here:\n",
            " |  \n",
            " |  __annotations__ = {'_consumer_thread': <class 'threading.Thread'>, '_s...\n",
            "\n"
          ]
        }
      ]
    },
    {
      "cell_type": "code",
      "source": [],
      "metadata": {
        "id": "1A4XIe52VD1G"
      },
      "execution_count": null,
      "outputs": []
    }
  ]
}