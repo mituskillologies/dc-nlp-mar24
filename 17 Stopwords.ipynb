{
 "cells": [
  {
   "cell_type": "code",
   "execution_count": 1,
   "id": "2507539d-04be-4fc6-8357-ca2ddd5e1379",
   "metadata": {},
   "outputs": [],
   "source": [
    "from nltk.corpus import stopwords"
   ]
  },
  {
   "cell_type": "code",
   "execution_count": 3,
   "id": "6674a9ab-b7dc-4bf4-9744-664037a3c670",
   "metadata": {},
   "outputs": [],
   "source": [
    "swords = stopwords.words('english')"
   ]
  },
  {
   "cell_type": "code",
   "execution_count": 4,
   "id": "d73efbd9-818d-4267-a1b3-606cb8e726d1",
   "metadata": {},
   "outputs": [
    {
     "data": {
      "text/plain": [
       "['i',\n",
       " 'me',\n",
       " 'my',\n",
       " 'myself',\n",
       " 'we',\n",
       " 'our',\n",
       " 'ours',\n",
       " 'ourselves',\n",
       " 'you',\n",
       " \"you're\",\n",
       " \"you've\",\n",
       " \"you'll\",\n",
       " \"you'd\",\n",
       " 'your',\n",
       " 'yours',\n",
       " 'yourself',\n",
       " 'yourselves',\n",
       " 'he',\n",
       " 'him',\n",
       " 'his',\n",
       " 'himself',\n",
       " 'she',\n",
       " \"she's\",\n",
       " 'her',\n",
       " 'hers',\n",
       " 'herself',\n",
       " 'it',\n",
       " \"it's\",\n",
       " 'its',\n",
       " 'itself',\n",
       " 'they',\n",
       " 'them',\n",
       " 'their',\n",
       " 'theirs',\n",
       " 'themselves',\n",
       " 'what',\n",
       " 'which',\n",
       " 'who',\n",
       " 'whom',\n",
       " 'this',\n",
       " 'that',\n",
       " \"that'll\",\n",
       " 'these',\n",
       " 'those',\n",
       " 'am',\n",
       " 'is',\n",
       " 'are',\n",
       " 'was',\n",
       " 'were',\n",
       " 'be',\n",
       " 'been',\n",
       " 'being',\n",
       " 'have',\n",
       " 'has',\n",
       " 'had',\n",
       " 'having',\n",
       " 'do',\n",
       " 'does',\n",
       " 'did',\n",
       " 'doing',\n",
       " 'a',\n",
       " 'an',\n",
       " 'the',\n",
       " 'and',\n",
       " 'but',\n",
       " 'if',\n",
       " 'or',\n",
       " 'because',\n",
       " 'as',\n",
       " 'until',\n",
       " 'while',\n",
       " 'of',\n",
       " 'at',\n",
       " 'by',\n",
       " 'for',\n",
       " 'with',\n",
       " 'about',\n",
       " 'against',\n",
       " 'between',\n",
       " 'into',\n",
       " 'through',\n",
       " 'during',\n",
       " 'before',\n",
       " 'after',\n",
       " 'above',\n",
       " 'below',\n",
       " 'to',\n",
       " 'from',\n",
       " 'up',\n",
       " 'down',\n",
       " 'in',\n",
       " 'out',\n",
       " 'on',\n",
       " 'off',\n",
       " 'over',\n",
       " 'under',\n",
       " 'again',\n",
       " 'further',\n",
       " 'then',\n",
       " 'once',\n",
       " 'here',\n",
       " 'there',\n",
       " 'when',\n",
       " 'where',\n",
       " 'why',\n",
       " 'how',\n",
       " 'all',\n",
       " 'any',\n",
       " 'both',\n",
       " 'each',\n",
       " 'few',\n",
       " 'more',\n",
       " 'most',\n",
       " 'other',\n",
       " 'some',\n",
       " 'such',\n",
       " 'no',\n",
       " 'nor',\n",
       " 'not',\n",
       " 'only',\n",
       " 'own',\n",
       " 'same',\n",
       " 'so',\n",
       " 'than',\n",
       " 'too',\n",
       " 'very',\n",
       " 's',\n",
       " 't',\n",
       " 'can',\n",
       " 'will',\n",
       " 'just',\n",
       " 'don',\n",
       " \"don't\",\n",
       " 'should',\n",
       " \"should've\",\n",
       " 'now',\n",
       " 'd',\n",
       " 'll',\n",
       " 'm',\n",
       " 'o',\n",
       " 're',\n",
       " 've',\n",
       " 'y',\n",
       " 'ain',\n",
       " 'aren',\n",
       " \"aren't\",\n",
       " 'couldn',\n",
       " \"couldn't\",\n",
       " 'didn',\n",
       " \"didn't\",\n",
       " 'doesn',\n",
       " \"doesn't\",\n",
       " 'hadn',\n",
       " \"hadn't\",\n",
       " 'hasn',\n",
       " \"hasn't\",\n",
       " 'haven',\n",
       " \"haven't\",\n",
       " 'isn',\n",
       " \"isn't\",\n",
       " 'ma',\n",
       " 'mightn',\n",
       " \"mightn't\",\n",
       " 'mustn',\n",
       " \"mustn't\",\n",
       " 'needn',\n",
       " \"needn't\",\n",
       " 'shan',\n",
       " \"shan't\",\n",
       " 'shouldn',\n",
       " \"shouldn't\",\n",
       " 'wasn',\n",
       " \"wasn't\",\n",
       " 'weren',\n",
       " \"weren't\",\n",
       " 'won',\n",
       " \"won't\",\n",
       " 'wouldn',\n",
       " \"wouldn't\"]"
      ]
     },
     "execution_count": 4,
     "metadata": {},
     "output_type": "execute_result"
    }
   ],
   "source": [
    "swords"
   ]
  },
  {
   "cell_type": "code",
   "execution_count": 5,
   "id": "2bfc707b-878c-4de5-8166-04d2f7a254e4",
   "metadata": {},
   "outputs": [],
   "source": [
    "sent = 'It is also one of the most important automobile and manufacturing hubs of India. Pune is often referred to as \"Oxford of the East\" because of its highly regarded educational institutions. It has been ranked \"the most liveable city in India\" several times.'"
   ]
  },
  {
   "cell_type": "code",
   "execution_count": 6,
   "id": "7fe1f1bc-fa1f-4447-b452-c91dac280dbf",
   "metadata": {},
   "outputs": [
    {
     "data": {
      "text/plain": [
       "'It is also one of the most important automobile and manufacturing hubs of India. Pune is often referred to as \"Oxford of the East\" because of its highly regarded educational institutions. It has been ranked \"the most liveable city in India\" several times.'"
      ]
     },
     "execution_count": 6,
     "metadata": {},
     "output_type": "execute_result"
    }
   ],
   "source": [
    "sent"
   ]
  },
  {
   "cell_type": "code",
   "execution_count": 7,
   "id": "dc8f6707-705e-48d0-b3d9-2e14377c9195",
   "metadata": {},
   "outputs": [],
   "source": [
    "sent = sent.lower()"
   ]
  },
  {
   "cell_type": "code",
   "execution_count": 8,
   "id": "edee1477-82e3-438f-93dd-89b909c0a3ba",
   "metadata": {},
   "outputs": [
    {
     "data": {
      "text/plain": [
       "'it is also one of the most important automobile and manufacturing hubs of india. pune is often referred to as \"oxford of the east\" because of its highly regarded educational institutions. it has been ranked \"the most liveable city in india\" several times.'"
      ]
     },
     "execution_count": 8,
     "metadata": {},
     "output_type": "execute_result"
    }
   ],
   "source": [
    "sent"
   ]
  },
  {
   "cell_type": "code",
   "execution_count": 9,
   "id": "7cbfe105-8f81-4ae7-93cf-27afef1c6d34",
   "metadata": {},
   "outputs": [],
   "source": [
    "from nltk.tokenize import word_tokenize"
   ]
  },
  {
   "cell_type": "code",
   "execution_count": 10,
   "id": "4e548ec9-db7c-4b94-8c42-930bc68f593b",
   "metadata": {},
   "outputs": [
    {
     "name": "stdout",
     "output_type": "stream",
     "text": [
      "also\n",
      "one\n",
      "important\n",
      "automobile\n",
      "manufacturing\n",
      "hubs\n",
      "india\n",
      ".\n",
      "pune\n",
      "often\n",
      "referred\n",
      "``\n",
      "oxford\n",
      "east\n",
      "''\n",
      "highly\n",
      "regarded\n",
      "educational\n",
      "institutions\n",
      ".\n",
      "ranked\n",
      "``\n",
      "liveable\n",
      "city\n",
      "india\n",
      "''\n",
      "several\n",
      "times\n",
      ".\n"
     ]
    }
   ],
   "source": [
    "for word in word_tokenize(sent):\n",
    "    if word not in swords:\n",
    "        print(word)"
   ]
  },
  {
   "cell_type": "code",
   "execution_count": 11,
   "id": "e0899be1-39a9-4689-9952-82bec60ea98b",
   "metadata": {},
   "outputs": [],
   "source": [
    "clean_text = []\n",
    "for word in word_tokenize(sent):\n",
    "    if word not in swords:\n",
    "        clean_text.append(word)"
   ]
  },
  {
   "cell_type": "code",
   "execution_count": 12,
   "id": "b91d4550-5d7c-45e8-81a3-83df6c2939ac",
   "metadata": {},
   "outputs": [
    {
     "data": {
      "text/plain": [
       "['also',\n",
       " 'one',\n",
       " 'important',\n",
       " 'automobile',\n",
       " 'manufacturing',\n",
       " 'hubs',\n",
       " 'india',\n",
       " '.',\n",
       " 'pune',\n",
       " 'often',\n",
       " 'referred',\n",
       " '``',\n",
       " 'oxford',\n",
       " 'east',\n",
       " \"''\",\n",
       " 'highly',\n",
       " 'regarded',\n",
       " 'educational',\n",
       " 'institutions',\n",
       " '.',\n",
       " 'ranked',\n",
       " '``',\n",
       " 'liveable',\n",
       " 'city',\n",
       " 'india',\n",
       " \"''\",\n",
       " 'several',\n",
       " 'times',\n",
       " '.']"
      ]
     },
     "execution_count": 12,
     "metadata": {},
     "output_type": "execute_result"
    }
   ],
   "source": [
    "clean_text"
   ]
  },
  {
   "cell_type": "code",
   "execution_count": null,
   "id": "9ff5766e-6d68-4892-a15f-ab637271eba5",
   "metadata": {},
   "outputs": [],
   "source": []
  }
 ],
 "metadata": {
  "kernelspec": {
   "display_name": "Python 3 (ipykernel)",
   "language": "python",
   "name": "python3"
  },
  "language_info": {
   "codemirror_mode": {
    "name": "ipython",
    "version": 3
   },
   "file_extension": ".py",
   "mimetype": "text/x-python",
   "name": "python",
   "nbconvert_exporter": "python",
   "pygments_lexer": "ipython3",
   "version": "3.10.12"
  }
 },
 "nbformat": 4,
 "nbformat_minor": 5
}
