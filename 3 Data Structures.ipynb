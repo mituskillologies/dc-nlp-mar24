{
 "cells": [
  {
   "cell_type": "markdown",
   "id": "5d33c740-de2d-40f7-a76e-66d221c3e82a",
   "metadata": {},
   "source": [
    "#### List"
   ]
  },
  {
   "cell_type": "code",
   "execution_count": 2,
   "id": "0f64f550-c307-4ab4-b9df-a479b1df49a5",
   "metadata": {},
   "outputs": [],
   "source": [
    "num = [34, 12, 56, 74, 27, 37]"
   ]
  },
  {
   "cell_type": "code",
   "execution_count": 3,
   "id": "67c2bd98-0de1-4922-9ee5-f85386619bdf",
   "metadata": {},
   "outputs": [
    {
     "data": {
      "text/plain": [
       "list"
      ]
     },
     "execution_count": 3,
     "metadata": {},
     "output_type": "execute_result"
    }
   ],
   "source": [
    "type(num)"
   ]
  },
  {
   "cell_type": "code",
   "execution_count": 4,
   "id": "4361ff22-240c-4a72-b072-c9fa72f9fa01",
   "metadata": {},
   "outputs": [],
   "source": [
    "x = [56, 78, True, 'Tushar', 34.89]"
   ]
  },
  {
   "cell_type": "code",
   "execution_count": 5,
   "id": "40cd4356-1730-4f6b-9535-8334a2cb5c6d",
   "metadata": {},
   "outputs": [
    {
     "data": {
      "text/plain": [
       "list"
      ]
     },
     "execution_count": 5,
     "metadata": {},
     "output_type": "execute_result"
    }
   ],
   "source": [
    "type(num)"
   ]
  },
  {
   "cell_type": "code",
   "execution_count": 6,
   "id": "5ddc2d6b-0fe8-45c4-88b0-ddd87d845d48",
   "metadata": {},
   "outputs": [],
   "source": [
    "langs = ['Eng','Kan','Mar','Tam','Tel','Ben','Mal']"
   ]
  },
  {
   "cell_type": "code",
   "execution_count": 7,
   "id": "68fb7a25-ffa1-4197-88df-bf09b22bf687",
   "metadata": {},
   "outputs": [
    {
     "data": {
      "text/plain": [
       "list"
      ]
     },
     "execution_count": 7,
     "metadata": {},
     "output_type": "execute_result"
    }
   ],
   "source": [
    "type(num)"
   ]
  },
  {
   "cell_type": "markdown",
   "id": "bea03f7a-bde7-45e7-bbcc-6f41e605cc45",
   "metadata": {},
   "source": [
    "##### Access the list element"
   ]
  },
  {
   "cell_type": "code",
   "execution_count": 9,
   "id": "878e084a-f420-4436-9191-6b38e7465fa0",
   "metadata": {},
   "outputs": [
    {
     "data": {
      "text/plain": [
       "34"
      ]
     },
     "execution_count": 9,
     "metadata": {},
     "output_type": "execute_result"
    }
   ],
   "source": [
    "num[0]"
   ]
  },
  {
   "cell_type": "code",
   "execution_count": 10,
   "id": "982d5f00-cfed-40d2-8ecc-1ae904fc27e2",
   "metadata": {},
   "outputs": [
    {
     "data": {
      "text/plain": [
       "74"
      ]
     },
     "execution_count": 10,
     "metadata": {},
     "output_type": "execute_result"
    }
   ],
   "source": [
    "num[3]"
   ]
  },
  {
   "cell_type": "code",
   "execution_count": 11,
   "id": "e1254240-e8b3-4e4a-91bb-654e0cb4fdee",
   "metadata": {},
   "outputs": [
    {
     "data": {
      "text/plain": [
       "[34, 12, 56, 48, 27, 37]"
      ]
     },
     "execution_count": 11,
     "metadata": {},
     "output_type": "execute_result"
    }
   ],
   "source": [
    "num[3] = 48\n",
    "num"
   ]
  },
  {
   "cell_type": "markdown",
   "id": "3309e193-cb03-47e8-b717-69d40dcd5e37",
   "metadata": {},
   "source": [
    "##### Negative Indexing"
   ]
  },
  {
   "cell_type": "code",
   "execution_count": 12,
   "id": "16209287-7790-4fbf-bf12-6ab4acb678c2",
   "metadata": {},
   "outputs": [
    {
     "data": {
      "text/plain": [
       "37"
      ]
     },
     "execution_count": 12,
     "metadata": {},
     "output_type": "execute_result"
    }
   ],
   "source": [
    "num[-1]"
   ]
  },
  {
   "cell_type": "code",
   "execution_count": 13,
   "id": "52bd60a4-ea65-4f77-8f84-e73b5cc0daa8",
   "metadata": {},
   "outputs": [
    {
     "data": {
      "text/plain": [
       "56"
      ]
     },
     "execution_count": 13,
     "metadata": {},
     "output_type": "execute_result"
    }
   ],
   "source": [
    "num[-4]"
   ]
  },
  {
   "cell_type": "code",
   "execution_count": 14,
   "id": "8c691246-b5d4-444d-943b-179006415a51",
   "metadata": {},
   "outputs": [
    {
     "data": {
      "text/plain": [
       "56"
      ]
     },
     "execution_count": 14,
     "metadata": {},
     "output_type": "execute_result"
    }
   ],
   "source": [
    "num[2]"
   ]
  },
  {
   "cell_type": "markdown",
   "id": "bbe0bc42-dd59-4d31-a109-ef029451265f",
   "metadata": {},
   "source": [
    "##### Slicing a list"
   ]
  },
  {
   "cell_type": "code",
   "execution_count": 16,
   "id": "4220faad-5927-4857-864c-51cb581d0018",
   "metadata": {},
   "outputs": [
    {
     "data": {
      "text/plain": [
       "[34, 12, 56, 48, 27, 37]"
      ]
     },
     "execution_count": 16,
     "metadata": {},
     "output_type": "execute_result"
    }
   ],
   "source": [
    "num"
   ]
  },
  {
   "cell_type": "code",
   "execution_count": 17,
   "id": "d82d3a75-6e30-4d4a-b191-37d812b5b2c5",
   "metadata": {},
   "outputs": [
    {
     "data": {
      "text/plain": [
       "[12, 56, 48]"
      ]
     },
     "execution_count": 17,
     "metadata": {},
     "output_type": "execute_result"
    }
   ],
   "source": [
    "y = num[1:4]\n",
    "y"
   ]
  },
  {
   "cell_type": "code",
   "execution_count": 18,
   "id": "572817fb-0b1b-43b5-9506-6076a51e070a",
   "metadata": {},
   "outputs": [
    {
     "data": {
      "text/plain": [
       "['Kan', 'Mar', 'Tam', 'Tel', 'Ben']"
      ]
     },
     "execution_count": 18,
     "metadata": {},
     "output_type": "execute_result"
    }
   ],
   "source": [
    "langs[1:6]"
   ]
  },
  {
   "cell_type": "code",
   "execution_count": 19,
   "id": "a60bb2da-2ea4-448a-9c16-20c6fac31449",
   "metadata": {},
   "outputs": [
    {
     "data": {
      "text/plain": [
       "[12, 56, 48, 27, 37]"
      ]
     },
     "execution_count": 19,
     "metadata": {},
     "output_type": "execute_result"
    }
   ],
   "source": [
    "num[1:]"
   ]
  },
  {
   "cell_type": "code",
   "execution_count": 20,
   "id": "fa2afa70-4692-413d-bc5e-e8861d7fcea4",
   "metadata": {},
   "outputs": [
    {
     "data": {
      "text/plain": [
       "[34, 12, 56, 48, 27]"
      ]
     },
     "execution_count": 20,
     "metadata": {},
     "output_type": "execute_result"
    }
   ],
   "source": [
    "num[:5]"
   ]
  },
  {
   "cell_type": "code",
   "execution_count": 21,
   "id": "e0e1167c-aac1-47e0-80e4-395acb905648",
   "metadata": {},
   "outputs": [
    {
     "data": {
      "text/plain": [
       "[34, 12, 56, 48, 27, 37]"
      ]
     },
     "execution_count": 21,
     "metadata": {},
     "output_type": "execute_result"
    }
   ],
   "source": [
    "num[:]"
   ]
  },
  {
   "cell_type": "code",
   "execution_count": 22,
   "id": "2995a2f8-209d-423a-a53c-c8e53629a520",
   "metadata": {},
   "outputs": [
    {
     "data": {
      "text/plain": [
       "[56, 48, 27]"
      ]
     },
     "execution_count": 22,
     "metadata": {},
     "output_type": "execute_result"
    }
   ],
   "source": [
    "num[2:5]"
   ]
  },
  {
   "cell_type": "code",
   "execution_count": 23,
   "id": "3e4626c1-b790-47c9-a839-df0ea94a8466",
   "metadata": {},
   "outputs": [
    {
     "data": {
      "text/plain": [
       "[34, 12, 38, 49, 51, 37]"
      ]
     },
     "execution_count": 23,
     "metadata": {},
     "output_type": "execute_result"
    }
   ],
   "source": [
    "num[2:5] = [38, 49, 51]\n",
    "num"
   ]
  },
  {
   "cell_type": "markdown",
   "id": "b586d031-56ad-4a15-8f05-5f2c25463dbb",
   "metadata": {},
   "source": [
    "##### in and not in operator"
   ]
  },
  {
   "cell_type": "code",
   "execution_count": 25,
   "id": "c547c9b1-2f88-4dec-a0ee-ab62ec7b0644",
   "metadata": {},
   "outputs": [
    {
     "data": {
      "text/plain": [
       "[34, 12, 38, 49, 51, 37]"
      ]
     },
     "execution_count": 25,
     "metadata": {},
     "output_type": "execute_result"
    }
   ],
   "source": [
    "num"
   ]
  },
  {
   "cell_type": "code",
   "execution_count": 26,
   "id": "bb263e12-a946-44ed-8f3a-6afec41b7382",
   "metadata": {},
   "outputs": [
    {
     "data": {
      "text/plain": [
       "True"
      ]
     },
     "execution_count": 26,
     "metadata": {},
     "output_type": "execute_result"
    }
   ],
   "source": [
    "49 in num"
   ]
  },
  {
   "cell_type": "code",
   "execution_count": 27,
   "id": "46713383-fc72-4af0-a4cc-8998d1c74d4f",
   "metadata": {},
   "outputs": [
    {
     "data": {
      "text/plain": [
       "False"
      ]
     },
     "execution_count": 27,
     "metadata": {},
     "output_type": "execute_result"
    }
   ],
   "source": [
    "'Guj' in langs"
   ]
  },
  {
   "cell_type": "code",
   "execution_count": 28,
   "id": "553ffda3-1cef-49a5-ac97-598fb6474b0c",
   "metadata": {},
   "outputs": [
    {
     "data": {
      "text/plain": [
       "False"
      ]
     },
     "execution_count": 28,
     "metadata": {},
     "output_type": "execute_result"
    }
   ],
   "source": [
    "51 not in num"
   ]
  },
  {
   "cell_type": "code",
   "execution_count": 29,
   "id": "6d8e0bea-5952-4ec6-9194-c320296f7ae0",
   "metadata": {},
   "outputs": [
    {
     "data": {
      "text/plain": [
       "True"
      ]
     },
     "execution_count": 29,
     "metadata": {},
     "output_type": "execute_result"
    }
   ],
   "source": [
    "59 not in num"
   ]
  },
  {
   "cell_type": "markdown",
   "id": "39859151-7424-4c04-b5cf-30da00d38923",
   "metadata": {},
   "source": [
    "##### Delete the element"
   ]
  },
  {
   "cell_type": "code",
   "execution_count": 31,
   "id": "de605ce7-8057-47de-8faa-b730951c75a6",
   "metadata": {},
   "outputs": [
    {
     "data": {
      "text/plain": [
       "[34, 12, 38, 49, 51, 37]"
      ]
     },
     "execution_count": 31,
     "metadata": {},
     "output_type": "execute_result"
    }
   ],
   "source": [
    "num"
   ]
  },
  {
   "cell_type": "code",
   "execution_count": 32,
   "id": "c8425a41-540e-477c-9af7-381be8611208",
   "metadata": {},
   "outputs": [],
   "source": [
    "del num[3]"
   ]
  },
  {
   "cell_type": "code",
   "execution_count": 33,
   "id": "a6ab883c-216e-46f0-8ef4-31c9b3dca26c",
   "metadata": {},
   "outputs": [
    {
     "data": {
      "text/plain": [
       "[34, 12, 38, 51, 37]"
      ]
     },
     "execution_count": 33,
     "metadata": {},
     "output_type": "execute_result"
    }
   ],
   "source": [
    "num"
   ]
  },
  {
   "cell_type": "markdown",
   "id": "f2653853-10c2-404f-8705-fd9d4e68e236",
   "metadata": {},
   "source": [
    "##### Arithmetic Operations"
   ]
  },
  {
   "cell_type": "code",
   "execution_count": 35,
   "id": "afe20544-e64e-474d-9fa9-0e9daea33b25",
   "metadata": {},
   "outputs": [
    {
     "data": {
      "text/plain": [
       "[34, 12, 38, 51, 37]"
      ]
     },
     "execution_count": 35,
     "metadata": {},
     "output_type": "execute_result"
    }
   ],
   "source": [
    "num"
   ]
  },
  {
   "cell_type": "code",
   "execution_count": 36,
   "id": "5baf24b1-1517-4488-90d4-6d68666eb22e",
   "metadata": {},
   "outputs": [
    {
     "data": {
      "text/plain": [
       "[34, 12, 38, 51, 37, 34, 12, 38, 51, 37]"
      ]
     },
     "execution_count": 36,
     "metadata": {},
     "output_type": "execute_result"
    }
   ],
   "source": [
    "num * 2"
   ]
  },
  {
   "cell_type": "code",
   "execution_count": 37,
   "id": "41d91489-27ff-4e4a-8026-dd361fce5a26",
   "metadata": {},
   "outputs": [
    {
     "data": {
      "text/plain": [
       "[34, 12, 38, 51, 37]"
      ]
     },
     "execution_count": 37,
     "metadata": {},
     "output_type": "execute_result"
    }
   ],
   "source": [
    "num"
   ]
  },
  {
   "cell_type": "code",
   "execution_count": 38,
   "id": "20758c6f-1db3-4eb3-bec4-301e4fecef46",
   "metadata": {},
   "outputs": [
    {
     "data": {
      "text/plain": [
       "[34, 12, 38, 51, 37, 31, 44]"
      ]
     },
     "execution_count": 38,
     "metadata": {},
     "output_type": "execute_result"
    }
   ],
   "source": [
    "num + [31, 44]"
   ]
  },
  {
   "cell_type": "code",
   "execution_count": 39,
   "id": "2a322027-c5b3-4adf-a126-ff0a9c9e616f",
   "metadata": {},
   "outputs": [],
   "source": [
    "num += [31, 44]"
   ]
  },
  {
   "cell_type": "code",
   "execution_count": 40,
   "id": "ded58730-db2e-4f6d-b00b-7f830aed876c",
   "metadata": {},
   "outputs": [
    {
     "data": {
      "text/plain": [
       "[34, 12, 38, 51, 37, 31, 44]"
      ]
     },
     "execution_count": 40,
     "metadata": {},
     "output_type": "execute_result"
    }
   ],
   "source": [
    "num"
   ]
  },
  {
   "cell_type": "markdown",
   "id": "c584afa7-7b11-4920-b4d5-e71cd2da11b3",
   "metadata": {},
   "source": [
    "##### Iterating the list"
   ]
  },
  {
   "cell_type": "code",
   "execution_count": 42,
   "id": "a499988f-fdfe-4f15-8c72-7ee6c728b2a8",
   "metadata": {},
   "outputs": [
    {
     "data": {
      "text/plain": [
       "[34, 12, 38, 51, 37, 31, 44]"
      ]
     },
     "execution_count": 42,
     "metadata": {},
     "output_type": "execute_result"
    }
   ],
   "source": [
    "num"
   ]
  },
  {
   "cell_type": "code",
   "execution_count": 43,
   "id": "a613c545-c0a1-4bdc-9121-b263724bc1f4",
   "metadata": {},
   "outputs": [
    {
     "name": "stdout",
     "output_type": "stream",
     "text": [
      "34\n",
      "12\n",
      "38\n",
      "51\n",
      "37\n",
      "31\n",
      "44\n"
     ]
    }
   ],
   "source": [
    "for n in num:\n",
    "    print(n)"
   ]
  },
  {
   "cell_type": "code",
   "execution_count": 44,
   "id": "742355fc-75cb-4802-9da3-74d42425e44e",
   "metadata": {},
   "outputs": [
    {
     "name": "stdout",
     "output_type": "stream",
     "text": [
      "17.0\n",
      "6.0\n",
      "19.0\n",
      "25.5\n",
      "18.5\n",
      "15.5\n",
      "22.0\n"
     ]
    }
   ],
   "source": [
    "for n in num:\n",
    "    print(n / 2)"
   ]
  },
  {
   "cell_type": "code",
   "execution_count": 45,
   "id": "23b9185b-5f00-4566-a832-f52f3eab5958",
   "metadata": {},
   "outputs": [
    {
     "name": "stdout",
     "output_type": "stream",
     "text": [
      "Eng\n",
      "Kan\n",
      "Mar\n",
      "Tam\n",
      "Tel\n",
      "Ben\n",
      "Mal\n"
     ]
    }
   ],
   "source": [
    "for lang in langs:\n",
    "    print(lang)"
   ]
  },
  {
   "cell_type": "code",
   "execution_count": 46,
   "id": "97f8b256-0d2b-4c7a-be11-49033ca0eb8c",
   "metadata": {},
   "outputs": [
    {
     "name": "stdout",
     "output_type": "stream",
     "text": [
      "Tam\n",
      "Tel\n"
     ]
    }
   ],
   "source": [
    "for lang in langs:\n",
    "    if lang.startswith('T'):\n",
    "        print(lang)"
   ]
  },
  {
   "cell_type": "markdown",
   "id": "a29e6526-8c60-4c49-b124-1e57cb2c1255",
   "metadata": {},
   "source": [
    "##### List Comprehension"
   ]
  },
  {
   "cell_type": "code",
   "execution_count": 48,
   "id": "38707575-070f-4efb-b499-6d700d52b87a",
   "metadata": {},
   "outputs": [
    {
     "data": {
      "text/plain": [
       "[34, 12, 38, 51, 37, 31, 44]"
      ]
     },
     "execution_count": 48,
     "metadata": {},
     "output_type": "execute_result"
    }
   ],
   "source": [
    "num"
   ]
  },
  {
   "cell_type": "code",
   "execution_count": 51,
   "id": "eb77cfe2-db5e-476e-a32d-05eaa8e45256",
   "metadata": {},
   "outputs": [],
   "source": [
    "new = [x/2 for x in num]"
   ]
  },
  {
   "cell_type": "code",
   "execution_count": 52,
   "id": "327d476b-fd91-4e00-89d1-0a966783a96a",
   "metadata": {},
   "outputs": [
    {
     "data": {
      "text/plain": [
       "[17.0, 6.0, 19.0, 25.5, 18.5, 15.5, 22.0]"
      ]
     },
     "execution_count": 52,
     "metadata": {},
     "output_type": "execute_result"
    }
   ],
   "source": [
    "new"
   ]
  },
  {
   "cell_type": "code",
   "execution_count": 53,
   "id": "ea35d81f-7598-48bc-8b0f-4ad82c33e088",
   "metadata": {},
   "outputs": [],
   "source": [
    "new = [x**2 for x in num]"
   ]
  },
  {
   "cell_type": "code",
   "execution_count": 54,
   "id": "386c756a-db17-42eb-be64-85604172496d",
   "metadata": {},
   "outputs": [
    {
     "data": {
      "text/plain": [
       "[1156, 144, 1444, 2601, 1369, 961, 1936]"
      ]
     },
     "execution_count": 54,
     "metadata": {},
     "output_type": "execute_result"
    }
   ],
   "source": [
    "new"
   ]
  },
  {
   "cell_type": "code",
   "execution_count": 57,
   "id": "6d306f30-58bf-4c7b-8b99-576e6e55511d",
   "metadata": {},
   "outputs": [],
   "source": [
    "new = [x for x in num if x%2 == 0]"
   ]
  },
  {
   "cell_type": "code",
   "execution_count": 58,
   "id": "39b2b506-8a4a-404a-8fb0-96d3276f9672",
   "metadata": {},
   "outputs": [
    {
     "data": {
      "text/plain": [
       "[34, 12, 38, 44]"
      ]
     },
     "execution_count": 58,
     "metadata": {},
     "output_type": "execute_result"
    }
   ],
   "source": [
    "new"
   ]
  },
  {
   "cell_type": "markdown",
   "id": "595dc3bc-a5da-4aa5-a4c9-6ee0ab79ad2a",
   "metadata": {},
   "source": [
    "##### Empty List"
   ]
  },
  {
   "cell_type": "code",
   "execution_count": 60,
   "id": "3166da0c-32aa-4115-b4de-0bbbcce46bd1",
   "metadata": {},
   "outputs": [],
   "source": [
    "e = []"
   ]
  },
  {
   "cell_type": "code",
   "execution_count": 61,
   "id": "da680d2a-07aa-4d3a-8eb0-1b9a3a1dcf15",
   "metadata": {},
   "outputs": [
    {
     "data": {
      "text/plain": [
       "list"
      ]
     },
     "execution_count": 61,
     "metadata": {},
     "output_type": "execute_result"
    }
   ],
   "source": [
    "type(e)"
   ]
  },
  {
   "cell_type": "code",
   "execution_count": 62,
   "id": "9b0dca43-3950-473d-93f8-5b99188d4288",
   "metadata": {},
   "outputs": [
    {
     "ename": "IndexError",
     "evalue": "list index out of range",
     "output_type": "error",
     "traceback": [
      "\u001b[0;31m---------------------------------------------------------------------------\u001b[0m",
      "\u001b[0;31mIndexError\u001b[0m                                Traceback (most recent call last)",
      "Cell \u001b[0;32mIn[62], line 1\u001b[0m\n\u001b[0;32m----> 1\u001b[0m \u001b[43me\u001b[49m\u001b[43m[\u001b[49m\u001b[38;5;241;43m0\u001b[39;49m\u001b[43m]\u001b[49m\n",
      "\u001b[0;31mIndexError\u001b[0m: list index out of range"
     ]
    }
   ],
   "source": [
    "e[0]"
   ]
  },
  {
   "cell_type": "code",
   "execution_count": 63,
   "id": "94dc979c-92c6-4a70-b21d-c1856d0e5323",
   "metadata": {},
   "outputs": [
    {
     "data": {
      "text/plain": [
       "[23]"
      ]
     },
     "execution_count": 63,
     "metadata": {},
     "output_type": "execute_result"
    }
   ],
   "source": [
    "e += [23]\n",
    "e"
   ]
  },
  {
   "cell_type": "code",
   "execution_count": 64,
   "id": "18bc1943-cfbf-4924-bf49-5b6da4eab180",
   "metadata": {},
   "outputs": [
    {
     "data": {
      "text/plain": [
       "[23, 39]"
      ]
     },
     "execution_count": 64,
     "metadata": {},
     "output_type": "execute_result"
    }
   ],
   "source": [
    "e += [39]\n",
    "e"
   ]
  },
  {
   "cell_type": "code",
   "execution_count": 65,
   "id": "08e805a7-021d-4fd8-b030-c7d99f4dc086",
   "metadata": {},
   "outputs": [
    {
     "data": {
      "text/plain": [
       "[23, 39, 19]"
      ]
     },
     "execution_count": 65,
     "metadata": {},
     "output_type": "execute_result"
    }
   ],
   "source": [
    "e += [19]\n",
    "e"
   ]
  },
  {
   "cell_type": "markdown",
   "id": "044acc83-dcb5-423c-8f1c-c9ed749abd4a",
   "metadata": {},
   "source": [
    "##### Functions on list"
   ]
  },
  {
   "cell_type": "code",
   "execution_count": 67,
   "id": "c9fe6d8c-41c7-4852-9614-8bee8ed25e5d",
   "metadata": {},
   "outputs": [
    {
     "data": {
      "text/plain": [
       "7"
      ]
     },
     "execution_count": 67,
     "metadata": {},
     "output_type": "execute_result"
    }
   ],
   "source": [
    "len(num)"
   ]
  },
  {
   "cell_type": "code",
   "execution_count": 68,
   "id": "3b0b1349-6f0f-4d9f-82f7-67dd77efdc7b",
   "metadata": {},
   "outputs": [
    {
     "data": {
      "text/plain": [
       "7"
      ]
     },
     "execution_count": 68,
     "metadata": {},
     "output_type": "execute_result"
    }
   ],
   "source": [
    "len(langs)"
   ]
  },
  {
   "cell_type": "code",
   "execution_count": 69,
   "id": "ea0fd8f3-b48d-481d-bd5a-212f3d197b73",
   "metadata": {},
   "outputs": [
    {
     "data": {
      "text/plain": [
       "12"
      ]
     },
     "execution_count": 69,
     "metadata": {},
     "output_type": "execute_result"
    }
   ],
   "source": [
    "min(num)"
   ]
  },
  {
   "cell_type": "code",
   "execution_count": 70,
   "id": "46f9ab3b-f67f-4b87-8612-1855ce05cc08",
   "metadata": {},
   "outputs": [
    {
     "data": {
      "text/plain": [
       "51"
      ]
     },
     "execution_count": 70,
     "metadata": {},
     "output_type": "execute_result"
    }
   ],
   "source": [
    "max(num)"
   ]
  },
  {
   "cell_type": "code",
   "execution_count": 71,
   "id": "19db7918-05c3-448b-8a2d-736f9b07ff7f",
   "metadata": {},
   "outputs": [
    {
     "data": {
      "text/plain": [
       "247"
      ]
     },
     "execution_count": 71,
     "metadata": {},
     "output_type": "execute_result"
    }
   ],
   "source": [
    "sum(num)"
   ]
  },
  {
   "cell_type": "code",
   "execution_count": 72,
   "id": "00d211cd-f4e7-44c1-9a41-7ae475653284",
   "metadata": {},
   "outputs": [
    {
     "data": {
      "text/plain": [
       "[12, 31, 34, 37, 38, 44, 51]"
      ]
     },
     "execution_count": 72,
     "metadata": {},
     "output_type": "execute_result"
    }
   ],
   "source": [
    "sorted(num)"
   ]
  },
  {
   "cell_type": "code",
   "execution_count": 73,
   "id": "5a997381-bcef-40b2-9483-e5e1ec804fb0",
   "metadata": {},
   "outputs": [
    {
     "data": {
      "text/plain": [
       "[34, 12, 38, 51, 37, 31, 44]"
      ]
     },
     "execution_count": 73,
     "metadata": {},
     "output_type": "execute_result"
    }
   ],
   "source": [
    "num"
   ]
  },
  {
   "cell_type": "markdown",
   "id": "1ef7760e-ec96-4fdb-9ccd-47e888903130",
   "metadata": {},
   "source": [
    "##### List methods"
   ]
  },
  {
   "cell_type": "code",
   "execution_count": 74,
   "id": "540dff73-2ea9-4b41-b28e-0c4d9a3d8a04",
   "metadata": {},
   "outputs": [],
   "source": [
    "num.append(45)"
   ]
  },
  {
   "cell_type": "code",
   "execution_count": 75,
   "id": "8b888e2e-1bab-4639-bd77-41ef79fac87b",
   "metadata": {},
   "outputs": [
    {
     "data": {
      "text/plain": [
       "[34, 12, 38, 51, 37, 31, 44, 45]"
      ]
     },
     "execution_count": 75,
     "metadata": {},
     "output_type": "execute_result"
    }
   ],
   "source": [
    "num"
   ]
  },
  {
   "cell_type": "code",
   "execution_count": 77,
   "id": "0ea125fa-ce65-4c45-aa75-df9d6eeab55e",
   "metadata": {},
   "outputs": [],
   "source": [
    "num.insert(4, 84)"
   ]
  },
  {
   "cell_type": "code",
   "execution_count": 78,
   "id": "8263dbfb-6d25-480f-864c-862337198613",
   "metadata": {},
   "outputs": [
    {
     "data": {
      "text/plain": [
       "[34, 12, 38, 51, 84, 37, 31, 44, 45]"
      ]
     },
     "execution_count": 78,
     "metadata": {},
     "output_type": "execute_result"
    }
   ],
   "source": [
    "num"
   ]
  },
  {
   "cell_type": "code",
   "execution_count": 79,
   "id": "2f403e7d-d3e0-4bd3-90fa-5a37f2b0ee28",
   "metadata": {},
   "outputs": [],
   "source": [
    "num.remove(31)"
   ]
  },
  {
   "cell_type": "code",
   "execution_count": 80,
   "id": "dc18ec7f-5fdc-471b-bfd2-0f0531a2578c",
   "metadata": {},
   "outputs": [
    {
     "data": {
      "text/plain": [
       "[34, 12, 38, 51, 84, 37, 44, 45]"
      ]
     },
     "execution_count": 80,
     "metadata": {},
     "output_type": "execute_result"
    }
   ],
   "source": [
    "num"
   ]
  },
  {
   "cell_type": "code",
   "execution_count": 81,
   "id": "f2a9ed7b-55c3-46cb-b83e-f9003dfaa756",
   "metadata": {},
   "outputs": [
    {
     "data": {
      "text/plain": [
       "51"
      ]
     },
     "execution_count": 81,
     "metadata": {},
     "output_type": "execute_result"
    }
   ],
   "source": [
    "num.pop(3)"
   ]
  },
  {
   "cell_type": "code",
   "execution_count": 82,
   "id": "40102602-531e-488e-9410-0554e9efb21f",
   "metadata": {},
   "outputs": [
    {
     "data": {
      "text/plain": [
       "[34, 12, 38, 84, 37, 44, 45]"
      ]
     },
     "execution_count": 82,
     "metadata": {},
     "output_type": "execute_result"
    }
   ],
   "source": [
    "num"
   ]
  },
  {
   "cell_type": "code",
   "execution_count": 83,
   "id": "773ae133-b4ef-4855-b4ab-139652d8a550",
   "metadata": {},
   "outputs": [
    {
     "data": {
      "text/plain": [
       "4"
      ]
     },
     "execution_count": 83,
     "metadata": {},
     "output_type": "execute_result"
    }
   ],
   "source": [
    "num.index(37)"
   ]
  },
  {
   "cell_type": "code",
   "execution_count": 84,
   "id": "191fede9-6e8b-4cf6-b831-519b0e5f3c23",
   "metadata": {},
   "outputs": [
    {
     "data": {
      "text/plain": [
       "1"
      ]
     },
     "execution_count": 84,
     "metadata": {},
     "output_type": "execute_result"
    }
   ],
   "source": [
    "num.count(44)"
   ]
  },
  {
   "cell_type": "code",
   "execution_count": 85,
   "id": "8571151e-03e9-499c-8311-87c771db6c2a",
   "metadata": {},
   "outputs": [],
   "source": [
    "num.reverse()"
   ]
  },
  {
   "cell_type": "code",
   "execution_count": 86,
   "id": "515e3772-9aa8-4653-9376-b9636d88119e",
   "metadata": {},
   "outputs": [
    {
     "data": {
      "text/plain": [
       "[45, 44, 37, 84, 38, 12, 34]"
      ]
     },
     "execution_count": 86,
     "metadata": {},
     "output_type": "execute_result"
    }
   ],
   "source": [
    "num"
   ]
  },
  {
   "cell_type": "code",
   "execution_count": 87,
   "id": "0e37a3ea-3745-45a9-a5f8-d87132876b45",
   "metadata": {},
   "outputs": [],
   "source": [
    "num.sort()"
   ]
  },
  {
   "cell_type": "code",
   "execution_count": 88,
   "id": "e39c9fbb-8d75-4bfc-aecd-339d5c3139fa",
   "metadata": {},
   "outputs": [
    {
     "data": {
      "text/plain": [
       "[12, 34, 37, 38, 44, 45, 84]"
      ]
     },
     "execution_count": 88,
     "metadata": {},
     "output_type": "execute_result"
    }
   ],
   "source": [
    "num"
   ]
  },
  {
   "cell_type": "code",
   "execution_count": 89,
   "id": "c98494fe-8c25-4254-9fff-da07abccec6b",
   "metadata": {},
   "outputs": [],
   "source": [
    "num.sort(reverse=True)"
   ]
  },
  {
   "cell_type": "code",
   "execution_count": 90,
   "id": "48e72bdb-5ec7-4aae-9d42-57deed58c870",
   "metadata": {},
   "outputs": [
    {
     "data": {
      "text/plain": [
       "[84, 45, 44, 38, 37, 34, 12]"
      ]
     },
     "execution_count": 90,
     "metadata": {},
     "output_type": "execute_result"
    }
   ],
   "source": [
    "num"
   ]
  },
  {
   "cell_type": "code",
   "execution_count": 91,
   "id": "1f15e3e5-5434-4ee4-a9c6-747c1ab1882b",
   "metadata": {},
   "outputs": [],
   "source": [
    "num.clear()"
   ]
  },
  {
   "cell_type": "code",
   "execution_count": 92,
   "id": "39452a0a-0691-4bce-8f25-92b19edbb7cb",
   "metadata": {},
   "outputs": [
    {
     "data": {
      "text/plain": [
       "[]"
      ]
     },
     "execution_count": 92,
     "metadata": {},
     "output_type": "execute_result"
    }
   ],
   "source": [
    "num"
   ]
  },
  {
   "cell_type": "code",
   "execution_count": 94,
   "id": "7b51f567-8a0b-4440-ab69-220a9b567982",
   "metadata": {},
   "outputs": [],
   "source": [
    "# Example List: x = [5,7,6,8,2,3,9,0,4,6]\n",
    "# Output list: x = [5,7,6,8,2,0,3,4,6,9]\n",
    "\n",
    "# Sort only higher order of the list and print\n"
   ]
  },
  {
   "cell_type": "code",
   "execution_count": 95,
   "id": "9ea30744-103d-4675-b89d-944144bd12f8",
   "metadata": {},
   "outputs": [],
   "source": [
    "x = [5,7,6,8,2,3,9,0,4,6]"
   ]
  },
  {
   "cell_type": "code",
   "execution_count": 96,
   "id": "fc2b48d6-c56d-4c8f-8959-ca09411f36cf",
   "metadata": {},
   "outputs": [],
   "source": [
    "first = x[:5]\n",
    "second = x[5:]"
   ]
  },
  {
   "cell_type": "code",
   "execution_count": 97,
   "id": "a58501be-1800-4848-8d04-6522ef816f88",
   "metadata": {},
   "outputs": [
    {
     "data": {
      "text/plain": [
       "[5, 7, 6, 8, 2]"
      ]
     },
     "execution_count": 97,
     "metadata": {},
     "output_type": "execute_result"
    }
   ],
   "source": [
    "first"
   ]
  },
  {
   "cell_type": "code",
   "execution_count": 98,
   "id": "95ad1bc8-4317-4a50-b82e-9a812f471d99",
   "metadata": {},
   "outputs": [
    {
     "data": {
      "text/plain": [
       "[3, 9, 0, 4, 6]"
      ]
     },
     "execution_count": 98,
     "metadata": {},
     "output_type": "execute_result"
    }
   ],
   "source": [
    "second"
   ]
  },
  {
   "cell_type": "code",
   "execution_count": 99,
   "id": "21928619-9e7c-4abd-ba37-16426c662ac0",
   "metadata": {},
   "outputs": [],
   "source": [
    "second.sort()"
   ]
  },
  {
   "cell_type": "code",
   "execution_count": 100,
   "id": "d9e6cf56-ce9b-4527-897c-d51424010019",
   "metadata": {},
   "outputs": [
    {
     "data": {
      "text/plain": [
       "[5, 7, 6, 8, 2, 0, 3, 4, 6, 9]"
      ]
     },
     "execution_count": 100,
     "metadata": {},
     "output_type": "execute_result"
    }
   ],
   "source": [
    "first + second"
   ]
  },
  {
   "cell_type": "markdown",
   "id": "8133feb6-78d1-466d-b01f-2faa66238126",
   "metadata": {},
   "source": [
    "#### Tuple"
   ]
  },
  {
   "cell_type": "code",
   "execution_count": 103,
   "id": "54d761f4-fa16-421b-8447-f6efe3ca3802",
   "metadata": {},
   "outputs": [],
   "source": [
    "t = (56,23,18,38,51,39)"
   ]
  },
  {
   "cell_type": "code",
   "execution_count": 104,
   "id": "498175ba-86fc-41f7-baac-8d01ad37004e",
   "metadata": {},
   "outputs": [
    {
     "data": {
      "text/plain": [
       "tuple"
      ]
     },
     "execution_count": 104,
     "metadata": {},
     "output_type": "execute_result"
    }
   ],
   "source": [
    "type(t)"
   ]
  },
  {
   "cell_type": "code",
   "execution_count": 105,
   "id": "79183587-4048-48f8-afc9-be5029dbcc6f",
   "metadata": {},
   "outputs": [
    {
     "data": {
      "text/plain": [
       "38"
      ]
     },
     "execution_count": 105,
     "metadata": {},
     "output_type": "execute_result"
    }
   ],
   "source": [
    "t[3]"
   ]
  },
  {
   "cell_type": "code",
   "execution_count": 106,
   "id": "ab1c6be5-31c8-42b4-8656-bedba0ccc61d",
   "metadata": {},
   "outputs": [
    {
     "ename": "TypeError",
     "evalue": "'tuple' object does not support item assignment",
     "output_type": "error",
     "traceback": [
      "\u001b[0;31m---------------------------------------------------------------------------\u001b[0m",
      "\u001b[0;31mTypeError\u001b[0m                                 Traceback (most recent call last)",
      "Cell \u001b[0;32mIn[106], line 1\u001b[0m\n\u001b[0;32m----> 1\u001b[0m \u001b[43mt\u001b[49m\u001b[43m[\u001b[49m\u001b[38;5;241;43m3\u001b[39;49m\u001b[43m]\u001b[49m \u001b[38;5;241m=\u001b[39m \u001b[38;5;241m45\u001b[39m\n",
      "\u001b[0;31mTypeError\u001b[0m: 'tuple' object does not support item assignment"
     ]
    }
   ],
   "source": [
    "t[3] = 45"
   ]
  },
  {
   "cell_type": "code",
   "execution_count": 107,
   "id": "1eb50e5c-4d47-4b7e-b861-ed58f837738a",
   "metadata": {},
   "outputs": [
    {
     "data": {
      "text/plain": [
       "51"
      ]
     },
     "execution_count": 107,
     "metadata": {},
     "output_type": "execute_result"
    }
   ],
   "source": [
    "t[-2]"
   ]
  },
  {
   "cell_type": "code",
   "execution_count": 108,
   "id": "2c38e4cd-c36f-47b0-83b5-db22fe3a7413",
   "metadata": {},
   "outputs": [
    {
     "name": "stdout",
     "output_type": "stream",
     "text": [
      "56\n",
      "23\n",
      "18\n",
      "38\n",
      "51\n",
      "39\n"
     ]
    }
   ],
   "source": [
    "for x in t:\n",
    "    print(x)"
   ]
  },
  {
   "cell_type": "markdown",
   "id": "9be61861-c8e9-4862-92b2-74d53ecf0706",
   "metadata": {},
   "source": [
    "#### Set"
   ]
  },
  {
   "cell_type": "code",
   "execution_count": 110,
   "id": "227a40f6-0d45-4cd1-9e7d-a1d1dbd12d49",
   "metadata": {},
   "outputs": [],
   "source": [
    "# Collectio of unique and distinct elements"
   ]
  },
  {
   "cell_type": "code",
   "execution_count": 111,
   "id": "f55716f8-f07a-4077-82d4-2150bab4635e",
   "metadata": {},
   "outputs": [],
   "source": [
    "s = {4,7,5,8,7,6,1,5,4,6}"
   ]
  },
  {
   "cell_type": "code",
   "execution_count": 112,
   "id": "534c5513-b950-44b7-94c4-f4be575e4ecf",
   "metadata": {},
   "outputs": [
    {
     "data": {
      "text/plain": [
       "set"
      ]
     },
     "execution_count": 112,
     "metadata": {},
     "output_type": "execute_result"
    }
   ],
   "source": [
    "type(s)"
   ]
  },
  {
   "cell_type": "code",
   "execution_count": 113,
   "id": "2b5d8c53-8a30-416e-aefa-630cf4a87bbf",
   "metadata": {},
   "outputs": [
    {
     "data": {
      "text/plain": [
       "{1, 4, 5, 6, 7, 8}"
      ]
     },
     "execution_count": 113,
     "metadata": {},
     "output_type": "execute_result"
    }
   ],
   "source": [
    "s"
   ]
  },
  {
   "cell_type": "code",
   "execution_count": 114,
   "id": "bee391f3-80d2-48f2-91d0-9c61be9ac752",
   "metadata": {},
   "outputs": [
    {
     "ename": "TypeError",
     "evalue": "'set' object is not subscriptable",
     "output_type": "error",
     "traceback": [
      "\u001b[0;31m---------------------------------------------------------------------------\u001b[0m",
      "\u001b[0;31mTypeError\u001b[0m                                 Traceback (most recent call last)",
      "Cell \u001b[0;32mIn[114], line 1\u001b[0m\n\u001b[0;32m----> 1\u001b[0m \u001b[43ms\u001b[49m\u001b[43m[\u001b[49m\u001b[38;5;241;43m3\u001b[39;49m\u001b[43m]\u001b[49m\n",
      "\u001b[0;31mTypeError\u001b[0m: 'set' object is not subscriptable"
     ]
    }
   ],
   "source": [
    "s[3]"
   ]
  },
  {
   "cell_type": "markdown",
   "id": "4ed65c8f-35e8-4904-a00c-d9da185bf6a9",
   "metadata": {},
   "source": [
    "#### Dictionary"
   ]
  },
  {
   "cell_type": "code",
   "execution_count": 116,
   "id": "3a9af6b0-7750-42b2-97fb-636706d0d51a",
   "metadata": {},
   "outputs": [],
   "source": [
    "# Stores the data in the form of key-value pairs"
   ]
  },
  {
   "cell_type": "code",
   "execution_count": 117,
   "id": "c06a4110-e7e7-4734-982a-0fddd824002b",
   "metadata": {},
   "outputs": [],
   "source": [
    "d = {3:34, 5:78, 6:190, 8:167, 12:89}"
   ]
  },
  {
   "cell_type": "code",
   "execution_count": 118,
   "id": "dc5e3fdb-97c6-43d6-a9f3-32407aefb963",
   "metadata": {},
   "outputs": [
    {
     "data": {
      "text/plain": [
       "{3: 34, 5: 78, 6: 190, 8: 167, 12: 89}"
      ]
     },
     "execution_count": 118,
     "metadata": {},
     "output_type": "execute_result"
    }
   ],
   "source": [
    "d"
   ]
  },
  {
   "cell_type": "code",
   "execution_count": 119,
   "id": "1baf38e8-b8cf-403d-83a1-c70d4165d6f9",
   "metadata": {},
   "outputs": [
    {
     "data": {
      "text/plain": [
       "dict"
      ]
     },
     "execution_count": 119,
     "metadata": {},
     "output_type": "execute_result"
    }
   ],
   "source": [
    "type(d)"
   ]
  },
  {
   "cell_type": "code",
   "execution_count": 120,
   "id": "4b8c98bc-5a76-457f-84d0-09c71681f6bd",
   "metadata": {},
   "outputs": [
    {
     "data": {
      "text/plain": [
       "190"
      ]
     },
     "execution_count": 120,
     "metadata": {},
     "output_type": "execute_result"
    }
   ],
   "source": [
    "d[6]"
   ]
  },
  {
   "cell_type": "code",
   "execution_count": 121,
   "id": "a722dee8-10c7-40c3-b793-00646624e430",
   "metadata": {},
   "outputs": [
    {
     "data": {
      "text/plain": [
       "89"
      ]
     },
     "execution_count": 121,
     "metadata": {},
     "output_type": "execute_result"
    }
   ],
   "source": [
    "d[12]"
   ]
  },
  {
   "cell_type": "code",
   "execution_count": 122,
   "id": "83b72a7b-895c-4a17-8c6f-938f4c5e1638",
   "metadata": {},
   "outputs": [
    {
     "data": {
      "text/plain": [
       "{3: 34, 5: 78, 6: 190, 8: 167, 12: 189}"
      ]
     },
     "execution_count": 122,
     "metadata": {},
     "output_type": "execute_result"
    }
   ],
   "source": [
    "d[12] = 189\n",
    "d"
   ]
  },
  {
   "cell_type": "code",
   "execution_count": 123,
   "id": "e8ef3bc6-618f-4b76-8264-bcdd3d869e0d",
   "metadata": {},
   "outputs": [],
   "source": [
    "d['a'] = 'apple'"
   ]
  },
  {
   "cell_type": "code",
   "execution_count": 124,
   "id": "79574de6-368b-4103-bcf1-3fe4e214c7ce",
   "metadata": {},
   "outputs": [
    {
     "data": {
      "text/plain": [
       "{3: 34, 5: 78, 6: 190, 8: 167, 12: 189, 'a': 'apple'}"
      ]
     },
     "execution_count": 124,
     "metadata": {},
     "output_type": "execute_result"
    }
   ],
   "source": [
    "d"
   ]
  },
  {
   "cell_type": "code",
   "execution_count": null,
   "id": "1810c24a-14e9-4975-9d71-9103b2e428df",
   "metadata": {},
   "outputs": [],
   "source": []
  }
 ],
 "metadata": {
  "kernelspec": {
   "display_name": "Python 3 (ipykernel)",
   "language": "python",
   "name": "python3"
  },
  "language_info": {
   "codemirror_mode": {
    "name": "ipython",
    "version": 3
   },
   "file_extension": ".py",
   "mimetype": "text/x-python",
   "name": "python",
   "nbconvert_exporter": "python",
   "pygments_lexer": "ipython3",
   "version": "3.10.12"
  }
 },
 "nbformat": 4,
 "nbformat_minor": 5
}
