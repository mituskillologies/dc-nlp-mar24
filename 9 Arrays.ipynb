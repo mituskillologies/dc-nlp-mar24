{
 "cells": [
  {
   "cell_type": "code",
   "execution_count": 1,
   "id": "9c80a794-3185-4506-b623-66daf2a5590a",
   "metadata": {},
   "outputs": [],
   "source": [
    "import numpy as np"
   ]
  },
  {
   "cell_type": "code",
   "execution_count": 2,
   "id": "a3b5018e-a95b-4408-bec0-062697791f73",
   "metadata": {},
   "outputs": [],
   "source": [
    "x = np.array([56,22,12,67,89,53])"
   ]
  },
  {
   "cell_type": "code",
   "execution_count": 3,
   "id": "b5ca6f86-0079-4452-a3f7-c7d492dad717",
   "metadata": {},
   "outputs": [
    {
     "data": {
      "text/plain": [
       "array([56, 22, 12, 67, 89, 53])"
      ]
     },
     "execution_count": 3,
     "metadata": {},
     "output_type": "execute_result"
    }
   ],
   "source": [
    "x"
   ]
  },
  {
   "cell_type": "code",
   "execution_count": 4,
   "id": "60209c6f-b1ff-4f4b-93a3-83cdc7d05fec",
   "metadata": {},
   "outputs": [
    {
     "data": {
      "text/plain": [
       "numpy.ndarray"
      ]
     },
     "execution_count": 4,
     "metadata": {},
     "output_type": "execute_result"
    }
   ],
   "source": [
    "type(x)"
   ]
  },
  {
   "cell_type": "code",
   "execution_count": 5,
   "id": "d68031ab-60e6-480e-8a83-9c0bc572ab5f",
   "metadata": {},
   "outputs": [
    {
     "data": {
      "text/plain": [
       "dtype('int64')"
      ]
     },
     "execution_count": 5,
     "metadata": {},
     "output_type": "execute_result"
    }
   ],
   "source": [
    "x.dtype"
   ]
  },
  {
   "cell_type": "code",
   "execution_count": 6,
   "id": "81c81717-2ea6-418d-8e77-3a23bab30b0c",
   "metadata": {},
   "outputs": [
    {
     "data": {
      "text/plain": [
       "6"
      ]
     },
     "execution_count": 6,
     "metadata": {},
     "output_type": "execute_result"
    }
   ],
   "source": [
    "x.size"
   ]
  },
  {
   "cell_type": "code",
   "execution_count": 7,
   "id": "d16659dc-20e8-461d-b9ac-1690816792bf",
   "metadata": {},
   "outputs": [
    {
     "data": {
      "text/plain": [
       "67"
      ]
     },
     "execution_count": 7,
     "metadata": {},
     "output_type": "execute_result"
    }
   ],
   "source": [
    "x[3]"
   ]
  },
  {
   "cell_type": "code",
   "execution_count": 8,
   "id": "c183d72b-4c23-4204-aa33-edcfeb183dcc",
   "metadata": {},
   "outputs": [],
   "source": [
    "y = np.array([56,22,12.23,67,89,53])"
   ]
  },
  {
   "cell_type": "code",
   "execution_count": 9,
   "id": "803e84ed-51c5-4a4c-a3ee-ec2486a99213",
   "metadata": {},
   "outputs": [
    {
     "data": {
      "text/plain": [
       "array([56.  , 22.  , 12.23, 67.  , 89.  , 53.  ])"
      ]
     },
     "execution_count": 9,
     "metadata": {},
     "output_type": "execute_result"
    }
   ],
   "source": [
    "y"
   ]
  },
  {
   "cell_type": "code",
   "execution_count": 10,
   "id": "2e511373-2bc7-409b-a6ec-dbbabebff0e3",
   "metadata": {},
   "outputs": [
    {
     "data": {
      "text/plain": [
       "dtype('float64')"
      ]
     },
     "execution_count": 10,
     "metadata": {},
     "output_type": "execute_result"
    }
   ],
   "source": [
    "y.dtype"
   ]
  },
  {
   "cell_type": "code",
   "execution_count": 11,
   "id": "5f4c2e71-cddc-4304-9d01-d751305ef68d",
   "metadata": {},
   "outputs": [
    {
     "data": {
      "text/plain": [
       "22.0"
      ]
     },
     "execution_count": 11,
     "metadata": {},
     "output_type": "execute_result"
    }
   ],
   "source": [
    "y[1]"
   ]
  },
  {
   "cell_type": "code",
   "execution_count": 16,
   "id": "a1f11d7b-d7c0-4dbb-b568-be1ce9e23951",
   "metadata": {},
   "outputs": [],
   "source": [
    "city = np.array(['पुणे', 'नागपुर', 'नाशिक', 'सातारा'])"
   ]
  },
  {
   "cell_type": "code",
   "execution_count": 17,
   "id": "9558343b-2e2e-4862-be29-c7107dc5d0b9",
   "metadata": {},
   "outputs": [
    {
     "data": {
      "text/plain": [
       "array(['पुणे', 'नागपुर', 'नाशिक', 'सातारा'], dtype='<U6')"
      ]
     },
     "execution_count": 17,
     "metadata": {},
     "output_type": "execute_result"
    }
   ],
   "source": [
    "city"
   ]
  },
  {
   "cell_type": "code",
   "execution_count": 18,
   "id": "df774957-1fd7-4099-950e-fff451f2f023",
   "metadata": {},
   "outputs": [
    {
     "data": {
      "text/plain": [
       "dtype('<U6')"
      ]
     },
     "execution_count": 18,
     "metadata": {},
     "output_type": "execute_result"
    }
   ],
   "source": [
    "city.dtype"
   ]
  },
  {
   "cell_type": "code",
   "execution_count": 19,
   "id": "e45c2177-df53-417c-bcbe-e977a472db17",
   "metadata": {},
   "outputs": [
    {
     "data": {
      "text/plain": [
       "'सातारा'"
      ]
     },
     "execution_count": 19,
     "metadata": {},
     "output_type": "execute_result"
    }
   ],
   "source": [
    "city[3]"
   ]
  },
  {
   "cell_type": "code",
   "execution_count": 20,
   "id": "3dea91af-76db-443e-b8ef-f3b399148aca",
   "metadata": {},
   "outputs": [
    {
     "data": {
      "text/plain": [
       "numpy.str_"
      ]
     },
     "execution_count": 20,
     "metadata": {},
     "output_type": "execute_result"
    }
   ],
   "source": [
    "type(city[3])"
   ]
  },
  {
   "cell_type": "code",
   "execution_count": 21,
   "id": "f54d0cc1-67f6-44e7-9c8d-01875fd23122",
   "metadata": {},
   "outputs": [],
   "source": [
    "z = np.array([[5,6,7],[3,5,6],[1,0,9],[4,8,1]])"
   ]
  },
  {
   "cell_type": "code",
   "execution_count": 22,
   "id": "9023ce01-8d9d-455c-87df-aa89272c7a0c",
   "metadata": {},
   "outputs": [
    {
     "data": {
      "text/plain": [
       "array([[5, 6, 7],\n",
       "       [3, 5, 6],\n",
       "       [1, 0, 9],\n",
       "       [4, 8, 1]])"
      ]
     },
     "execution_count": 22,
     "metadata": {},
     "output_type": "execute_result"
    }
   ],
   "source": [
    "z"
   ]
  },
  {
   "cell_type": "code",
   "execution_count": 23,
   "id": "55bd19f5-fadf-4378-a426-e7720629bfdf",
   "metadata": {},
   "outputs": [
    {
     "data": {
      "text/plain": [
       "(4, 3)"
      ]
     },
     "execution_count": 23,
     "metadata": {},
     "output_type": "execute_result"
    }
   ],
   "source": [
    "z.shape"
   ]
  },
  {
   "cell_type": "code",
   "execution_count": 24,
   "id": "6fcce005-f8ab-4d89-a056-8818ba9ecd98",
   "metadata": {},
   "outputs": [
    {
     "data": {
      "text/plain": [
       "dtype('int64')"
      ]
     },
     "execution_count": 24,
     "metadata": {},
     "output_type": "execute_result"
    }
   ],
   "source": [
    "z.dtype"
   ]
  },
  {
   "cell_type": "code",
   "execution_count": 25,
   "id": "92f9af6a-2967-4962-a462-c86255a6d371",
   "metadata": {},
   "outputs": [
    {
     "data": {
      "text/plain": [
       "9"
      ]
     },
     "execution_count": 25,
     "metadata": {},
     "output_type": "execute_result"
    }
   ],
   "source": [
    "z.max()"
   ]
  },
  {
   "cell_type": "code",
   "execution_count": 26,
   "id": "7287bbeb-154c-4e7e-ae63-a42658858aca",
   "metadata": {},
   "outputs": [
    {
     "data": {
      "text/plain": [
       "4.583333333333333"
      ]
     },
     "execution_count": 26,
     "metadata": {},
     "output_type": "execute_result"
    }
   ],
   "source": [
    "z.mean()"
   ]
  },
  {
   "cell_type": "code",
   "execution_count": null,
   "id": "6fb6d5b7-c84a-4763-8bdb-fda0a1ccf3e4",
   "metadata": {},
   "outputs": [],
   "source": []
  }
 ],
 "metadata": {
  "kernelspec": {
   "display_name": "Python 3 (ipykernel)",
   "language": "python",
   "name": "python3"
  },
  "language_info": {
   "codemirror_mode": {
    "name": "ipython",
    "version": 3
   },
   "file_extension": ".py",
   "mimetype": "text/x-python",
   "name": "python",
   "nbconvert_exporter": "python",
   "pygments_lexer": "ipython3",
   "version": "3.10.12"
  }
 },
 "nbformat": 4,
 "nbformat_minor": 5
}
