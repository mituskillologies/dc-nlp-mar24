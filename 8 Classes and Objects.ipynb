{
 "cells": [
  {
   "cell_type": "markdown",
   "id": "a33ef44a-cafd-459f-aad4-2dadd1d5db8b",
   "metadata": {},
   "source": [
    "##### Define the class"
   ]
  },
  {
   "cell_type": "code",
   "execution_count": 4,
   "id": "46ca9309-86af-4667-8d9c-909fffedc150",
   "metadata": {},
   "outputs": [],
   "source": [
    "class Person:                       # class definition\n",
    "    def __init__(self, n, a):       # constructor\n",
    "        self.name = n               # self.name -> instance variables\n",
    "        self.age = a\n",
    "    def show(self):                 # function / method\n",
    "        print('Values are:')\n",
    "        print(self.name, self.age)"
   ]
  },
  {
   "cell_type": "markdown",
   "id": "49351e7c-aeee-45c6-b362-33cb053d4dd4",
   "metadata": {},
   "source": [
    "##### Create the object"
   ]
  },
  {
   "cell_type": "code",
   "execution_count": 6,
   "id": "c868b45f-fbc2-4862-a9e9-2b87b7b6bf1e",
   "metadata": {},
   "outputs": [],
   "source": [
    "p1 = Person('anil',23)"
   ]
  },
  {
   "cell_type": "code",
   "execution_count": 7,
   "id": "49b9830e-cfa5-4b71-8775-7d24e0f46ff8",
   "metadata": {},
   "outputs": [
    {
     "name": "stdout",
     "output_type": "stream",
     "text": [
      "Values are:\n",
      "anil 23\n"
     ]
    }
   ],
   "source": [
    "p1.show()"
   ]
  },
  {
   "cell_type": "code",
   "execution_count": 8,
   "id": "54d2da2a-82e5-4cc5-81ee-d49c453f54c3",
   "metadata": {},
   "outputs": [
    {
     "data": {
      "text/plain": [
       "23"
      ]
     },
     "execution_count": 8,
     "metadata": {},
     "output_type": "execute_result"
    }
   ],
   "source": [
    "p1.age"
   ]
  },
  {
   "cell_type": "code",
   "execution_count": 9,
   "id": "7e2b04a3-3f69-455a-933d-06881cc0d861",
   "metadata": {},
   "outputs": [
    {
     "data": {
      "text/plain": [
       "'anil'"
      ]
     },
     "execution_count": 9,
     "metadata": {},
     "output_type": "execute_result"
    }
   ],
   "source": [
    "p1.name"
   ]
  },
  {
   "cell_type": "code",
   "execution_count": 10,
   "id": "78fea509-7d49-456b-96a8-a0a81a75c2ee",
   "metadata": {},
   "outputs": [],
   "source": [
    "p2 = Person('sunil',17)"
   ]
  },
  {
   "cell_type": "code",
   "execution_count": 11,
   "id": "13282315-4120-4bba-9a10-3d64e397e187",
   "metadata": {},
   "outputs": [],
   "source": [
    "p3 = Person('riya', 22)"
   ]
  },
  {
   "cell_type": "code",
   "execution_count": 12,
   "id": "50c9e786-16a1-4cce-a431-1cdeee133cd6",
   "metadata": {},
   "outputs": [
    {
     "name": "stdout",
     "output_type": "stream",
     "text": [
      "Values are:\n",
      "sunil 17\n"
     ]
    }
   ],
   "source": [
    "p2.show()"
   ]
  },
  {
   "cell_type": "code",
   "execution_count": 13,
   "id": "cbdfe05b-ca31-4859-a476-90729a5f9afa",
   "metadata": {},
   "outputs": [
    {
     "name": "stdout",
     "output_type": "stream",
     "text": [
      "Values are:\n",
      "riya 22\n"
     ]
    }
   ],
   "source": [
    "p3.show()"
   ]
  },
  {
   "cell_type": "code",
   "execution_count": 14,
   "id": "d0e40bf4-ae9d-4b58-987a-fc5c0cc21e39",
   "metadata": {},
   "outputs": [],
   "source": [
    "class Person:                       # class definition\n",
    "    def __init__(self, n, a):       # constructor\n",
    "        self.name = n               # self.name -> instance variables\n",
    "        self.age = a\n",
    "    def show(self):                 # function / method\n",
    "        print('Values are:')\n",
    "        print(self.name, self.age)\n",
    "    def isEligible(self):\n",
    "        if self.age >= 18:\n",
    "            return True\n",
    "        else:\n",
    "            return False"
   ]
  },
  {
   "cell_type": "code",
   "execution_count": 15,
   "id": "9831236d-4c65-419f-9808-7b1415779ef7",
   "metadata": {},
   "outputs": [
    {
     "data": {
      "text/plain": [
       "False"
      ]
     },
     "execution_count": 15,
     "metadata": {},
     "output_type": "execute_result"
    }
   ],
   "source": [
    "p2 = Person('sunil',17)\n",
    "p2.isEligible()"
   ]
  },
  {
   "cell_type": "code",
   "execution_count": 16,
   "id": "a1c6fb03-ef6d-4809-b642-bd76d622bcd7",
   "metadata": {},
   "outputs": [],
   "source": [
    "class Person:                       # class definition\n",
    "    def __init__(self, n, a=25):    # constructor\n",
    "        self.name = n               # self.name -> instance variables\n",
    "        self.age = a\n",
    "    def show(self):                 # function / method\n",
    "        print('Values are:')\n",
    "        print(self.name, self.age)\n",
    "    def isEligible(self):\n",
    "        if self.age >= 18:\n",
    "            return True\n",
    "        else:\n",
    "            return False"
   ]
  },
  {
   "cell_type": "code",
   "execution_count": 17,
   "id": "8157cae7-2d01-4f6d-a5ff-4b13b09424d5",
   "metadata": {},
   "outputs": [
    {
     "name": "stdout",
     "output_type": "stream",
     "text": [
      "Values are:\n",
      "Raj 25\n"
     ]
    }
   ],
   "source": [
    "p4 = Person('Raj')\n",
    "p4.show()"
   ]
  },
  {
   "cell_type": "code",
   "execution_count": 18,
   "id": "aac11ff6-9257-415b-899c-f0b8d49165f0",
   "metadata": {},
   "outputs": [
    {
     "data": {
      "text/plain": [
       "True"
      ]
     },
     "execution_count": 18,
     "metadata": {},
     "output_type": "execute_result"
    }
   ],
   "source": [
    "p4.isEligible()"
   ]
  },
  {
   "cell_type": "code",
   "execution_count": null,
   "id": "539c6bf7-2a79-421c-a855-b6af48896bc0",
   "metadata": {},
   "outputs": [],
   "source": []
  }
 ],
 "metadata": {
  "kernelspec": {
   "display_name": "Python 3 (ipykernel)",
   "language": "python",
   "name": "python3"
  },
  "language_info": {
   "codemirror_mode": {
    "name": "ipython",
    "version": 3
   },
   "file_extension": ".py",
   "mimetype": "text/x-python",
   "name": "python",
   "nbconvert_exporter": "python",
   "pygments_lexer": "ipython3",
   "version": "3.10.12"
  }
 },
 "nbformat": 4,
 "nbformat_minor": 5
}
